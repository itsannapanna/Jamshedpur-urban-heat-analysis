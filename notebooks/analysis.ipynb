{
  "nbformat": 4,
  "nbformat_minor": 0,
  "metadata": {
    "colab": {
      "provenance": []
    },
    "kernelspec": {
      "name": "python3",
      "display_name": "Python 3"
    },
    "language_info": {
      "name": "python"
    }
  },
  "cells": [
    {
      "cell_type": "code",
      "source": [
        "pip install osmnx"
      ],
      "metadata": {
        "colab": {
          "base_uri": "https://localhost:8080/",
          "height": 358
        },
        "id": "1Elx0gFfr5Xl",
        "outputId": "274f6591-ec76-443c-c3b0-93a1819f3e0a"
      },
      "execution_count": 47,
      "outputs": [
        {
          "output_type": "display_data",
          "data": {
            "text/plain": [
              "<IPython.core.display.HTML object>"
            ],
            "text/html": [
              "\n",
              "            <style>\n",
              "                .geemap-dark {\n",
              "                    --jp-widgets-color: white;\n",
              "                    --jp-widgets-label-color: white;\n",
              "                    --jp-ui-font-color1: white;\n",
              "                    --jp-layout-color2: #454545;\n",
              "                    background-color: #383838;\n",
              "                }\n",
              "\n",
              "                .geemap-dark .jupyter-button {\n",
              "                    --jp-layout-color3: #383838;\n",
              "                }\n",
              "\n",
              "                .geemap-colab {\n",
              "                    background-color: var(--colab-primary-surface-color, white);\n",
              "                }\n",
              "\n",
              "                .geemap-colab .jupyter-button {\n",
              "                    --jp-layout-color3: var(--colab-primary-surface-color, white);\n",
              "                }\n",
              "            </style>\n",
              "            "
            ]
          },
          "metadata": {}
        },
        {
          "output_type": "stream",
          "name": "stdout",
          "text": [
            "Requirement already satisfied: osmnx in /usr/local/lib/python3.12/dist-packages (2.0.6)\n",
            "Requirement already satisfied: geopandas>=1.0.1 in /usr/local/lib/python3.12/dist-packages (from osmnx) (1.1.1)\n",
            "Requirement already satisfied: networkx>=2.5 in /usr/local/lib/python3.12/dist-packages (from osmnx) (3.5)\n",
            "Requirement already satisfied: numpy>=1.22 in /usr/local/lib/python3.12/dist-packages (from osmnx) (2.0.2)\n",
            "Requirement already satisfied: pandas>=1.4 in /usr/local/lib/python3.12/dist-packages (from osmnx) (2.2.2)\n",
            "Requirement already satisfied: requests>=2.27 in /usr/local/lib/python3.12/dist-packages (from osmnx) (2.32.4)\n",
            "Requirement already satisfied: shapely>=2.0 in /usr/local/lib/python3.12/dist-packages (from osmnx) (2.1.1)\n",
            "Requirement already satisfied: pyogrio>=0.7.2 in /usr/local/lib/python3.12/dist-packages (from geopandas>=1.0.1->osmnx) (0.11.1)\n",
            "Requirement already satisfied: packaging in /usr/local/lib/python3.12/dist-packages (from geopandas>=1.0.1->osmnx) (25.0)\n",
            "Requirement already satisfied: pyproj>=3.5.0 in /usr/local/lib/python3.12/dist-packages (from geopandas>=1.0.1->osmnx) (3.7.2)\n",
            "Requirement already satisfied: python-dateutil>=2.8.2 in /usr/local/lib/python3.12/dist-packages (from pandas>=1.4->osmnx) (2.9.0.post0)\n",
            "Requirement already satisfied: pytz>=2020.1 in /usr/local/lib/python3.12/dist-packages (from pandas>=1.4->osmnx) (2025.2)\n",
            "Requirement already satisfied: tzdata>=2022.7 in /usr/local/lib/python3.12/dist-packages (from pandas>=1.4->osmnx) (2025.2)\n",
            "Requirement already satisfied: charset_normalizer<4,>=2 in /usr/local/lib/python3.12/dist-packages (from requests>=2.27->osmnx) (3.4.3)\n",
            "Requirement already satisfied: idna<4,>=2.5 in /usr/local/lib/python3.12/dist-packages (from requests>=2.27->osmnx) (3.10)\n",
            "Requirement already satisfied: urllib3<3,>=1.21.1 in /usr/local/lib/python3.12/dist-packages (from requests>=2.27->osmnx) (2.5.0)\n",
            "Requirement already satisfied: certifi>=2017.4.17 in /usr/local/lib/python3.12/dist-packages (from requests>=2.27->osmnx) (2025.8.3)\n",
            "Requirement already satisfied: six>=1.5 in /usr/local/lib/python3.12/dist-packages (from python-dateutil>=2.8.2->pandas>=1.4->osmnx) (1.17.0)\n"
          ]
        }
      ]
    },
    {
      "cell_type": "code",
      "source": [
        "import osmnx as ox\n",
        "import geopandas as gpd\n",
        "\n",
        "#Jamshedpur falls under East Singhbhum district\n",
        "city_name = \"East Singhbhum, Jharkhand, India\"\n",
        "gdf = ox.geocode_to_gdf(city_name)\n",
        "\n",
        "#Save as GeoJSON properly\n",
        "gdf.to_file(\"jsr_boundary.geojson\", driver=\"GeoJSON\")\n",
        "\n",
        "#Load again with geopandas\n",
        "city_boundary = gpd.read_file(\"jsr_boundary.geojson\")\n",
        "\n",
        "print(city_boundary.crs)\n",
        "city_boundary.plot()\n"
      ],
      "metadata": {
        "colab": {
          "base_uri": "https://localhost:8080/",
          "height": 466
        },
        "outputId": "e7a295ec-e759-485c-d737-3066fe722e39",
        "id": "i2HkMFVEZqw9"
      },
      "execution_count": 50,
      "outputs": [
        {
          "output_type": "display_data",
          "data": {
            "text/plain": [
              "<IPython.core.display.HTML object>"
            ],
            "text/html": [
              "\n",
              "            <style>\n",
              "                .geemap-dark {\n",
              "                    --jp-widgets-color: white;\n",
              "                    --jp-widgets-label-color: white;\n",
              "                    --jp-ui-font-color1: white;\n",
              "                    --jp-layout-color2: #454545;\n",
              "                    background-color: #383838;\n",
              "                }\n",
              "\n",
              "                .geemap-dark .jupyter-button {\n",
              "                    --jp-layout-color3: #383838;\n",
              "                }\n",
              "\n",
              "                .geemap-colab {\n",
              "                    background-color: var(--colab-primary-surface-color, white);\n",
              "                }\n",
              "\n",
              "                .geemap-colab .jupyter-button {\n",
              "                    --jp-layout-color3: var(--colab-primary-surface-color, white);\n",
              "                }\n",
              "            </style>\n",
              "            "
            ]
          },
          "metadata": {}
        },
        {
          "output_type": "stream",
          "name": "stdout",
          "text": [
            "EPSG:4326\n"
          ]
        },
        {
          "output_type": "execute_result",
          "data": {
            "text/plain": [
              "<Axes: >"
            ]
          },
          "metadata": {},
          "execution_count": 50
        },
        {
          "output_type": "display_data",
          "data": {
            "text/plain": [
              "<Figure size 640x480 with 1 Axes>"
            ],
            "image/png": "[encoded data removed]"
          },
          "metadata": {}
        }
      ]
    },
    {
      "cell_type": "markdown",
      "source": [
        "# GEE Processing"
      ],
      "metadata": {
        "id": "NJlmyn_k72CV"
      }
    },
    {
      "cell_type": "code",
      "source": [
        "import ee\n",
        "\n",
        "ee.Authenticate()\n",
        "ee.Initialize(project=\"gee-jsr\")\n",
        "\n",
        "#1. Converting GeoJSON to GEE geometry\n",
        "city_boundary = gpd.read_file('jsr_boundary.geojson')\n",
        "aoi_geometry = city_boundary.geometry.iloc[0].__geo_interface__\n",
        "aoi = ee.Geometry.Polygon(aoi_geometry['coordinates'])\n",
        "\n",
        "#2. Filtering the Landsat Image Collection ---\n",
        "collection = ee.ImageCollection('LANDSAT/LC09/C02/T1_L2') \\\n",
        "    .filterBounds(aoi) \\\n",
        "    .filterDate('2025-04-01', '2025-06-30') \\\n",
        "    .filter(ee.Filter.lt('CLOUD_COVER', 10))\n",
        "\n",
        "#3. Median composite\n",
        "image = collection.median()"
      ],
      "metadata": {
        "colab": {
          "base_uri": "https://localhost:8080/",
          "height": 17
        },
        "outputId": "bf03aeee-4efa-41bb-c43c-c84c8cf5cbf3",
        "id": "SNp81VrfZ2N1"
      },
      "execution_count": 62,
      "outputs": [
        {
          "output_type": "display_data",
          "data": {
            "text/plain": [
              "<IPython.core.display.HTML object>"
            ],
            "text/html": [
              "\n",
              "            <style>\n",
              "                .geemap-dark {\n",
              "                    --jp-widgets-color: white;\n",
              "                    --jp-widgets-label-color: white;\n",
              "                    --jp-ui-font-color1: white;\n",
              "                    --jp-layout-color2: #454545;\n",
              "                    background-color: #383838;\n",
              "                }\n",
              "\n",
              "                .geemap-dark .jupyter-button {\n",
              "                    --jp-layout-color3: #383838;\n",
              "                }\n",
              "\n",
              "                .geemap-colab {\n",
              "                    background-color: var(--colab-primary-surface-color, white);\n",
              "                }\n",
              "\n",
              "                .geemap-colab .jupyter-button {\n",
              "                    --jp-layout-color3: var(--colab-primary-surface-color, white);\n",
              "                }\n",
              "            </style>\n",
              "            "
            ]
          },
          "metadata": {}
        }
      ]
    },
    {
      "cell_type": "markdown",
      "source": [
        "## NDVI (Normalized Difference Vegetation Index)"
      ],
      "metadata": {
        "id": "40-gjyRp6hau"
      }
    },
    {
      "cell_type": "code",
      "source": [
        "#Selecting Band 5 (SR_B5) from the Landsat 9 satellite image, which is the layer that specifically measures Near-Infrared (NIR) light\n",
        "nir = image.select('SR_B5')\n",
        "#Selecting Band 4 (SR_B4), which is the layer that measures visible Red light\n",
        "red = image.select('SR_B4')\n",
        "ndvi = nir.subtract(red).divide(nir.add(red)).rename('NDVI')"
      ],
      "metadata": {
        "colab": {
          "base_uri": "https://localhost:8080/",
          "height": 17
        },
        "id": "B-dYNan_6yXY",
        "outputId": "6474e7e1-edec-4ae4-d188-4216563b04ab"
      },
      "execution_count": 63,
      "outputs": [
        {
          "output_type": "display_data",
          "data": {
            "text/plain": [
              "<IPython.core.display.HTML object>"
            ],
            "text/html": [
              "\n",
              "            <style>\n",
              "                .geemap-dark {\n",
              "                    --jp-widgets-color: white;\n",
              "                    --jp-widgets-label-color: white;\n",
              "                    --jp-ui-font-color1: white;\n",
              "                    --jp-layout-color2: #454545;\n",
              "                    background-color: #383838;\n",
              "                }\n",
              "\n",
              "                .geemap-dark .jupyter-button {\n",
              "                    --jp-layout-color3: #383838;\n",
              "                }\n",
              "\n",
              "                .geemap-colab {\n",
              "                    background-color: var(--colab-primary-surface-color, white);\n",
              "                }\n",
              "\n",
              "                .geemap-colab .jupyter-button {\n",
              "                    --jp-layout-color3: var(--colab-primary-surface-color, white);\n",
              "                }\n",
              "            </style>\n",
              "            "
            ]
          },
          "metadata": {}
        }
      ]
    },
    {
      "cell_type": "markdown",
      "source": [
        "## Land Surface Temperature (LST)"
      ],
      "metadata": {
        "id": "Xlbingbs61t9"
      }
    },
    {
      "cell_type": "code",
      "source": [
        "thermal_band = image.select('ST_B10')\n",
        "lst = thermal_band.multiply(0.00341802).add(149.0).subtract(273.15).rename('LST')"
      ],
      "metadata": {
        "colab": {
          "base_uri": "https://localhost:8080/",
          "height": 17
        },
        "id": "CKcCk_aS65Hr",
        "outputId": "279ac32d-f68c-406a-e33a-f832eb47082b"
      },
      "execution_count": 64,
      "outputs": [
        {
          "output_type": "display_data",
          "data": {
            "text/plain": [
              "<IPython.core.display.HTML object>"
            ],
            "text/html": [
              "\n",
              "            <style>\n",
              "                .geemap-dark {\n",
              "                    --jp-widgets-color: white;\n",
              "                    --jp-widgets-label-color: white;\n",
              "                    --jp-ui-font-color1: white;\n",
              "                    --jp-layout-color2: #454545;\n",
              "                    background-color: #383838;\n",
              "                }\n",
              "\n",
              "                .geemap-dark .jupyter-button {\n",
              "                    --jp-layout-color3: #383838;\n",
              "                }\n",
              "\n",
              "                .geemap-colab {\n",
              "                    background-color: var(--colab-primary-surface-color, white);\n",
              "                }\n",
              "\n",
              "                .geemap-colab .jupyter-button {\n",
              "                    --jp-layout-color3: var(--colab-primary-surface-color, white);\n",
              "                }\n",
              "            </style>\n",
              "            "
            ]
          },
          "metadata": {}
        }
      ]
    },
    {
      "cell_type": "markdown",
      "source": [
        "## Clipping to Area of Interest"
      ],
      "metadata": {
        "id": "GjbxMOi87gNc"
      }
    },
    {
      "cell_type": "code",
      "source": [
        "final_ndvi = ndvi.clip(aoi)\n",
        "final_lst = lst.clip(aoi)\n",
        "print(\"GEE processing complete! Ready to export or visualize.\")"
      ],
      "metadata": {
        "colab": {
          "base_uri": "https://localhost:8080/",
          "height": 35
        },
        "id": "BskQqIFn7sf5",
        "outputId": "05c77413-159d-40eb-c290-c1269a877103"
      },
      "execution_count": 65,
      "outputs": [
        {
          "output_type": "display_data",
          "data": {
            "text/plain": [
              "<IPython.core.display.HTML object>"
            ],
            "text/html": [
              "\n",
              "            <style>\n",
              "                .geemap-dark {\n",
              "                    --jp-widgets-color: white;\n",
              "                    --jp-widgets-label-color: white;\n",
              "                    --jp-ui-font-color1: white;\n",
              "                    --jp-layout-color2: #454545;\n",
              "                    background-color: #383838;\n",
              "                }\n",
              "\n",
              "                .geemap-dark .jupyter-button {\n",
              "                    --jp-layout-color3: #383838;\n",
              "                }\n",
              "\n",
              "                .geemap-colab {\n",
              "                    background-color: var(--colab-primary-surface-color, white);\n",
              "                }\n",
              "\n",
              "                .geemap-colab .jupyter-button {\n",
              "                    --jp-layout-color3: var(--colab-primary-surface-color, white);\n",
              "                }\n",
              "            </style>\n",
              "            "
            ]
          },
          "metadata": {}
        },
        {
          "output_type": "stream",
          "name": "stdout",
          "text": [
            "GEE processing complete! Ready to export or visualize.\n"
          ]
        }
      ]
    },
    {
      "cell_type": "markdown",
      "source": [
        "##"
      ],
      "metadata": {
        "id": "AULHAMoT68-j"
      }
    },
    {
      "cell_type": "code",
      "source": [
        "import folium\n",
        "from geemap import foliumap\n",
        "\n",
        "#Visualization parameters\n",
        "ndvi_vis = {'min': 0, 'max': 1, 'palette': ['white', 'green']}\n",
        "lst_vis = {'min': 20, 'max': 45, 'palette': ['blue', 'yellow', 'red']}"
      ],
      "metadata": {
        "colab": {
          "base_uri": "https://localhost:8080/",
          "height": 581
        },
        "outputId": "46d38626-7dd5-4354-eac8-4f2f4ad28fed",
        "id": "xxPJjba-aIMo"
      },
      "execution_count": 52,
      "outputs": [
        {
          "output_type": "display_data",
          "data": {
            "text/plain": [
              "<IPython.core.display.HTML object>"
            ],
            "text/html": [
              "\n",
              "            <style>\n",
              "                .geemap-dark {\n",
              "                    --jp-widgets-color: white;\n",
              "                    --jp-widgets-label-color: white;\n",
              "                    --jp-ui-font-color1: white;\n",
              "                    --jp-layout-color2: #454545;\n",
              "                    background-color: #383838;\n",
              "                }\n",
              "\n",
              "                .geemap-dark .jupyter-button {\n",
              "                    --jp-layout-color3: #383838;\n",
              "                }\n",
              "\n",
              "                .geemap-colab {\n",
              "                    background-color: var(--colab-primary-surface-color, white);\n",
              "                }\n",
              "\n",
              "                .geemap-colab .jupyter-button {\n",
              "                    --jp-layout-color3: var(--colab-primary-surface-color, white);\n",
              "                }\n",
              "            </style>\n",
              "            "
            ]
          },
          "metadata": {}
        },
        {
          "output_type": "stream",
          "name": "stderr",
          "text": [
            "/tmp/ipython-input-4045693217.py:10: UserWarning: Geometry is in a geographic CRS. Results from 'centroid' are likely incorrect. Use 'GeoSeries.to_crs()' to re-project geometries to a projected CRS before this operation.\n",
            "\n",
            "  map_center = [city_boundary.centroid.y.iloc[0], city_boundary.centroid.x.iloc[0]]\n"
          ]
        },
        {
          "output_type": "execute_result",
          "data": {
            "text/plain": [
              "<folium.folium.Map at 0x7e9b8867d130>"
            ],
            "text/html": [
              "<div style=\"width:100%;\"><div style=\"position:relative;width:100%;height:0;padding-bottom:60%;\"><span style=\"color:#565656\">Make this Notebook Trusted to load map: File -> Trust Notebook</span><iframe srcdoc=\"&lt;!DOCTYPE html&gt;\n",
              "&lt;html&gt;\n",
              "&lt;head&gt;\n",
              "    \n",
              "    &lt;meta http-equiv=&quot;content-type&quot; content=&quot;text/html; charset=UTF-8&quot; /&gt;\n",
              "    &lt;script src=&quot;https://cdn.jsdelivr.net/npm/leaflet@1.9.3/dist/leaflet.js&quot;&gt;&lt;/script&gt;\n",
              "    &lt;script src=&quot;https://code.jquery.com/jquery-3.7.1.min.js&quot;&gt;&lt;/script&gt;\n",
              "    &lt;script src=&quot;https://cdn.jsdelivr.net/npm/bootstrap@5.2.2/dist/js/bootstrap.bundle.min.js&quot;&gt;&lt;/script&gt;\n",
              "    &lt;script src=&quot;https://cdnjs.cloudflare.com/ajax/libs/Leaflet.awesome-markers/2.0.2/leaflet.awesome-markers.js&quot;&gt;&lt;/script&gt;\n",
              "    &lt;link rel=&quot;stylesheet&quot; href=&quot;https://cdn.jsdelivr.net/npm/leaflet@1.9.3/dist/leaflet.css&quot;/&gt;\n",
              "    &lt;link rel=&quot;stylesheet&quot; href=&quot;https://cdn.jsdelivr.net/npm/bootstrap@5.2.2/dist/css/bootstrap.min.css&quot;/&gt;\n",
              "    &lt;link rel=&quot;stylesheet&quot; href=&quot;https://netdna.bootstrapcdn.com/bootstrap/3.0.0/css/bootstrap-glyphicons.css&quot;/&gt;\n",
              "    &lt;link rel=&quot;stylesheet&quot; href=&quot;https://cdn.jsdelivr.net/npm/@fortawesome/fontawesome-free@6.2.0/css/all.min.css&quot;/&gt;\n",
              "    &lt;link rel=&quot;stylesheet&quot; href=&quot;https://cdnjs.cloudflare.com/ajax/libs/Leaflet.awesome-markers/2.0.2/leaflet.awesome-markers.css&quot;/&gt;\n",
              "    &lt;link rel=&quot;stylesheet&quot; href=&quot;https://cdn.jsdelivr.net/gh/python-visualization/folium/folium/templates/leaflet.awesome.rotate.min.css&quot;/&gt;\n",
              "    \n",
              "            &lt;meta name=&quot;viewport&quot; content=&quot;width=device-width,\n",
              "                initial-scale=1.0, maximum-scale=1.0, user-scalable=no&quot; /&gt;\n",
              "            &lt;style&gt;\n",
              "                #map_95fd95da4b44fad6786efc467f527229 {\n",
              "                    position: relative;\n",
              "                    width: 100.0%;\n",
              "                    height: 100.0%;\n",
              "                    left: 0.0%;\n",
              "                    top: 0.0%;\n",
              "                }\n",
              "                .leaflet-container { font-size: 1rem; }\n",
              "            &lt;/style&gt;\n",
              "\n",
              "            &lt;style&gt;html, body {\n",
              "                width: 100%;\n",
              "                height: 100%;\n",
              "                margin: 0;\n",
              "                padding: 0;\n",
              "            }\n",
              "            &lt;/style&gt;\n",
              "\n",
              "            &lt;style&gt;#map {\n",
              "                position:absolute;\n",
              "                top:0;\n",
              "                bottom:0;\n",
              "                right:0;\n",
              "                left:0;\n",
              "                }\n",
              "            &lt;/style&gt;\n",
              "\n",
              "            &lt;script&gt;\n",
              "                L_NO_TOUCH = false;\n",
              "                L_DISABLE_3D = false;\n",
              "            &lt;/script&gt;\n",
              "\n",
              "        \n",
              "&lt;/head&gt;\n",
              "&lt;body&gt;\n",
              "    \n",
              "    \n",
              "            &lt;div class=&quot;folium-map&quot; id=&quot;map_95fd95da4b44fad6786efc467f527229&quot; &gt;&lt;/div&gt;\n",
              "        \n",
              "&lt;/body&gt;\n",
              "&lt;script&gt;\n",
              "    \n",
              "    \n",
              "            var map_95fd95da4b44fad6786efc467f527229 = L.map(\n",
              "                &quot;map_95fd95da4b44fad6786efc467f527229&quot;,\n",
              "                {\n",
              "                    center: [22.582955600762606, 86.45073678010894],\n",
              "                    crs: L.CRS.EPSG3857,\n",
              "                    ...{\n",
              "  &quot;zoom&quot;: 10,\n",
              "  &quot;zoomControl&quot;: true,\n",
              "  &quot;preferCanvas&quot;: false,\n",
              "}\n",
              "\n",
              "                }\n",
              "            );\n",
              "\n",
              "            \n",
              "\n",
              "        \n",
              "    \n",
              "            var tile_layer_f445205b4d71db817dd5615b6dd9dd8b = L.tileLayer(\n",
              "                &quot;https://tile.openstreetmap.org/{z}/{x}/{y}.png&quot;,\n",
              "                {\n",
              "  &quot;minZoom&quot;: 0,\n",
              "  &quot;maxZoom&quot;: 19,\n",
              "  &quot;maxNativeZoom&quot;: 19,\n",
              "  &quot;noWrap&quot;: false,\n",
              "  &quot;attribution&quot;: &quot;\\u0026copy; \\u003ca href=\\&quot;https://www.openstreetmap.org/copyright\\&quot;\\u003eOpenStreetMap\\u003c/a\\u003e contributors&quot;,\n",
              "  &quot;subdomains&quot;: &quot;abc&quot;,\n",
              "  &quot;detectRetina&quot;: false,\n",
              "  &quot;tms&quot;: false,\n",
              "  &quot;opacity&quot;: 1,\n",
              "}\n",
              "\n",
              "            );\n",
              "        \n",
              "    \n",
              "            tile_layer_f445205b4d71db817dd5615b6dd9dd8b.addTo(map_95fd95da4b44fad6786efc467f527229);\n",
              "        \n",
              "    \n",
              "            var tile_layer_92c906022585fb444b24e88e99bdd0f8 = L.tileLayer(\n",
              "                &quot;https://earthengine.googleapis.com/v1/projects/gee-jsr/maps/f9a1c4640f4ec91a22a3cefc93069213-1170e300461b8b01001d4ce69596ab0f/tiles/{z}/{x}/{y}&quot;,\n",
              "                {\n",
              "  &quot;minZoom&quot;: 0,\n",
              "  &quot;maxZoom&quot;: 18,\n",
              "  &quot;maxNativeZoom&quot;: 18,\n",
              "  &quot;noWrap&quot;: false,\n",
              "  &quot;attribution&quot;: &quot;Google Earth Engine&quot;,\n",
              "  &quot;subdomains&quot;: &quot;abc&quot;,\n",
              "  &quot;detectRetina&quot;: false,\n",
              "  &quot;tms&quot;: false,\n",
              "  &quot;opacity&quot;: 1,\n",
              "}\n",
              "\n",
              "            );\n",
              "        \n",
              "    \n",
              "            tile_layer_92c906022585fb444b24e88e99bdd0f8.addTo(map_95fd95da4b44fad6786efc467f527229);\n",
              "        \n",
              "    \n",
              "            var tile_layer_91bc33424863a3abc3c1e2550add796c = L.tileLayer(\n",
              "                &quot;https://earthengine.googleapis.com/v1/projects/gee-jsr/maps/3fc468adbfa323cdbcc66d5658e17edd-8b78b50a48e2f59654d3a8a23fd75387/tiles/{z}/{x}/{y}&quot;,\n",
              "                {\n",
              "  &quot;minZoom&quot;: 0,\n",
              "  &quot;maxZoom&quot;: 18,\n",
              "  &quot;maxNativeZoom&quot;: 18,\n",
              "  &quot;noWrap&quot;: false,\n",
              "  &quot;attribution&quot;: &quot;Google Earth Engine&quot;,\n",
              "  &quot;subdomains&quot;: &quot;abc&quot;,\n",
              "  &quot;detectRetina&quot;: false,\n",
              "  &quot;tms&quot;: false,\n",
              "  &quot;opacity&quot;: 1,\n",
              "}\n",
              "\n",
              "            );\n",
              "        \n",
              "    \n",
              "            tile_layer_91bc33424863a3abc3c1e2550add796c.addTo(map_95fd95da4b44fad6786efc467f527229);\n",
              "        \n",
              "    \n",
              "        function geo_json_92170c359a56a315359947de61a75bad_styler(feature) {\n",
              "            switch(feature.id) {\n",
              "                default:\n",
              "                    return {&quot;color&quot;: &quot;black&quot;, &quot;fill&quot;: false, &quot;weight&quot;: 2};\n",
              "            }\n",
              "        }\n",
              "\n",
              "        function geo_json_92170c359a56a315359947de61a75bad_onEachFeature(feature, layer) {\n",
              "\n",
              "            layer.on({\n",
              "            });\n",
              "        };\n",
              "        var geo_json_92170c359a56a315359947de61a75bad = L.geoJson(null, {\n",
              "                onEachFeature: geo_json_92170c359a56a315359947de61a75bad_onEachFeature,\n",
              "            \n",
              "                style: geo_json_92170c359a56a315359947de61a75bad_styler,\n",
              "            ...{\n",
              "}\n",
              "        });\n",
              "\n",
              "        function geo_json_92170c359a56a315359947de61a75bad_add (data) {\n",
              "            geo_json_92170c359a56a315359947de61a75bad\n",
              "                .addData(data);\n",
              "        }\n",
              "            geo_json_92170c359a56a315359947de61a75bad_add({&quot;features&quot;: [{&quot;geometry&quot;: {&quot;coordinates&quot;: [[[86.0648053, 22.5555258], [86.0656821, 22.5537519], [86.0666798, 22.5516217], [86.068021, 22.5501551], [86.0731172, 22.5463502], [86.076014, 22.5432984], [86.0768402, 22.5412074], [86.0778057, 22.5391067], [86.0795545, 22.537095], [86.081872, 22.5350735], [86.0836959, 22.5324078], [86.0857772, 22.5307727], [86.0876334, 22.5270663], [86.0885239, 22.526432], [86.0895753, 22.5251338], [86.0941243, 22.5201686], [86.0953581, 22.5160457], [86.096549, 22.5107135], [86.0978043, 22.5098413], [86.0986626, 22.5096331], [86.099591, 22.5087686], [86.1015165, 22.5045683], [86.1018491, 22.5029328], [86.1021173, 22.5007224], [86.1031258, 22.4998997], [86.1044025, 22.4986013], [86.1083722, 22.4939523], [86.1119234, 22.4902747], [86.113404, 22.4892338], [86.1151636, 22.4877964], [86.1169124, 22.4869043], [86.1176419, 22.4866862], [86.1186182, 22.4866169], [86.1195302, 22.4867258], [86.1212575, 22.4878262], [86.1237574, 22.4886291], [86.1260747, 22.4883219], [86.1306666, 22.487628], [86.1340892, 22.487053], [86.1362457, 22.4863293], [86.1393034, 22.4859724], [86.1503219, 22.4833554], [86.1505473, 22.4829489], [86.1492598, 22.4801235], [86.1510301, 22.4802524], [86.1560941, 22.4803615], [86.1571348, 22.480649], [86.1596239, 22.4819675], [86.1600852, 22.4824136], [86.1605036, 22.4825524], [86.1680245, 22.4816304], [86.1689687, 22.4814619], [86.1699986, 22.481561], [86.1728954, 22.4809265], [86.1742687, 22.4804606], [86.1781632, 22.479509], [86.1826157, 22.4779425], [86.1830556, 22.4779227], [86.1835384, 22.4776253], [86.1869931, 22.4763762], [86.1909735, 22.4745024], [86.1939454, 22.4735606], [86.1969733, 22.4723821], [86.1989021, 22.4722222], [86.2005114, 22.4717761], [86.201638, 22.4717661], [86.2022495, 22.4720537], [86.2037086, 22.4725494], [86.2048566, 22.4731145], [86.207794, 22.4735445], [86.2088048, 22.4724701], [86.2121415, 22.4682069], [86.2137079, 22.466462], [86.2140643, 22.4664441], [86.2206173, 22.4677707], [86.221776, 22.46785], [86.2210357, 22.4669577], [86.2195659, 22.4656688], [86.2169158, 22.4633091], [86.2169588, 22.4625655], [86.2175557, 22.4617474], [86.2211216, 22.456795], [86.2238896, 22.453156], [86.2246835, 22.4525413], [86.2304671, 22.4527091], [86.237762, 22.4523628], [86.2472248, 22.4488526], [86.255392, 22.446735], [86.2614512, 22.4451639], [86.2660085, 22.4444339], [86.269176, 22.4424865], [86.2737894, 22.4452829], [86.2772655, 22.4478809], [86.2808704, 22.4487733], [86.2812352, 22.4473851], [86.2828941, 22.4475943], [86.2863421, 22.4412371], [86.2919854, 22.4315782], [86.2972426, 22.4241204], [86.3023495, 22.4226724], [86.3062548, 22.418983], [86.3090873, 22.4138057], [86.3085723, 22.4110087], [86.3091302, 22.4079141], [86.3106107, 22.4056129], [86.3144946, 22.4014072], [86.319344, 22.397261], [86.3229489, 22.3948406], [86.3248586, 22.3918051], [86.3232922, 22.389345], [86.3238287, 22.3864681], [86.3238716, 22.3834722], [86.3241341, 22.3805729], [86.3331628, 22.3752578], [86.340394, 22.3694241], [86.3490188, 22.3627958], [86.3529118, 22.3609459], [86.3579034, 22.3546006], [86.369276, 22.3451143], [86.3725376, 22.3426137], [86.378138, 22.3407877], [86.3882875, 22.334774], [86.4041877, 22.3238175], [86.4137149, 22.3186962], [86.4191865, 22.3166119], [86.4218719, 22.3137402], [86.4284563, 22.3145872], [86.4317178, 22.3069643], [86.4394334, 22.303167], [86.4409331, 22.3030535], [86.4425279, 22.3029327], [86.4443349, 22.3031527], [86.4451074, 22.3094656], [86.4465665, 22.3168898], [86.4462232, 22.3187558], [86.4455412, 22.322282], [86.4461374, 22.325465], [86.4477253, 22.3278072], [86.450901, 22.3277278], [86.4539051, 22.3248298], [86.4589812, 22.325033], [86.4611578, 22.3243931], [86.4623165, 22.3252466], [86.4642691, 22.3249687], [86.4644623, 22.326517], [86.4657497, 22.3277278], [86.4659214, 22.3289584], [86.4699554, 22.3301294], [86.469419, 22.3315982], [86.4702344, 22.333067], [86.4703846, 22.3344762], [86.4729595, 22.3356869], [86.4746869, 22.3366198], [86.4752555, 22.3351113], [86.4758348, 22.3347541], [86.4765751, 22.3351113], [86.4773691, 22.3355083], [86.4789874, 22.3358048], [86.4819181, 22.3368083], [86.483978, 22.3375526], [86.4860487, 22.3381679], [86.4870679, 22.3393786], [86.4867139, 22.3410358], [86.4875797, 22.3438799], [86.4869928, 22.3462257], [86.4872932, 22.3476546], [86.4894819, 22.3479325], [86.4926576, 22.3470989], [86.4955115, 22.3462654], [86.4970135, 22.3472974], [86.4978719, 22.3462059], [86.4996099, 22.3440624], [86.5014903, 22.3428522], [86.5020132, 22.340748], [86.5039873, 22.3396763], [86.5040302, 22.3369969], [86.5068197, 22.3338014], [86.5079355, 22.329276], [86.5083217, 22.3278469], [86.5109396, 22.3266162], [86.5152906, 22.32511], [86.5199947, 22.32348], [86.5229988, 22.3228846], [86.5264749, 22.3233212], [86.5273761, 22.3219318], [86.5269041, 22.3196689], [86.5235625, 22.3186463], [86.5208864, 22.3115101], [86.525445, 22.3073613], [86.5306592, 22.3030732], [86.5319466, 22.3028946], [86.5328479, 22.3006314], [86.5336843, 22.2998967], [86.5366673, 22.3015644], [86.5385985, 22.3035695], [86.5400649, 22.3039279], [86.5396499, 22.3073613], [86.5413236, 22.3079569], [86.5446281, 22.3070834], [86.5455722, 22.3046614], [86.5478897, 22.3031924], [86.5490913, 22.3008498], [86.5511083, 22.2992615], [86.5539955, 22.297717], [86.5572881, 22.2974748], [86.5600347, 22.3004527], [86.5624809, 22.3014851], [86.5661287, 22.3004924], [86.568489, 22.3012071], [86.5708494, 22.3000954], [86.5709781, 22.2975145], [86.5710543, 22.2965101], [86.5755701, 22.2950129], [86.5776729, 22.2952512], [86.5767503, 22.2977328], [86.5768146, 22.2987056], [86.5767288, 22.3003137], [86.5773511, 22.3012865], [86.5804175, 22.3011581], [86.5821147, 22.3014453], [86.5831446, 22.3003733], [86.5835953, 22.298527], [86.5851617, 22.295271], [86.5878868, 22.2940798], [86.587758, 22.2905061], [86.5887666, 22.289295], [86.5892386, 22.2882824], [86.5917063, 22.2869919], [86.5933156, 22.2850064], [86.5939808, 22.2821869], [86.5938735, 22.2807772], [86.5927341, 22.2792658], [86.5940451, 22.2782357], [86.6004824, 22.2785931], [86.6028213, 22.2804595], [86.604023, 22.2818097], [86.6073918, 22.2826833], [86.6089913, 22.2824062], [86.6102457, 22.2833385], [86.6130781, 22.2810552], [86.6152668, 22.2808566], [86.6170478, 22.2810155], [86.6182279, 22.2805389], [86.6176271, 22.279566], [86.6182494, 22.2790299], [86.6194725, 22.2781364], [86.6216397, 22.2775208], [86.6225838, 22.2760316], [86.6237211, 22.2745821], [86.6260385, 22.273629], [86.6266393, 22.2716235], [86.6273904, 22.2701342], [86.6285705, 22.2696576], [86.6294503, 22.2703923], [86.6305661, 22.2717625], [86.6316175, 22.2732517], [86.6338277, 22.2733709], [86.6370678, 22.272517], [86.6394925, 22.2706505], [86.6405225, 22.2687641], [86.6412735, 22.2682478], [86.6424751, 22.2681882], [86.6440201, 22.2683868], [86.6448355, 22.267652], [86.6447711, 22.2663414], [86.6435694, 22.2650308], [86.643784, 22.2639982], [86.644578, 22.2640578], [86.645801, 22.2653684], [86.6470027, 22.2647727], [86.6494603, 22.2636816], [86.6595554, 22.2563329], [86.6532898, 22.2454497], [86.6524744, 22.2398489], [86.6555421, 22.2364284], [86.6598558, 22.2357971], [86.6637894, 22.2397545], [86.6662073, 22.2421528], [86.6707134, 22.2407228], [86.6727733, 22.2324205], [86.6787386, 22.2256274], [86.6848317, 22.222373], [86.6985225, 22.221615], [86.7047452, 22.2213766], [86.7072343, 22.2231643], [86.7100668, 22.2222506], [86.7133283, 22.2202642], [86.7165041, 22.2198272], [86.7194223, 22.2206218], [86.7226624, 22.21941], [86.724962, 22.2180201], [86.7260895, 22.2173259], [86.7271882, 22.2164327], [86.7276624, 22.2161239], [86.7293386, 22.2157929], [86.7308129, 22.2154346], [86.7326643, 22.2155351], [86.7342358, 22.2155383], [86.7359286, 22.2156092], [86.7381588, 22.2154366], [86.740322, 22.2154865], [86.7415968, 22.215832], [86.74295, 22.216174], [86.7440399, 22.2159791], [86.7450743, 22.2152253], [86.7456488, 22.2151311], [86.7463195, 22.214644], [86.7470971, 22.2141028], [86.7485847, 22.2127762], [86.7497791, 22.21169], [86.750543, 22.2116159], [86.7506975, 22.2116009], [86.7519801, 22.2114765], [86.7542196, 22.211435], [86.7579179, 22.2116501], [86.7596376, 22.2120902], [86.7604615, 22.2126289], [86.7625308, 22.2135507], [86.7652917, 22.2152902], [86.7658571, 22.2157524], [86.7679385, 22.2174542], [86.7683265, 22.2178164], [86.7703709, 22.2197252], [86.7706229, 22.2199322], [86.7711367, 22.2203542], [86.7717039, 22.2197937], [86.7723772, 22.218816], [86.7728969, 22.2186605], [86.7739865, 22.2183343], [86.7755048, 22.2179151], [86.7761085, 22.2178393], [86.7764136, 22.2178646], [86.7758425, 22.2201921], [86.7758263, 22.2206903], [86.7760788, 22.2209131], [86.7771502, 22.2215771], [86.7773756, 22.2222888], [86.7773354, 22.2233343], [86.7773749, 22.2255174], [86.7768053, 22.2268597], [86.7757652, 22.2282231], [86.7753884, 22.2290398], [86.7752478, 22.2293089], [86.7746734, 22.2304081], [86.7744339, 22.2309056], [86.7743422, 22.231096], [86.7743369, 22.2322082], [86.7747516, 22.2333406], [86.775066, 22.2339507], [86.7758545, 22.2348128], [86.7772216, 22.2361268], [86.7776753, 22.2365942], [86.779725, 22.236317], [86.781021, 22.236054], [86.7821199, 22.2358292], [86.7822774, 22.2358051], [86.7826605, 22.2357464], [86.7830446, 22.2361921], [86.783174, 22.2363574], [86.7839312, 22.2364112], [86.7860277, 22.2362294], [86.7880948, 22.2360878], [86.7891885, 22.2357259], [86.7895517, 22.2355159], [86.789736, 22.2354094], [86.7898863, 22.2351565], [86.7899658, 22.2345692], [86.7885839, 22.2316562], [86.7891418, 22.2313148], [86.7939263, 22.2283868], [86.7949051, 22.2277877], [86.7932142, 22.2241995], [86.7860305, 22.2298208], [86.7856633, 22.2300378], [86.7847816, 22.2305589], [86.7844693, 22.2305973], [86.781771, 22.2255243], [86.779868, 22.2226591], [86.7796835, 22.2221309], [86.7798309, 22.2209294], [86.7796461, 22.2198892], [86.7792253, 22.2193472], [86.778731, 22.218906], [86.7781858, 22.2184915], [86.7782602, 22.217903], [86.7786493, 22.2173247], [86.7790733, 22.2169155], [86.7801921, 22.216517], [86.7807962, 22.2163018], [86.7833974, 22.2154536], [86.7847385, 22.215052], [86.7890412, 22.2192482], [86.7901408, 22.2187355], [86.7918724, 22.2218277], [86.7932346, 22.2211596], [86.793788, 22.2208882], [86.7959378, 22.2204258], [86.7966954, 22.2199731], [86.7967593, 22.2199349], [86.7967761, 22.2199248], [86.7977749, 22.2194898], [86.7983296, 22.2190747], [86.7988572, 22.2191485], [86.8001793, 22.2183819], [86.8017491, 22.217848], [86.8024146, 22.2175498], [86.8022981, 22.2198472], [86.8025598, 22.2203475], [86.8030452, 22.2206183], [86.8032433, 22.220902], [86.8037038, 22.2227102], [86.804845, 22.2235537], [86.8051033, 22.2243259], [86.8052153, 22.2246606], [86.8055845, 22.2254041], [86.8054626, 22.2253998], [86.8056676, 22.2260126], [86.8061471, 22.2274455], [86.8067382, 22.2291669], [86.8080603, 22.2330168], [86.8083367, 22.233846], [86.8090532, 22.2359958], [86.8102679, 22.2376969], [86.811059, 22.2388073], [86.8112078, 22.2396541], [86.8115037, 22.2408113], [86.811916, 22.2411412], [86.812023, 22.2412268], [86.8102978, 22.2423043], [86.810113, 22.2423645], [86.8082113, 22.2429835], [86.8051103, 22.2432938], [86.8034824, 22.2432207], [86.8001103, 22.2388123], [86.7997178, 22.2383851], [86.7992498, 22.2378756], [86.7981798, 22.2399721], [86.7977696, 22.2406489], [86.7974912, 22.2408266], [86.7970406, 22.2411143], [86.7965779, 22.2414097], [86.79618, 22.2418177], [86.7960309, 22.2421465], [86.7958979, 22.24244], [86.7958843, 22.2425752], [86.795846, 22.2429544], [86.7956196, 22.2431353], [86.7953566, 22.2431259], [86.795016, 22.2431137], [86.7948618, 22.2431694], [86.7951498, 22.2456925], [86.7951603, 22.2457558], [86.7953397, 22.24683], [86.7956414, 22.2475968], [86.7957007, 22.2487403], [86.7948727, 22.249948], [86.7944931, 22.2507192], [86.7940993, 22.2522223], [86.7940863, 22.253235], [86.7940579, 22.2554674], [86.7938352, 22.2581856], [86.793737, 22.2593834], [86.7931585, 22.2619387], [86.7927777, 22.2636208], [86.7923701, 22.2657388], [86.7922617, 22.266302], [86.7931341, 22.2662094], [86.7950497, 22.266006], [86.7988334, 22.2657141], [86.7996828, 22.2650535], [86.8011121, 22.2651971], [86.8009754, 22.264536], [86.8009022, 22.2641823], [86.8006145, 22.2621713], [86.8006171, 22.2609986], [86.800621, 22.2592691], [86.8004918, 22.2577874], [86.8001551, 22.2563943], [86.7998913, 22.2553027], [86.7991513, 22.2526536], [86.7993544, 22.2525703], [86.7998182, 22.2523798], [86.7996199, 22.2515465], [86.7996172, 22.2515353], [86.799079, 22.2507548], [86.7990462, 22.2501223], [86.7988386, 22.2491827], [86.7980045, 22.248314], [86.7980059, 22.2470216], [86.7988526, 22.2456307], [86.7999512, 22.2446105], [86.8009033, 22.24425], [86.8019622, 22.2440252], [86.8039925, 22.2435846], [86.8052047, 22.2450772], [86.807203, 22.2472305], [86.8086997, 22.2463191], [86.8090586, 22.2466359], [86.8105895, 22.2498732], [86.8106531, 22.2501225], [86.8091646, 22.2502523], [86.8096232, 22.251012], [86.8103524, 22.2524423], [86.811625, 22.2577742], [86.8120499, 22.2599009], [86.8124685, 22.2619061], [86.8130545, 22.2646109], [86.8135367, 22.2671049], [86.8135921, 22.267391], [86.8149373, 22.2670621], [86.814933, 22.2667341], [86.8148748, 22.2623342], [86.8156515, 22.2592823], [86.8158102, 22.2586586], [86.8166966, 22.2545462], [86.8175618, 22.2539359], [86.8182516, 22.2537202], [86.818671, 22.2537257], [86.8191845, 22.2545316], [86.8196087, 22.2556342], [86.8200965, 22.2569534], [86.8202123, 22.2574424], [86.8203651, 22.2580875], [86.8209714, 22.2596696], [86.8217396, 22.2613419], [86.8226074, 22.264914], [86.8230995, 22.2662135], [86.8232328, 22.2664801], [86.8233452, 22.2667047], [86.823675, 22.2666996], [86.8239556, 22.2667552], [86.8241969, 22.266759], [86.8243656, 22.2666782], [86.8246005, 22.2665603], [86.8248139, 22.2664336], [86.8253109, 22.266416], [86.8253213, 22.2664156], [86.8258242, 22.2662125], [86.8261536, 22.2659976], [86.8263672, 22.2657734], [86.8265812, 22.2656565], [86.8268826, 22.2656087], [86.8273615, 22.2655481], [86.8275471, 22.2653885], [86.8276403, 22.2652673], [86.8278049, 22.2650062], [86.8278971, 22.2648655], [86.8280068, 22.2647581], [86.8283273, 22.2646754], [86.8285063, 22.2645893], [86.8287532, 22.2643001], [86.8288865, 22.2641429], [86.8291113, 22.2639328], [86.8292695, 22.2638525], [86.8294943, 22.2638423], [86.829778, 22.2637564], [86.8298915, 22.2636802], [86.8299805, 22.2636204], [86.8302926, 22.2634747], [86.8305049, 22.263426], [86.8306885, 22.26333], [86.830831, 22.2632504], [86.8309288, 22.2632167], [86.8310765, 22.2632344], [86.8312167, 22.263311], [86.8314202, 22.2633945], [86.8316627, 22.2634225], [86.8319679, 22.2634478], [86.8322776, 22.2634582], [86.8326356, 22.2634908], [86.8328457, 22.2635008], [86.8332604, 22.2637161], [86.8334226, 22.2639136], [86.8335004, 22.2639979], [86.8335491, 22.2641274], [86.8337391, 22.2642554], [86.8338295, 22.2642806], [86.8340872, 22.2642982], [86.8342144, 22.2643266], [86.8343703, 22.2644024], [86.8345165, 22.2644934], [86.8346501, 22.2646434], [86.8347359, 22.264781], [86.834861, 22.264868], [86.8351338, 22.2648752], [86.8357007, 22.2648934], [86.8359614, 22.2649694], [86.8361382, 22.2650444], [86.8364261, 22.2651387], [86.8367592, 22.2651967], [86.8369298, 22.2652524], [86.837189, 22.2652993], [86.8374042, 22.2654066], [86.8375873, 22.2656031], [86.8378411, 22.2656453], [86.8380516, 22.2655626], [86.8381254, 22.2654715], [86.8382586, 22.2652119], [86.8385317, 22.2652239], [86.8388113, 22.26526], [86.8390039, 22.2652367], [86.8390949, 22.2650716], [86.8392149, 22.2648614], [86.8393327, 22.2647097], [86.83962, 22.2646919], [86.8398739, 22.2646365], [86.8400811, 22.2644906], [86.8401352, 22.2643223], [86.8401079, 22.2642016], [86.8400858, 22.2640585], [86.8400525, 22.2638432], [86.839992, 22.2635874], [86.8399711, 22.263286], [86.8400549, 22.2629847], [86.8400691, 22.2627548], [86.8401707, 22.2625942], [86.8403235, 22.2625092], [86.840431, 22.2624605], [86.8405397, 22.2624361], [86.8407767, 22.2624595], [86.8409801, 22.2624405], [86.8411007, 22.2623424], [86.8411913, 22.26227], [86.8413222, 22.262269], [86.8413946, 22.2622854], [86.8416086, 22.2623341], [86.8418273, 22.2623095], [86.8419388, 22.2622362], [86.8420153, 22.2620962], [86.842106, 22.2619263], [86.8422552, 22.2617732], [86.8423868, 22.2616843], [86.8427138, 22.2616256], [86.84285, 22.2616244], [86.8430148, 22.2616706], [86.8431738, 22.2618048], [86.8432999, 22.2619113], [86.8433965, 22.2619557], [86.84357, 22.2619673], [86.8437747, 22.2619727], [86.8438554, 22.2620129], [86.8439535, 22.2620865], [86.8439568, 22.2621498], [86.8439622, 22.262252], [86.8439505, 22.2623305], [86.8438646, 22.2624905], [86.8438475, 22.2625644], [86.8438431, 22.2626817], [86.8439147, 22.2628491], [86.8440348, 22.2629412], [86.8441906, 22.2629147], [86.8443579, 22.2629071], [86.8444839, 22.2629112], [86.8445303, 22.2629969], [86.8446131, 22.2631784], [86.8448094, 22.2633256], [86.8451312, 22.2634671], [86.8455122, 22.2635377], [86.845783, 22.2635059], [86.8460653, 22.2634931], [86.8462137, 22.2635254], [86.8463457, 22.2636463], [86.8464745, 22.2639038], [86.8465548, 22.2640367], [86.8467768, 22.2640754], [86.8470242, 22.263996], [86.8471923, 22.263803], [86.8472948, 22.2637594], [86.8475337, 22.2637193], [86.8477278, 22.2636227], [86.8478989, 22.2634882], [86.8481384, 22.2634578], [86.8484739, 22.2634621], [86.8486517, 22.2634541], [86.8488245, 22.2633812], [86.8490926, 22.2632683], [86.8494213, 22.2633412], [86.8495215, 22.2634537], [86.8495462, 22.2637257], [86.8493916, 22.2639766], [86.8494864, 22.2641869], [86.8498375, 22.264288], [86.8500298, 22.2643573], [86.8502078, 22.2645541], [86.8504981, 22.265097], [86.8507786, 22.2652501], [86.8510907, 22.2652067], [86.8512947, 22.2650999], [86.8514799, 22.265033], [86.8517611, 22.2650007], [86.8521263, 22.2647696], [86.8521466, 22.2646566], [86.8521669, 22.2645434], [86.8521542, 22.2643001], [86.8521973, 22.2637227], [86.8519856, 22.2634811], [86.8519802, 22.2633789], [86.8520309, 22.2632961], [86.8521455, 22.2632324], [86.8524404, 22.2631605], [86.8526659, 22.2631137], [86.8528338, 22.2630184], [86.8529142, 22.2629676], [86.8530088, 22.262908], [86.8530913, 22.2628311], [86.8531228, 22.2626834], [86.8531663, 22.2624619], [86.8532326, 22.2623784], [86.8534025, 22.2623195], [86.8536077, 22.2621859], [86.8536867, 22.2620433], [86.8537351, 22.2619167], [86.8538022, 22.2618478], [86.8540986, 22.2618052], [86.8542159, 22.2617925], [86.85452, 22.2615958], [86.8546956, 22.2613465], [86.8549859, 22.261187], [86.8554571, 22.2611803], [86.8556531, 22.2611714], [86.8558794, 22.2611392], [86.8561825, 22.2610742], [86.8563586, 22.2609858], [86.8564612, 22.2608421], [86.8563753, 22.2605534], [86.856274, 22.2602907], [86.856148, 22.2599638], [86.8562283, 22.2596968], [86.8566171, 22.2595204], [86.856712, 22.2594773], [86.8571515, 22.2594647], [86.8572023, 22.2594434], [86.8574052, 22.2593581], [86.8575959, 22.2592471], [86.8577686, 22.2590929], [86.8581765, 22.2589281], [86.8584076, 22.2588371], [86.8585395, 22.2586556], [86.8586378, 22.2584317], [86.8586492, 22.2583854], [86.8586832, 22.2582467], [86.8587842, 22.2580739], [86.8589286, 22.2579795], [86.8591081, 22.2579568], [86.8591121, 22.2579572], [86.85929, 22.2579778], [86.8593898, 22.258083], [86.8594104, 22.2580968], [86.859512, 22.2581652], [86.8597847, 22.2582699], [86.8600173, 22.2582082], [86.8603278, 22.2581355], [86.860647, 22.2580772], [86.8607849, 22.2581587], [86.8611607, 22.2582807], [86.8614324, 22.2582171], [86.8616665, 22.2581845], [86.8618663, 22.2582486], [86.8619845, 22.2584042], [86.8620449, 22.2586575], [86.8622844, 22.2587271], [86.862454, 22.2588146], [86.8627342, 22.2589116], [86.8629411, 22.2589607], [86.8630442, 22.258978], [86.8630902, 22.2588076], [86.8631687, 22.2588041], [86.8634266, 22.2587777], [86.8635653, 22.2588739], [86.8636726, 22.2589714], [86.8637863, 22.259193], [86.863869, 22.2595697], [86.8638487, 22.2597828], [86.8638586, 22.2599725], [86.8639244, 22.2600281], [86.8640059, 22.2600829], [86.8641332, 22.2601137], [86.8643484, 22.2601698], [86.8645176, 22.2602499], [86.8646978, 22.260388], [86.8648485, 22.2605641], [86.8650332, 22.2607898], [86.8652545, 22.2609627], [86.8653918, 22.2608833], [86.8654935, 22.260725], [86.8658458, 22.2602481], [86.865897, 22.260171], [86.8660061, 22.2600068], [86.8661286, 22.2597964], [86.866143, 22.2596201], [86.8661464, 22.2593859], [86.8661853, 22.2590768], [86.8662556, 22.25892], [86.8664379, 22.2589483], [86.866528, 22.2590174], [86.8666251, 22.2590715], [86.8666817, 22.2592518], [86.8667601, 22.2594112], [86.8667873, 22.2594665], [86.8669342, 22.2595696], [86.8671967, 22.2596308], [86.867504, 22.2596461], [86.8677259, 22.2596799], [86.8678809, 22.2597506], [86.8679594, 22.2597864], [86.8681393, 22.2597709], [86.868255, 22.2597291], [86.8683591, 22.2596146], [86.8685469, 22.2595988], [86.8687769, 22.2596395], [86.8689366, 22.2598371], [86.8690619, 22.2599777], [86.869274, 22.2599754], [86.8693822, 22.2599412], [86.8694748, 22.2599078], [86.8697859, 22.2599961], [86.8699827, 22.2600018], [86.8702485, 22.2599751], [86.8703859, 22.2598957], [86.8704891, 22.2597666], [86.8705195, 22.259597], [86.8705235, 22.2594883], [86.870526, 22.2594211], [86.8705321, 22.2592379], [86.8705895, 22.2591329], [86.870763, 22.2589933], [86.8708959, 22.25898], [86.8710133, 22.259121], [86.8710343, 22.2593207], [86.8710447, 22.2594195], [86.8710001, 22.259619], [86.8710305, 22.2597493], [86.8710846, 22.2597322], [86.8712059, 22.2596463], [86.8713828, 22.2595724], [86.8714847, 22.2595677], [86.8716136, 22.2596277], [86.8716802, 22.2596979], [86.8716859, 22.2598073], [86.8716928, 22.2599387], [86.871784, 22.2600297], [86.8718643, 22.2600626], [86.8719965, 22.2600346], [86.8722158, 22.2598711], [86.872523, 22.2594328], [86.8725762, 22.2593781], [86.8727616, 22.2591878], [86.8729758, 22.2590757], [86.8732098, 22.259093], [86.8732204, 22.2590938], [86.8733571, 22.2591535], [86.8735994, 22.2594278], [86.873818, 22.2595495], [86.873936, 22.2595515], [86.874051, 22.259495], [86.8741408, 22.2594105], [86.874298, 22.2594106], [86.8743587, 22.2595176], [86.8744742, 22.2596221], [86.8747171, 22.2597574], [86.874911, 22.2598583], [86.8750779, 22.2598946], [86.875217, 22.259998], [86.875383, 22.2601661], [86.8755786, 22.2604498], [86.8758466, 22.2606132], [86.8759743, 22.2606513], [86.8762002, 22.2606118], [86.876336, 22.2605032], [86.8763688, 22.260231], [86.8763749, 22.2600478], [86.8764038, 22.259849], [86.876439, 22.2596206], [86.8764239, 22.2594823], [86.8764212, 22.2591312], [86.8764435, 22.2591083], [86.876616, 22.2591004], [86.8766227, 22.2591004], [86.8769148, 22.2591015], [86.877061, 22.2590436], [86.8772066, 22.2589711], [86.8774183, 22.2589615], [86.8776311, 22.2589738], [86.8776753, 22.2589999], [86.8778075, 22.2590779], [86.8780498, 22.2592011], [86.8781464, 22.2592942], [86.8783057, 22.2593357], [86.8784756, 22.259328], [86.8787051, 22.2592078], [86.8788488, 22.2592013], [86.8790331, 22.2592173], [86.8797464, 22.2593312], [86.8800224, 22.2592644], [86.8800568, 22.2592561], [86.8803615, 22.2590715], [86.8804833, 22.2588953], [86.880547, 22.2586119], [86.8805372, 22.2584252], [86.8805336, 22.2583565], [86.880575, 22.2581473], [86.8807857, 22.2579183], [86.8808733, 22.2578411], [86.8810594, 22.2578936], [86.8813881, 22.2579153], [86.8816214, 22.2578681], [86.8817986, 22.2577503], [86.8819072, 22.2575746], [86.8820427, 22.2574099], [86.8822258, 22.2574864], [86.8824123, 22.2577662], [86.8826552, 22.2579015], [86.8829374, 22.2578886], [86.8831485, 22.2577181], [86.883243, 22.2574211], [86.8833718, 22.2571812], [86.8834965, 22.2571608], [86.8836774, 22.2573136], [86.8837272, 22.2576625], [86.8837628, 22.2580413], [86.8838596, 22.258388], [86.8840742, 22.2585831], [86.884293, 22.2585585], [86.8845982, 22.2583837], [86.8848889, 22.2585314], [86.8850159, 22.2585549], [86.8852756, 22.2584113], [86.8852736, 22.2580749], [86.8852667, 22.2579435], [86.8853554, 22.2578371], [86.8855899, 22.2578118], [86.8857482, 22.2578338], [86.8860722, 22.2577167], [86.8861861, 22.257492], [86.8863246, 22.2572386], [86.8864672, 22.2573549], [86.8865893, 22.2575338], [86.8868326, 22.2577764], [86.8869816, 22.2582183], [86.8868981, 22.2590219], [86.8869798, 22.2597791], [86.8873353, 22.2605627], [86.8879611, 22.2609049], [86.8883631, 22.2613743], [86.8883729, 22.2619592], [86.8883745, 22.2623883], [86.8880956, 22.2630643], [86.8874649, 22.2640453], [86.8872896, 22.2644788], [86.8873041, 22.2655024], [86.8874327, 22.2679473], [86.8874933, 22.2718619], [86.8875343, 22.2738685], [86.8893297, 22.2737563], [86.8893124, 22.2746716], [86.8892013, 22.277542], [86.8887648, 22.279208], [86.8888797, 22.2801477], [86.8893097, 22.2827192], [86.8892462, 22.2840024], [86.888899, 22.2861215], [86.8886361, 22.2869979], [86.8884624, 22.2874002], [86.8877745, 22.2890703], [86.8874916, 22.2904683], [86.887353, 22.2918246], [86.8873394, 22.291958], [86.887404, 22.2929548], [86.8874503, 22.2936697], [86.8874903, 22.2940239], [86.8876464, 22.2954052], [86.8877788, 22.2972444], [86.8877799, 22.2972596], [86.8877902, 22.2974594], [86.8822053, 22.2999522], [86.8805216, 22.3004896], [86.8782555, 22.3009321], [86.8760593, 22.3014482], [86.8758342, 22.301501], [86.8758308, 22.3015035], [86.8754023, 22.3018127], [86.8744044, 22.3031573], [86.8739432, 22.3037789], [86.8733885, 22.3045263], [86.8732037, 22.3049135], [86.8726557, 22.3060615], [86.8725577, 22.3063126], [86.8724516, 22.3065844], [86.8722432, 22.3071181], [86.8708109, 22.3069592], [86.8703701, 22.3069103], [86.8703525, 22.3069732], [86.8702488, 22.3073438], [86.8699067, 22.3072336], [86.8694918, 22.3070999], [86.8687397, 22.3070638], [86.8683465, 22.3070637], [86.866488, 22.3076958], [86.8654315, 22.3080745], [86.865367, 22.3080976], [86.8642993, 22.3087025], [86.8637995, 22.3088741], [86.8630506, 22.3091829], [86.8624747, 22.3094203], [86.8619139, 22.3097722], [86.8612371, 22.3101968], [86.8603178, 22.3106276], [86.8574105, 22.3119896], [86.8572189, 22.3120793], [86.8542086, 22.3135885], [86.8501234, 22.3156364], [86.845906, 22.3169361], [86.8433484, 22.3175632], [86.8430771, 22.3176528], [86.8410381, 22.3183258], [86.8401241, 22.3187508], [86.8397374, 22.3189305], [86.8394703, 22.3190806], [86.8376649, 22.320095], [86.8373736, 22.3204698], [86.8368273, 22.3212969], [86.8365916, 22.3216537], [86.8364851, 22.3218151], [86.8361756, 22.3221345], [86.8355579, 22.3227721], [86.8340044, 22.3243024], [86.8339522, 22.3243454], [86.8332714, 22.3249073], [86.8332356, 22.3249788], [86.8326416, 22.3261663], [86.8321107, 22.3272278], [86.8315715, 22.3287809], [86.8311826, 22.3308353], [86.8312434, 22.332318], [86.831273, 22.3330412], [86.8312885, 22.3334181], [86.8310988, 22.3347636], [86.8312068, 22.3355591], [86.8313361, 22.3365111], [86.8316872, 22.337191], [86.8323741, 22.3385207], [86.8323381, 22.3400016], [86.8323079, 22.3412487], [86.8323003, 22.3415595], [86.8321511, 22.3437573], [86.8321296, 22.3440745], [86.8320822, 22.3445036], [86.8319058, 22.3461018], [86.8321077, 22.3473716], [86.8322884, 22.3485085], [86.8326861, 22.3497955], [86.8328946, 22.3504097], [86.8332761, 22.3511359], [86.8336466, 22.3518412], [86.8343695, 22.3526948], [86.8349945, 22.3546205], [86.8350437, 22.354772], [86.8355619, 22.3560413], [86.8357664, 22.3565422], [86.8361444, 22.358827], [86.8364207, 22.3601185], [86.8382162, 22.3627965], [86.8392204, 22.3651898], [86.8392857, 22.36549], [86.8394919, 22.3664362], [86.8399169, 22.3678303], [86.8402049, 22.3687752], [86.84053, 22.3693848], [86.8411075, 22.3700216], [86.8420589, 22.3711551], [86.842311, 22.3716165], [86.8424264, 22.3718277], [86.8426363, 22.3722119], [86.8430146, 22.3739187], [86.8429028, 22.3744425], [86.842739, 22.3750485], [86.8426355, 22.3754313], [86.8425383, 22.3758918], [86.8424958, 22.3784689], [86.842489, 22.3788809], [86.8422121, 22.3794498], [86.8415807, 22.3804746], [86.8408686, 22.3818832], [86.840823, 22.3819735], [86.8408761, 22.3831927], [86.8415749, 22.3845926], [86.842332, 22.3857441], [86.8424646, 22.3859341], [86.8429603, 22.3866435], [86.8431522, 22.3869183], [86.8439822, 22.3882956], [86.8444888, 22.3890811], [86.8448267, 22.3896052], [86.8456323, 22.3915199], [86.8458112, 22.3922333], [86.8460058, 22.3930099], [86.8464262, 22.3959587], [86.8465451, 22.3967927], [86.8466264, 22.3973628], [86.8464142, 22.3987039], [86.8463542, 22.3990831], [86.8448977, 22.4004417], [86.8439874, 22.4012909], [86.8439532, 22.4013228], [86.843644, 22.4016111], [86.8400294, 22.4038056], [86.8396665, 22.4040259], [86.8396317, 22.4040532], [86.8393431, 22.4042791], [86.8386173, 22.4048474], [86.8380015, 22.4057737], [86.837879, 22.4059581], [86.8367957, 22.4070369], [86.8354835, 22.4078424], [86.8346927, 22.4083278], [86.8343277, 22.408763], [86.8341437, 22.4089823], [86.833973, 22.4091247], [86.8337245, 22.409332], [86.8335754, 22.4094563], [86.8333131, 22.4096339], [86.8320628, 22.4104799], [86.8312877, 22.4110045], [86.8301863, 22.4115502], [86.8299763, 22.4116543], [86.8288447, 22.4118346], [86.8284931, 22.4119168], [86.8264164, 22.4124027], [86.8249204, 22.4132376], [86.8248692, 22.4132571], [86.8241044, 22.4135488], [86.8224175, 22.4142448], [86.8211056, 22.4147859], [86.8210639, 22.4148031], [86.8198109, 22.4153992], [86.818682, 22.4159363], [86.8182758, 22.4161296], [86.81825, 22.416141], [86.8180433, 22.4162326], [86.8164542, 22.4169371], [86.8154836, 22.4174055], [86.8154054, 22.4174432], [86.814453, 22.4179027], [86.8134244, 22.4184494], [86.8126552, 22.4188583], [86.8119999, 22.4192066], [86.8101933, 22.4191698], [86.8094058, 22.4192257], [86.8093726, 22.4192281], [86.8088008, 22.4197484], [86.8076963, 22.4207536], [86.8070744, 22.421259], [86.8055688, 22.4213532], [86.8050882, 22.4211001], [86.8040586, 22.4210771], [86.8034223, 22.4212349], [86.8022519, 22.4213517], [86.7995369, 22.4215581], [86.7959685, 22.421622], [86.7943944, 22.4216502], [86.7938935, 22.4216591], [86.7932227, 22.4218687], [86.7929123, 22.4219657], [86.7920378, 22.4225974], [86.7911936, 22.4229678], [86.790969, 22.4230664], [86.7888132, 22.4235793], [86.7879769, 22.4237782], [86.7858153, 22.424355], [86.7823571, 22.4248316], [86.7800404, 22.4248935], [86.7762811, 22.425153], [86.7736099, 22.4256323], [86.772269, 22.425873], [86.770399, 22.4261246], [86.7676302, 22.4265472], [86.7664742, 22.4266908], [86.7656473, 22.4269343], [86.764945, 22.4271411], [86.7645311, 22.4272629], [86.7640223, 22.4280858], [86.7638503, 22.4283642], [86.7633346, 22.4293888], [86.7623767, 22.4307608], [86.7618659, 22.4317041], [86.7619526, 22.4326298], [86.7618865, 22.4333092], [86.7618007, 22.434192], [86.7615857, 22.4358083], [86.7611863, 22.437262], [86.7609461, 22.4384365], [86.7607717, 22.4392889], [86.7603968, 22.4403814], [86.759978, 22.4416454], [86.7594469, 22.4435933], [86.7591644, 22.4446294], [86.759103, 22.4451784], [86.7590322, 22.4458123], [86.7599306, 22.4460386], [86.7612803, 22.4467485], [86.7627322, 22.4474674], [86.7630103, 22.447715], [86.7631739, 22.4478606], [86.7631736, 22.4482705], [86.7631735, 22.4483844], [86.7628962, 22.4488673], [86.7622982, 22.4495532], [86.7616614, 22.4500539], [86.7613115, 22.4502614], [86.7605584, 22.450455], [86.7596592, 22.4511317], [86.759256, 22.4511946], [86.7584154, 22.4514062], [86.7576183, 22.4519745], [86.756272, 22.4527817], [86.7553728, 22.4534358], [86.7544057, 22.4539182], [86.75391, 22.4541842], [86.7526218, 22.4551405], [86.7519525, 22.4557204], [86.7518148, 22.4558397], [86.7510295, 22.4566826], [86.7510077, 22.456706], [86.7510597, 22.4582774], [86.7511508, 22.4596817], [86.7513528, 22.4618221], [86.7512466, 22.463891], [86.7512422, 22.463977], [86.7512292, 22.4642286], [86.751096, 22.4651944], [86.7510709, 22.4653765], [86.7510629, 22.465434], [86.7509682, 22.4656615], [86.7506345, 22.4664632], [86.7503263, 22.4669219], [86.7495643, 22.4680562], [86.7490239, 22.4691801], [86.7489359, 22.4693958], [86.7483328, 22.470874], [86.7483131, 22.4709223], [86.7481031, 22.4720781], [86.7475819, 22.4735632], [86.747309, 22.4744073], [86.7472795, 22.4747821], [86.7473758, 22.47578], [86.7473766, 22.4760251], [86.7473826, 22.4777764], [86.7473834, 22.4780061], [86.7476645, 22.4787874], [86.7477857, 22.4790404], [86.7490564, 22.4814796], [86.7498713, 22.4829476], [86.7501822, 22.4831195], [86.7521492, 22.482952], [86.7521792, 22.4829495], [86.7524958, 22.4829472], [86.753287, 22.4829413], [86.7540724, 22.4829298], [86.7547495, 22.4829198], [86.7565375, 22.4829618], [86.7570574, 22.4829442], [86.7584757, 22.4822285], [86.7594878, 22.4817177], [86.7600465, 22.4817362], [86.7625389, 22.4818599], [86.7636514, 22.4819465], [86.7652402, 22.4819972], [86.7660857, 22.4819257], [86.7661488, 22.4818353], [86.7668737, 22.4807567], [86.7672288, 22.4806286], [86.7673647, 22.4805797], [86.767836, 22.4804097], [86.7690217, 22.4800899], [86.7707659, 22.4801498], [86.7723933, 22.4804623], [86.7741179, 22.4807389], [86.7748904, 22.4807529], [86.7763091, 22.4806816], [86.7763421, 22.4806769], [86.7778154, 22.4804703], [86.7782715, 22.4804243], [86.7783937, 22.480412], [86.7786726, 22.4804374], [86.7789689, 22.4804645], [86.7808326, 22.4806346], [86.7821297, 22.4808657], [86.7829993, 22.4809566], [86.7842168, 22.4812262], [86.7842867, 22.4812417], [86.7855793, 22.4808722], [86.786318, 22.4804843], [86.7870472, 22.4799835], [86.7875916, 22.4795594], [86.7880963, 22.4790723], [86.7882041, 22.4789682], [86.789254, 22.4782464], [86.7895867, 22.4780529], [86.7900609, 22.4777772], [86.7907072, 22.4775473], [86.7910469, 22.4774587], [86.7911737, 22.4774257], [86.7925679, 22.4777559], [86.7926974, 22.4778755], [86.7928524, 22.4780187], [86.7931942, 22.4783343], [86.7942626, 22.4792785], [86.7953697, 22.4804169], [86.795829, 22.4809696], [86.7961805, 22.4813926], [86.7972729, 22.4826574], [86.7976079, 22.4831182], [86.7980445, 22.4844955], [86.7998168, 22.4865643], [86.8006373, 22.4877161], [86.8016036, 22.4888318], [86.8015115, 22.4892283], [86.801438, 22.4895451], [86.8013985, 22.4896107], [86.8007214, 22.4907357], [86.8002562, 22.4915087], [86.8000083, 22.4917253], [86.7993384, 22.4922693], [86.7991916, 22.4923886], [86.7986328, 22.4924471], [86.7972574, 22.4928257], [86.7961055, 22.4934437], [86.7960651, 22.4934643], [86.7951577, 22.4939264], [86.7946861, 22.4943325], [86.7944283, 22.4947929], [86.7939855, 22.4958673], [86.7939049, 22.4960951], [86.7937762, 22.4964587], [86.7938875, 22.4971857], [86.7947276, 22.4982562], [86.7947292, 22.498267], [86.7948243, 22.4988975], [86.795242, 22.4993808], [86.7956168, 22.4995462], [86.7956209, 22.499548], [86.7962819, 22.4993903], [86.7967484, 22.4991874], [86.7970594, 22.4992733], [86.7975402, 22.4997567], [86.7983562, 22.5003486], [86.7993037, 22.5004213], [86.8000127, 22.500555], [86.80012, 22.5005752], [86.8008002, 22.5007415], [86.8009605, 22.5009943], [86.8013635, 22.5014371], [86.8019852, 22.5020875], [86.8022551, 22.5024445], [86.802296, 22.5024985], [86.8023779, 22.5029808], [86.802388, 22.5030404], [86.8021305, 22.5030268], [86.8018971, 22.5032073], [86.8014692, 22.5037489], [86.8012156, 22.5040188], [86.8011046, 22.504137], [86.8010066, 22.504283], [86.8008955, 22.5044485], [86.8007783, 22.5051619], [86.8008316, 22.505505], [86.7998694, 22.5055904], [86.7994641, 22.5056947], [86.7990821, 22.5057931], [86.7986382, 22.5059264], [86.7984065, 22.505996], [86.7980575, 22.5061921], [86.7976919, 22.5063976], [86.7973564, 22.5068173], [86.7971471, 22.5074313], [86.7969765, 22.5083703], [86.796952, 22.5084407], [86.7967477, 22.5090294], [86.7965141, 22.5095847], [86.7961252, 22.5098599], [86.7955273, 22.510117], [86.7950072, 22.5103199], [86.7941907, 22.5104414], [86.7937916, 22.5105189], [86.7935881, 22.5105585], [86.7931067, 22.5108698], [86.7926642, 22.5113166], [86.7925766, 22.5115333], [86.7925276, 22.5121338], [86.7926536, 22.5127389], [86.792914, 22.5132811], [86.7930808, 22.5136285], [86.7931692, 22.5139318], [86.7931874, 22.5139944], [86.7933277, 22.5139891], [86.793897, 22.5139676], [86.794937, 22.5139817], [86.7948687, 22.5144152], [86.7946642, 22.5151149], [86.7945859, 22.515887], [86.7942203, 22.5177335], [86.7940935, 22.5185146], [86.793884, 22.5195033], [86.7938205, 22.520009], [86.793812, 22.5200542], [86.7932988, 22.5227765], [86.7931909, 22.5235862], [86.793167, 22.5237653], [86.7930314, 22.5243936], [86.7929867, 22.5246005], [86.7929393, 22.5248605], [86.7929184, 22.5249752], [86.7921261, 22.5251329], [86.7903664, 22.5256647], [86.7886795, 22.5262417], [86.7877742, 22.5265454], [86.7868517, 22.5268548], [86.7871478, 22.527451], [86.7873514, 22.528345], [86.7875354, 22.5293837], [86.7876758, 22.5302372], [86.7878989, 22.5310816], [86.788093, 22.531601], [86.788413, 22.5327615], [86.7885146, 22.5333666], [86.7885436, 22.5336917], [86.7888733, 22.5340092], [86.7889565, 22.5340893], [86.7889172, 22.5348117], [86.7887222, 22.5357282], [86.7886008, 22.5360919], [86.7885127, 22.5363557], [86.7880488, 22.5374191], [86.7879968, 22.5375384], [86.7875687, 22.5380439], [86.7873742, 22.5381657], [86.7879573, 22.5384821], [86.7885792, 22.5387804], [86.7892691, 22.5392278], [86.7897743, 22.5399053], [86.7900558, 22.540506], [86.7902111, 22.5409667], [86.7902644, 22.541224], [86.7902449, 22.5413684], [86.7901862, 22.5418019], [86.7900156, 22.5426597], [86.7895081, 22.5458111], [86.7894198, 22.5469444], [86.7894152, 22.5471446], [86.7893899, 22.5482221], [86.7893265, 22.5485697], [86.7892874, 22.5490032], [86.7890695, 22.5490031], [86.7888741, 22.5490029], [86.788563, 22.5489667], [86.7882373, 22.5491019], [86.7877316, 22.5494268], [86.7873427, 22.5493769], [86.7870461, 22.5494851], [86.7865645, 22.549968], [86.7862922, 22.5501258], [86.7857868, 22.5498456], [86.7855002, 22.5495068], [86.785228, 22.5495699], [86.7848147, 22.5497232], [86.7843721, 22.5501473], [86.7841776, 22.5502917], [86.7838276, 22.5502689], [86.7837981, 22.5502173], [86.7836237, 22.5499121], [86.7834587, 22.5497414], [86.7833662, 22.5496455], [86.7830502, 22.5496092], [86.7829708, 22.5496702], [86.7825736, 22.5499747], [86.7821167, 22.5499474], [86.7819369, 22.5498028], [86.7819177, 22.5495027], [86.7819129, 22.549428], [86.7817186, 22.5492021], [86.7817061, 22.5491919], [86.7815243, 22.549044], [86.7810818, 22.5492468], [86.7804838, 22.54926], [86.7801535, 22.5490567], [86.7795555, 22.5492099], [86.7793365, 22.5495619], [86.7788065, 22.5497287], [86.7783741, 22.5494755], [86.7777811, 22.5494255], [86.7774408, 22.5493666], [86.7771295, 22.5495606], [86.7764685, 22.5495601], [86.7762109, 22.5495103], [86.7757349, 22.5489817], [86.7757252, 22.5489761], [86.7753996, 22.5487874], [86.7751905, 22.5488007], [86.7748404, 22.5490534], [86.773804, 22.550344], [86.7731127, 22.5514614], [86.772782, 22.551996], [86.7727497, 22.5520643], [86.7727122, 22.5521438], [86.7725093, 22.5525738], [86.7721057, 22.552867], [86.7716922, 22.5531421], [86.7712887, 22.5532728], [86.7709239, 22.5534081], [86.7702383, 22.5538049], [86.7698734, 22.5540937], [86.7696183, 22.5542519], [86.7690952, 22.5545762], [86.7677866, 22.5561373], [86.7664776, 22.5576988], [86.7664434, 22.5577396], [86.7665038, 22.5579661], [86.7666227, 22.5584125], [86.7667681, 22.5589138], [86.7675165, 22.5593252], [86.7684786, 22.5599037], [86.7691783, 22.5603377], [86.7694972, 22.5606158], [86.7698001, 22.5608799], [86.7702536, 22.5609846], [86.7703299, 22.5610022], [86.7710932, 22.5610614], [86.7715696, 22.5610617], [86.7717242, 22.5621816], [86.7717385, 22.5626647], [86.7718788, 22.5635453], [86.7719077, 22.5638975], [86.7719329, 22.5646426], [86.771483, 22.5649079], [86.77082, 22.5657566], [86.7703819, 22.5658734], [86.7695156, 22.5658452], [86.7687855, 22.5660249], [86.7681229, 22.566521], [86.7677427, 22.5669815], [86.7674207, 22.5678473], [86.7674202, 22.5678485], [86.7670644, 22.5716885], [86.7669957, 22.572077], [86.7668552, 22.5750227], [86.7663002, 22.5751756], [86.7646353, 22.5755078], [86.7633014, 22.5758313], [86.7618405, 22.576489], [86.7596881, 22.5773445], [86.7584998, 22.577876], [86.7566697, 22.5780813], [86.7552094, 22.5782871], [86.7533807, 22.5774622], [86.7528739, 22.5779585], [86.7521557, 22.5784671], [86.7520845, 22.5785176], [86.7508198, 22.5781544], [86.7497014, 22.5775654], [86.748699, 22.5774736], [86.7479498, 22.5772828], [86.7460324, 22.577271], [86.7448351, 22.5773325], [86.7435794, 22.5773216], [86.7404455, 22.5772176], [86.7393653, 22.5771255], [86.7375649, 22.5769422], [86.7373338, 22.5769307], [86.7345478, 22.576793], [86.7329612, 22.5768448], [86.7314913, 22.5769148], [86.7296845, 22.5774044], [86.7281415, 22.5778224], [86.7265932, 22.5782176], [86.7229524, 22.5789853], [86.7228932, 22.5789978], [86.7214326, 22.5793118], [86.7174493, 22.5806338], [86.7160177, 22.5811013], [86.7137092, 22.581956], [86.7111485, 22.5823945], [86.7102141, 22.5823569], [86.7092019, 22.5823642], [86.708614, 22.5823219], [86.7080436, 22.5822809], [86.7068854, 22.5822157], [86.7055816, 22.5819966], [86.7023464, 22.5813179], [86.7018722, 22.5812184], [86.6991113, 22.5806392], [86.697866, 22.5803658], [86.6931471, 22.5793546], [86.6913958, 22.57899], [86.6906661, 22.5788758], [86.6899362, 22.5787615], [86.6871044, 22.5784673], [86.6846519, 22.5783273], [86.6843944, 22.5781461], [86.6841368, 22.5779649], [86.6833298, 22.5775296], [86.682484, 22.5770041], [86.6805215, 22.5752474], [86.6797831, 22.5745502], [86.6792577, 22.5744588], [86.6778076, 22.574402], [86.6756959, 22.5742264], [86.6749365, 22.5743244], [86.673145, 22.5746101], [86.6718889, 22.5748879], [86.6703507, 22.5750386], [86.6686862, 22.5751077], [86.6667006, 22.5751401], [86.6649586, 22.5750645], [86.6623016, 22.574996], [86.6612747, 22.5749714], [86.6602479, 22.5749469], [86.6595178, 22.5750358], [86.6583076, 22.5765334], [86.6569806, 22.5780941], [86.6554776, 22.5799346], [86.6550091, 22.5805119], [86.6545309, 22.5811345], [86.6540533, 22.5814046], [86.6536338, 22.5818104], [86.6545632, 22.5841436], [86.6554922, 22.5865673], [86.6561306, 22.5884661], [86.6564597, 22.5892891], [86.6567793, 22.5900487], [86.6570307, 22.5907993], [86.6555498, 22.591447], [86.654975, 22.5916536], [86.6530071, 22.5923817], [86.6521498, 22.5926962], [86.6510588, 22.5930194], [86.6508453, 22.5930648], [86.6500069, 22.5932431], [86.6493057, 22.5934224], [86.6468319, 22.5940048], [86.6457703, 22.5942375], [86.6444848, 22.5944879], [86.6441176, 22.5947889], [86.643968, 22.5949115], [86.643237, 22.5952986], [86.6418026, 22.5962521], [86.6413261, 22.5965688], [86.6403121, 22.5972625], [86.6394347, 22.5978209], [86.6391712, 22.5981457], [86.6389173, 22.5984885], [86.6387407, 22.5990846], [86.6385546, 22.5995901], [86.6382805, 22.6002673], [86.6382206, 22.6008726], [86.6381322, 22.6012248], [86.6381983, 22.6020834], [86.6383786, 22.604126], [86.6385883, 22.6060601], [86.6386165, 22.6065211], [86.6386136, 22.6077138], [86.6386495, 22.6090423], [86.6385999, 22.6094668], [86.638444, 22.6095297], [86.6367397, 22.6097882], [86.6346454, 22.6102988], [86.6341097, 22.6103881], [86.6344375, 22.6118075], [86.6346469, 22.6138229], [86.6349538, 22.6158387], [86.6350417, 22.6163433], [86.6352515, 22.6175472], [86.6353088, 22.6180082], [86.6353763, 22.6183065], [86.6357438, 22.6193464], [86.6359179, 22.6198799], [86.6364406, 22.6211731], [86.6367021, 22.6217791], [86.6368181, 22.6221046], [86.6373423, 22.6227925], [86.6376721, 22.6233173], [86.6386331, 22.6246024], [86.6389048, 22.6250006], [86.6390209, 22.625308], [86.6390966, 22.6262661], [86.6391407, 22.6282089], [86.6391433, 22.628245], [86.6392539, 22.6297904], [86.6393017, 22.6301882], [86.6396393, 22.6315442], [86.6398492, 22.6334332], [86.6398638, 22.6355657], [86.6397613, 22.6377613], [86.6397179, 22.6396859], [86.6397334, 22.6414299], [86.6395435, 22.6435439], [86.6393737, 22.6453598], [86.6392581, 22.6462207], [86.6390765, 22.647573], [86.639046, 22.648106], [86.6387893, 22.6496235], [86.6386318, 22.6503371], [86.6386308, 22.6507798], [86.638844, 22.6512321], [86.6393297, 22.6517572], [86.6399513, 22.6524723], [86.641146, 22.6538302], [86.6416508, 22.654527], [86.6419125, 22.6550245], [86.6421059, 22.6556484], [86.6422309, 22.6563354], [86.6423852, 22.6570135], [86.6423838, 22.6576188], [86.6422562, 22.6580433], [86.6420999, 22.6582417], [86.6416406, 22.6589275], [86.6412109, 22.6594778], [86.6397563, 22.6610019], [86.639395, 22.6613987], [86.6392094, 22.6616422], [86.6388287, 22.6620391], [86.6379112, 22.6629136], [86.6374621, 22.6634006], [86.6365246, 22.6644739], [86.6360365, 22.6649699], [86.6356856, 22.6651137], [86.6353348, 22.6651943], [86.6346823, 22.6651748], [86.6337278, 22.6652089], [86.6327245, 22.6652972], [86.6321107, 22.665359], [86.6312045, 22.665574], [86.6305413, 22.6659521], [86.6299951, 22.6663304], [86.6293514, 22.6666905], [86.6289074, 22.6670867], [86.6287756, 22.6672043], [86.6284536, 22.6674656], [86.6282482, 22.6677995], [86.6281401, 22.6682601], [86.6280604, 22.6689828], [86.6279524, 22.669326], [86.6278543, 22.6696149], [86.6270718, 22.6710409], [86.6267685, 22.6716004], [86.6264358, 22.6722141], [86.6259475, 22.6728094], [86.6255863, 22.6731701], [86.6251465, 22.6737564], [86.6244724, 22.6746133], [86.6239937, 22.6752358], [86.6235252, 22.6756414], [86.6229495, 22.6760558], [86.6224816, 22.6762535], [86.6219258, 22.6764963], [86.6214187, 22.6767844], [86.6211454, 22.6770005], [86.6209596, 22.6772622], [86.6206567, 22.6776772], [86.6202666, 22.6778932], [86.6198866, 22.6779285], [86.6190586, 22.678008], [86.6184935, 22.678079], [86.6180939, 22.6781775], [86.6176258, 22.6784024], [86.6166508, 22.6788159], [86.6162072, 22.6789544], [86.616105, 22.6789863], [86.615413, 22.6791745], [86.6148479, 22.6792456], [86.6136398, 22.6793783], [86.6126654, 22.6795388], [86.6121294, 22.679655], [86.611632, 22.6799069], [86.6112612, 22.6801681], [86.6106652, 22.6809439], [86.6101273, 22.681801], [86.6097265, 22.6823422], [86.6090522, 22.6832805], [86.6084854, 22.683993], [86.6079487, 22.6843713], [86.6076369, 22.6844429], [86.6073153, 22.6844692], [86.6069649, 22.6844142], [86.6063807, 22.6843315], [86.6061175, 22.6843942], [86.6059609, 22.684692], [86.6058138, 22.6850983], [86.6056672, 22.6852877], [86.6053061, 22.6855308], [86.6044186, 22.6860077], [86.6036478, 22.68653], [86.6029843, 22.6869622], [86.6025255, 22.6873225], [86.6019506, 22.6874568], [86.6015608, 22.6874829], [86.6012197, 22.6875725], [86.600391, 22.6878687], [86.5996794, 22.6880479], [86.5990363, 22.6881548], [86.5983251, 22.6882163], [86.5979553, 22.68808], [86.5977805, 22.6878897], [86.5976349, 22.6876997], [86.5975275, 22.6878078], [86.5972535, 22.688259], [86.597126, 22.688584], [86.5969578, 22.6887652], [86.5967157, 22.6890258], [86.5961985, 22.6894131], [86.5957696, 22.6895476], [86.5948732, 22.689663], [86.5940452, 22.689661], [86.5927402, 22.6895676], [86.5914153, 22.6896186], [86.5901501, 22.6897493], [86.589876, 22.6897776], [86.5884625, 22.6901717], [86.5875463, 22.6903684], [86.5866301, 22.690583], [86.5858795, 22.6907981], [86.5852749, 22.6910767], [86.5835576, 22.6921478], [86.5812641, 22.6937686], [86.5804833, 22.6943269], [86.5791457, 22.6954621], [86.5786083, 22.6960662], [86.5779933, 22.6965706], [86.5774655, 22.6968637], [86.5771835, 22.6970205], [86.5763835, 22.6974341], [86.5748528, 22.6979454], [86.5738581, 22.6983405], [86.5728239, 22.6989252], [86.5722385, 22.6992581], [86.5717699, 22.6996545], [86.5712124, 22.7004301], [86.5708501, 22.7011069], [86.5702732, 22.7018735], [86.5698436, 22.7022338], [86.5693461, 22.7024856], [86.5688098, 22.702683], [86.5683906, 22.7027904], [86.5679324, 22.7028796], [86.5673179, 22.7031943], [86.5671564, 22.7033085], [86.5668591, 22.7035184], [86.5656384, 22.7045815], [86.564789, 22.7052389], [86.5641742, 22.705644], [86.5629939, 22.7062012], [86.5626909, 22.7065618], [86.5626027, 22.7067423], [86.5625823, 22.7070585], [86.5625419, 22.7075283], [86.562502, 22.7078625], [86.5622968, 22.7080879], [86.562082, 22.7082228], [86.5618466, 22.7087824], [86.5613873, 22.7092963], [86.560782, 22.7097646], [86.5594356, 22.7104659], [86.5580063, 22.7111074], [86.5578944, 22.7111576], [86.5573381, 22.7115086], [86.5554243, 22.7129945], [86.5548578, 22.7135171], [86.5531975, 22.7149313], [86.5520255, 22.7159403], [86.5506779, 22.7169848], [86.5501701, 22.7174262], [86.5494443, 22.718032], [86.5492356, 22.7182062], [86.5486269, 22.7187143], [86.5478846, 22.7193447], [86.5472402, 22.719831], [86.5466351, 22.7201908], [86.5455809, 22.7208566], [86.545034, 22.7212979], [86.5441953, 22.7216029], [86.5437373, 22.7216017], [86.543241, 22.7214196], [86.5425893, 22.7210836], [86.5418505, 22.7205123], [86.5413356, 22.7200682], [86.5402759, 22.7192974], [86.5395365, 22.718952], [86.5383983, 22.7183978], [86.5372305, 22.7179609], [86.536092, 22.7175512], [86.5355763, 22.7173239], [86.5355445, 22.7173188], [86.5351284, 22.7172505], [86.5346899, 22.7172854], [86.5340269, 22.7174553], [86.5336076, 22.7175716], [86.5327587, 22.7179849], [86.5319979, 22.718299], [86.5312271, 22.7186583], [86.5306907, 22.7188647], [86.5301545, 22.7189988], [86.52975, 22.7190384], [86.5293455, 22.7190779], [86.5287219, 22.7191032], [86.5279815, 22.7191193], [86.5267636, 22.719143], [86.5259743, 22.7192221], [86.5250678, 22.7193642], [86.5243271, 22.7194344], [86.5238012, 22.7193787], [86.5234994, 22.7192966], [86.5231986, 22.7189252], [86.5225289, 22.7180921], [86.5220641, 22.7172054], [86.5213177, 22.7160106], [86.5208518, 22.7154491], [86.5203264, 22.7152307], [86.519976, 22.7151484], [86.5194009, 22.7152372], [86.5187962, 22.7154524], [86.5183089, 22.7155413], [86.5178021, 22.715567], [86.517422, 22.7156382], [86.5170317, 22.7158178], [86.5169821, 22.7158527], [86.5166965, 22.7157614], [86.5166892, 22.7157591], [86.5158958, 22.7158308], [86.5151509, 22.7160424], [86.5146982, 22.7162272], [86.5139226, 22.7164402], [86.5136321, 22.71652], [86.5129599, 22.7166148], [86.5129312, 22.7166188], [86.512931, 22.7166185], [86.5128436, 22.7165149], [86.512805, 22.7161446], [86.5126304, 22.7154176], [86.512485, 22.7147403], [86.5122616, 22.7142569], [86.5117168, 22.7138366], [86.5115904, 22.7135476], [86.5115084, 22.7127484], [86.5115091, 22.7119718], [86.5116317, 22.7108115], [86.5120166, 22.7102564], [86.5124356, 22.7096111], [86.5130497, 22.7086995], [86.5133959, 22.7078327], [86.51345, 22.7071691], [86.5131583, 22.7067264], [86.5125214, 22.706008], [86.5115391, 22.7051946], [86.5113412, 22.7050108], [86.5113251, 22.7049958], [86.5110719, 22.7052304], [86.5108526, 22.7056005], [86.5102678, 22.7065347], [86.5093423, 22.7075409], [86.508266, 22.7085063], [86.5076786, 22.7088721], [86.5074186, 22.709034], [86.5068731, 22.7096385], [86.5063854, 22.7108528], [86.5056937, 22.7115566], [86.505256, 22.7121706], [86.5047093, 22.7129375], [86.5043824, 22.7139034], [86.5040065, 22.7151719], [86.5038068, 22.7154336], [86.5035292, 22.7156682], [86.5030763, 22.7159117], [86.502862, 22.7160967], [86.5025306, 22.7166292], [86.5020726, 22.7171029], [86.5009134, 22.7181631], [86.5007428, 22.7184067], [86.5007133, 22.7187182], [86.5005957, 22.7195534], [86.5004885, 22.7198152], [86.50001, 22.7204551], [86.4982589, 22.7222692], [86.4976792, 22.7228697], [86.4968907, 22.7228703], [86.4961643, 22.7229507], [86.4959466, 22.7229748], [86.4955039, 22.723081], [86.4946814, 22.7232783], [86.4945988, 22.7235809], [86.4945658, 22.7246374], [86.4943468, 22.7248227], [86.4937484, 22.725076], [86.4938561, 22.7257667], [86.4934845, 22.7261302], [86.4932141, 22.7263948], [86.4929369, 22.7265936], [86.4916571, 22.7270642], [86.4915529, 22.7270944], [86.4906596, 22.7273539], [86.4884502, 22.7278566], [86.4866837, 22.7281287], [86.4854247, 22.7282441], [86.4853939, 22.7282469], [86.4849405, 22.7273353], [86.4844414, 22.7266239], [86.4844338, 22.7266131], [86.4824624, 22.7274645], [86.4815436, 22.7278612], [86.4817224, 22.7301604], [86.4817255, 22.7302], [86.4814337, 22.7305388], [86.481147, 22.730637], [86.4806016, 22.7308238], [86.4802854, 22.7311445], [86.4798674, 22.731953], [86.4790704, 22.7335699], [86.47905, 22.7335954], [86.4787737, 22.7339403], [86.4773725, 22.734494], [86.4767251, 22.7347498], [86.4765062, 22.7349848], [86.4763265, 22.7355221], [86.4757193, 22.7371886], [86.4751188, 22.738924], [86.4750489, 22.739126], [86.4748154, 22.7393248], [86.4743882, 22.7394593], [86.4736377, 22.7396957], [86.4733024, 22.7404545], [86.4727971, 22.7418816], [86.4720096, 22.7433811], [86.471572, 22.7442572], [86.4715383, 22.7447449], [86.4715299, 22.74656], [86.4710778, 22.7476348], [86.4699346, 22.7487462], [86.4698718, 22.7499674], [86.469836, 22.7500208], [86.469785, 22.7506787], [86.4700825, 22.7514436], [86.4697664, 22.7519315], [86.4696837, 22.7520986], [86.4692263, 22.7523021], [86.4691524, 22.7524667], [86.4688715, 22.7530924], [86.4685953, 22.7533304], [86.4682632, 22.7536165], [86.4681617, 22.7537102], [86.4667563, 22.7550073], [86.4666675, 22.7550893], [86.466074, 22.7557217], [86.4654609, 22.7563181], [86.4653004, 22.7565529], [86.4646679, 22.7572351], [86.463938, 22.7577999], [86.4637336, 22.7578632], [86.4628384, 22.7587306], [86.4622207, 22.759643], [86.4617149, 22.7604785], [86.4609364, 22.7612194], [86.4601822, 22.7619106], [86.4594036, 22.7625205], [86.4593781, 22.7625363], [86.4588196, 22.7628821], [86.4579321, 22.7633639], [86.457731, 22.7633512], [86.4577326, 22.7633532], [86.4549823, 22.7631796], [86.4537949, 22.7631047], [86.4537419, 22.7631013], [86.4522599, 22.7629788], [86.4512441, 22.7628948], [86.4509521, 22.7628859], [86.4508887, 22.7628679], [86.4504262, 22.7626649], [86.4499927, 22.7624393], [86.4497833, 22.7623447], [86.4495739, 22.7622635], [86.4491551, 22.7621282], [86.4488775, 22.7619612], [86.4487169, 22.7618259], [86.4486887, 22.7618181], [86.4486681, 22.7618124], [86.4492313, 22.7623527], [86.4477236, 22.7650071], [86.446867, 22.7696723], [86.444571, 22.7718289], [86.4384478, 22.7739456], [86.4385414, 22.7751527], [86.4354944, 22.7763794], [86.4336919, 22.775311], [86.4303875, 22.776419], [86.4294004, 22.7807319], [86.4262446, 22.7839805], [86.420917, 22.7886884], [86.4164858, 22.7898983], [86.4164713, 22.7903317], [86.4163253, 22.7908737], [86.4163255, 22.7913658], [86.4165447, 22.7915282], [86.4165767, 22.7915282], [86.4168417, 22.7915282], [86.4172117, 22.7912301], [86.4177423, 22.7907514], [86.4181757, 22.7906835], [86.4188087, 22.7906834], [86.418809, 22.7906835], [86.4192909, 22.7909225], [86.4198851, 22.7913694], [86.4201823, 22.7917485], [86.4203675, 22.7921954], [86.420466, 22.7923737], [86.420577, 22.7925747], [86.4207377, 22.7927778], [86.4209617, 22.7928139], [86.4209725, 22.7928105], [86.4211808, 22.7927461], [86.4213658, 22.7925022], [86.4214106, 22.7923378], [86.4214777, 22.7920913], [86.4215772, 22.7920151], [86.4217016, 22.7919197], [86.4223297, 22.791608], [86.4224806, 22.7916079], [86.4224808, 22.791608], [86.4226657, 22.7917479], [86.4227688, 22.7918101], [86.4228898, 22.7918833], [86.4232696, 22.7919192], [86.423406, 22.792172], [86.4233331, 22.7924339], [86.4233151, 22.7928213], [86.4233089, 22.7929532], [86.4235575, 22.7935265], [86.4234555, 22.7943166], [86.4233095, 22.7946734], [86.4226037, 22.7954186], [86.4225696, 22.7956624], [86.4225309, 22.7963668], [86.4225555, 22.7968725], [86.4226286, 22.7970214], [86.4229014, 22.7973645], [86.4231354, 22.797983], [86.4233595, 22.7983126], [86.4233916, 22.7983126], [86.4237296, 22.7983125], [86.4240997, 22.7982085], [86.4241072, 22.7982155], [86.4243578, 22.7984522], [86.4245089, 22.798714], [86.4246551, 22.799003], [86.4246873, 22.799003], [86.4249521, 22.7990029], [86.4249527, 22.799003], [86.4254343, 22.7991021], [86.4254831, 22.7993097], [86.4253954, 22.7994813], [86.4252495, 22.7999645], [86.4249184, 22.8000187], [86.4245824, 22.8001723], [86.4245826, 22.8005923], [86.4244706, 22.8008226], [86.4237062, 22.8012382], [86.4236089, 22.8014775], [86.4234338, 22.8018208], [86.4233949, 22.8021639], [86.423434, 22.8026469], [86.4236971, 22.8029585], [86.4241014, 22.803166], [86.4241015, 22.8035092], [86.4241052, 22.8035768], [86.4241161, 22.8037755], [86.4243256, 22.8038522], [86.4246227, 22.8039244], [86.4246229, 22.8043352], [86.4246961, 22.8050215], [86.4245501, 22.8053331], [86.4245503, 22.80578], [86.4247452, 22.8060329], [86.4251056, 22.8061818], [86.4252518, 22.8063307], [86.4252519, 22.8065384], [86.4249208, 22.8068139], [86.4247699, 22.8070533], [86.4244389, 22.8075003], [86.4237282, 22.8084352], [86.4232463, 22.80909], [86.4230565, 22.8095009], [86.4225161, 22.8099752], [86.4226866, 22.8102415], [86.4235295, 22.8113475], [86.4240606, 22.812002], [86.4246648, 22.81281], [86.4250595, 22.8135955], [86.4260196, 22.8152115], [86.4265021, 22.8160964], [86.4272006, 22.8172655], [86.4274865, 22.8177441], [86.4281152, 22.8187011], [86.4282604, 22.8189591], [86.4284758, 22.8193421], [86.4295819, 22.8205156], [86.4301423, 22.8212017], [86.43042, 22.8214003], [86.4310974, 22.8223934], [86.4314629, 22.8229576], [86.4319111, 22.8233006], [86.4326616, 22.8241943], [86.433378, 22.8251829], [86.43427, 22.8266409], [86.435498, 22.8280537], [86.4361023, 22.8288751], [86.4363119, 22.8290737], [86.4367094, 22.8294323], [86.4370624, 22.8297507], [86.4375642, 22.8301659], [86.4383778, 22.8306397], [86.4386605, 22.8308383], [86.4388457, 22.8310233], [86.4388456, 22.8310257], [86.4388408, 22.8311181], [86.4384595, 22.8316305], [86.4382324, 22.8319356], [86.437619, 22.8327982], [86.4369131, 22.833724], [86.4363095, 22.8346769], [86.4357788, 22.8353905], [86.435662, 22.8356162], [86.435555, 22.8359234], [86.435526, 22.8365961], [86.435824, 22.8382259], [86.4358489, 22.8397836], [86.4356253, 22.8407589], [86.435504, 22.8417568], [86.4353339, 22.8428902], [86.435198, 22.8439331], [86.4349939, 22.8449401], [86.4347799, 22.8458928], [86.4343955, 22.8470443], [86.4345663, 22.847717], [86.4345373, 22.8483129], [86.4341822, 22.8494102], [86.4339389, 22.8502321], [86.4339539, 22.8510177], [86.433925, 22.8517446], [86.4338179, 22.8520697], [86.4334625, 22.8527697], [86.4333995, 22.8533567], [86.4335263, 22.8537719], [86.43377, 22.8541556], [86.4341551, 22.8544536], [86.4343404, 22.8549231], [86.4343552, 22.8552391], [86.4343701, 22.8560653], [86.4345846, 22.8565573], [86.4348284, 22.8568418], [86.434892, 22.8573971], [86.4350285, 22.8577086], [86.4351992, 22.8582638], [86.4355698, 22.8588462], [86.4358768, 22.8591169], [86.4358807, 22.8591813], [86.4358916, 22.8593608], [86.4357171, 22.8596225], [86.4356627, 22.8597039], [86.4352292, 22.8600878], [86.4350744, 22.8603033], [86.435015, 22.860386], [86.4349712, 22.8605124], [86.4351808, 22.8606703], [86.4355512, 22.8608733], [86.4356535, 22.8609862], [86.4361239, 22.8614024], [86.4363115, 22.8615684], [86.4365942, 22.8618392], [86.4367404, 22.861952], [86.4371741, 22.8621731], [86.4374665, 22.8624213], [86.4376128, 22.8626425], [86.4377493, 22.862963], [86.4379202, 22.8635183], [86.4380128, 22.8637621], [86.4381152, 22.8638613], [86.4382077, 22.8639155], [86.4382397, 22.8639155], [86.4382906, 22.8639154], [86.438427, 22.8638974], [86.438807, 22.8637663], [86.4391237, 22.8636758], [86.439221, 22.8636758], [86.4392215, 22.8636759], [86.4393478, 22.8637118], [86.4394794, 22.863784], [86.4395915, 22.8639014], [86.4396305, 22.8640143], [86.4396403, 22.8641723], [86.4396891, 22.8642625], [86.4397202, 22.8642605], [86.4399716, 22.8642444], [86.441511, 22.8638058], [86.4439467, 22.8629966], [86.4453204, 22.8626349], [86.4470923, 22.8621428], [86.4486915, 22.8616987], [86.4497696, 22.861614], [86.4507717, 22.8615353], [86.4507726, 22.8615378], [86.4508761, 22.8618282], [86.4509278, 22.8619731], [86.4510794, 22.862849], [86.4510993, 22.8637385], [86.4514458, 22.8646864], [86.4519444, 22.8675758], [86.4523297, 22.8683116], [86.452359, 22.8685373], [86.4523447, 22.869052], [86.4521306, 22.8695127], [86.4519995, 22.8705195], [86.4519596, 22.8709466], [86.4518736, 22.871865], [86.4518835, 22.872127], [86.4519765, 22.8729216], [86.4520936, 22.8733053], [86.4523032, 22.8733774], [86.4523305, 22.8733758], [86.4528489, 22.8733455], [86.4528505, 22.8733474], [86.4530586, 22.8735892], [86.4532002, 22.87414], [86.4531907, 22.8745328], [86.4530595, 22.8751153], [86.4531669, 22.8756977], [86.4530795, 22.8761673], [86.4530164, 22.8766369], [86.4530603, 22.8767994], [86.453114, 22.8768356], [86.4532066, 22.876858], [86.4532232, 22.8768543], [86.4535915, 22.8767721], [86.4537815, 22.876772], [86.4537818, 22.8767721], [86.4539277, 22.8768261], [86.4540058, 22.8769931], [86.4540157, 22.8771782], [86.4540985, 22.8772459], [86.45443, 22.877476], [86.4545079, 22.8775527], [86.4545617, 22.8777107], [86.4546058, 22.8781667], [86.4546546, 22.8782751], [86.4547521, 22.8784014], [86.4548058, 22.8785775], [86.4548401, 22.8789432], [86.4547429, 22.8794173], [86.4547285, 22.8797695], [86.4548067, 22.880239], [86.4548215, 22.8804873], [86.4547972, 22.8806273], [86.4546901, 22.8807628], [86.4543882, 22.8810112], [86.4542858, 22.8811242], [86.4542226, 22.8812687], [86.4542081, 22.8814809], [86.4542764, 22.8816299], [86.4542863, 22.881815], [86.4541694, 22.8819866], [86.4540624, 22.8821989], [86.4540625, 22.8824834], [86.4540724, 22.8827678], [86.4540579, 22.8829348], [86.4539703, 22.8830884], [86.4537657, 22.883391], [86.453605, 22.8834769], [86.453454, 22.883662], [86.4534005, 22.8838472], [86.4534446, 22.8840503], [86.4534203, 22.8843122], [86.4533377, 22.8847276], [86.4533135, 22.8850288], [86.4533087, 22.8850889], [86.4533039, 22.8854456], [86.4533528, 22.8856803], [86.4534261, 22.8858654], [86.4535089, 22.8859466], [86.4537137, 22.8860459], [86.4538842, 22.8860999], [86.453916, 22.8860999], [86.4539866, 22.8860998], [86.4542155, 22.8860276], [86.4548928, 22.8857969], [86.4549775, 22.8857777], [86.4556919, 22.8856159], [86.455877, 22.8856158], [86.4558774, 22.8856159], [86.4559651, 22.8856413], [86.4561109, 22.8856835], [86.4562474, 22.8857737], [86.4563401, 22.8859723], [86.4563938, 22.8862206], [86.4563068, 22.887363], [86.4563363, 22.8877919], [86.4564729, 22.8880627], [86.4565367, 22.8881494], [86.4567021, 22.8883741], [86.4569313, 22.8886313], [86.457765, 22.8894707], [86.4580235, 22.8896828], [86.4587352, 22.8901158], [86.4588425, 22.8902016], [86.4592081, 22.89054], [86.4592911, 22.890689], [86.4594814, 22.8911585], [86.4596717, 22.8915602], [86.4598327, 22.8918446], [86.4599302, 22.8919664], [86.4600424, 22.8920837], [86.4603008, 22.8922371], [86.4608857, 22.8924444], [86.4612366, 22.8925481], [86.4617582, 22.8927781], [86.4618459, 22.8928638], [86.4619435, 22.8930218], [86.4622166, 22.893288], [86.4628309, 22.8938385], [86.4629918, 22.8939378], [86.4631527, 22.8940055], [86.4633525, 22.894055], [86.4635718, 22.8940594], [86.4639666, 22.8940908], [86.4641131, 22.8941165], [86.4642492, 22.8941403], [86.4642784, 22.8941535], [86.4644393, 22.894226], [86.4646295, 22.8943432], [86.4649807, 22.8948487], [86.4652296, 22.8953949], [86.4653516, 22.8956251], [86.4656687, 22.8961216], [86.4657906, 22.8963789], [86.4658346, 22.8965956], [86.4657763, 22.8967762], [86.4653381, 22.8973995], [86.4652894, 22.8975395], [86.4652458, 22.8978962], [86.4652752, 22.8981671], [86.4654069, 22.8983566], [86.4661725, 22.8991193], [86.4664018, 22.8992952], [86.4665285, 22.8993584], [86.4667039, 22.8993718], [86.4668794, 22.8994078], [86.4669964, 22.8995026], [86.4670941, 22.8997373], [86.467138, 22.8999269], [86.467143, 22.9000714], [86.4671187, 22.9002203], [86.4670067, 22.9003604], [86.4668801, 22.9004418], [86.4666316, 22.9005277], [86.4666312, 22.9005281], [86.4665683, 22.9005864], [86.4665489, 22.9006722], [86.4664615, 22.9011553], [86.4663544, 22.9014715], [86.4662656, 22.9016686], [86.4662425, 22.9017198], [86.4660478, 22.902027], [86.4659455, 22.9021445], [86.465814, 22.9022393], [86.4656337, 22.9023387], [86.4654461, 22.9023885], [86.465429, 22.902393], [86.4653267, 22.9023615], [86.4652584, 22.9023074], [86.465156, 22.9021539], [86.4650584, 22.9019553], [86.4649559, 22.9017748], [86.4647853, 22.9016304], [86.4646522, 22.901538], [86.4646487, 22.9015356], [86.4645781, 22.9015126], [86.4645659, 22.9015086], [86.4645143, 22.9015186], [86.464449, 22.9015312], [86.4642005, 22.9016216], [86.4640606, 22.901642], [86.4640445, 22.9016443], [86.4635084, 22.9015634], [86.4632528, 22.9015594], [86.4632257, 22.901559], [86.4630747, 22.9015681], [86.4629821, 22.9016088], [86.4626312, 22.9017851], [86.46249, 22.9018303], [86.4623655, 22.9018304], [86.4623341, 22.9018304], [86.4620123, 22.9017764], [86.4618466, 22.9017313], [86.4616611, 22.9017191], [86.4615185, 22.9017098], [86.4615055, 22.9017089], [86.4611795, 22.9017216], [86.4611546, 22.9017226], [86.4604378, 22.901616], [86.4604284, 22.9016146], [86.4602676, 22.9016238], [86.4600921, 22.9016916], [86.459661, 22.9019456], [86.4594783, 22.9020531], [86.4592347, 22.9021661], [86.459074, 22.9022275], [86.459069, 22.9022294], [86.4589472, 22.9022204], [86.4587669, 22.9021889], [86.458364, 22.9021016], [86.4579773, 22.9020178], [86.4577062, 22.9020012], [86.4576848, 22.9019999], [86.4575191, 22.902018], [86.4574071, 22.9020632], [86.4570466, 22.9022891], [86.4567933, 22.9025601], [86.4567349, 22.9026911], [86.4566912, 22.9028537], [86.4566638, 22.9028993], [86.4566425, 22.902935], [86.4565499, 22.9030028], [86.4564292, 22.9030565], [86.4564281, 22.903057], [86.4562339, 22.9030532], [86.4562039, 22.9030526], [86.4559846, 22.9030978], [86.4558628, 22.9031747], [86.4556728, 22.9032786], [86.4555598, 22.9032954], [86.455551, 22.9032967], [86.4554779, 22.9032923], [86.4553902, 22.9032607], [86.4552048, 22.9030847], [86.4550584, 22.9027823], [86.4548487, 22.9025341], [86.4547074, 22.9024754], [86.45422, 22.9023493], [86.4539422, 22.9023178], [86.4535169, 22.9023033], [86.4534423, 22.9023007], [86.4534207, 22.9023], [86.4532648, 22.9023091], [86.4531088, 22.9023588], [86.4529675, 22.9024627], [86.452875, 22.9025667], [86.4528562, 22.902702], [86.4528556, 22.9027066], [86.4528557, 22.9028601], [86.4529337, 22.9030587], [86.4529581, 22.9031491], [86.4530168, 22.903456], [86.4530023, 22.9035689], [86.4529147, 22.9037495], [86.4525891, 22.9041353], [86.4525639, 22.9041651], [86.4524568, 22.9042193], [86.4523806, 22.9042351], [86.4523691, 22.9042374], [86.452257, 22.904224], [86.4521351, 22.9041969], [86.4519938, 22.9041248], [86.4518279, 22.9039577], [86.4516573, 22.9038223], [86.4515305, 22.9037818], [86.4514044, 22.9037709], [86.4513746, 22.9037683], [86.4513065, 22.9038361], [86.4512773, 22.9039896], [86.4513165, 22.9044907], [86.4513461, 22.9051093], [86.4513657, 22.9052131], [86.451434, 22.905484], [86.4514389, 22.9055653], [86.4513903, 22.905633], [86.4512879, 22.9056331], [86.4511726, 22.9056407], [86.4511515, 22.9056422], [86.450889, 22.9056063], [86.4508882, 22.9056062], [86.4508054, 22.9056062], [86.4506641, 22.905674], [86.4503718, 22.905927], [86.450099, 22.9060671], [86.4497872, 22.9061891], [86.4496177, 22.9062952], [86.449412, 22.906424], [86.4493097, 22.9065189], [86.4492805, 22.9065641], [86.4492805, 22.9066318], [86.44931, 22.9067621], [86.4493684, 22.9070201], [86.4493685, 22.9072097], [86.449315, 22.9073452], [86.449242, 22.9074671], [86.4491153, 22.9075801], [86.4488334, 22.9077528], [86.4488279, 22.9077562], [86.448326, 22.9080906], [86.448198, 22.9081827], [86.4479558, 22.9083571], [86.4476342, 22.9086146], [86.4475271, 22.9087411], [86.4474054, 22.9089037], [86.4473226, 22.909134], [86.4472398, 22.9093101], [86.4471619, 22.9093824], [86.4470157, 22.9094276], [86.4468403, 22.9094593], [86.4467185, 22.9095361], [86.4465918, 22.9096581], [86.4465724, 22.9097754], [86.4465725, 22.9100192], [86.4465483, 22.9103263], [86.4465484, 22.9105882], [86.4465144, 22.9107598], [86.4464024, 22.910981], [86.4460712, 22.911365], [86.4458373, 22.9116089], [86.4456816, 22.9118799], [86.4455745, 22.9122863], [86.4454285, 22.9125391], [86.445068, 22.9130856], [86.4448683, 22.913343], [86.4447808, 22.9138036], [86.4446786, 22.9139391], [86.4445031, 22.9139482], [86.4442838, 22.914007], [86.4442594, 22.9140161], [86.4438696, 22.9141607], [86.4436163, 22.9144001], [86.4432754, 22.9148878], [86.4427444, 22.9156014], [86.442608, 22.915746], [86.442379, 22.9158589], [86.4420866, 22.9159268], [86.4417942, 22.9160443], [86.4415944, 22.9161934], [86.4415067, 22.9162927], [86.441497, 22.9163604], [86.4415509, 22.9168887], [86.4415558, 22.9170648], [86.4415122, 22.9173718], [86.4414488, 22.9174576], [86.4410056, 22.9179906], [86.4407912, 22.918397], [86.4406501, 22.9188937], [86.440587, 22.9192594], [86.4405851, 22.9192655], [86.4405432, 22.919404], [86.4404798, 22.9194898], [86.4403531, 22.919544], [86.440207, 22.9195892], [86.4398893, 22.9195894], [86.4397244, 22.9195894], [86.4393394, 22.9196121], [86.4392175, 22.9196483], [86.4389739, 22.9197522], [86.438774, 22.9198788], [86.4386133, 22.9200187], [86.438438, 22.9202401], [86.4383649, 22.9204252], [86.4383554, 22.9209354], [86.4383506, 22.9211341], [86.4382677, 22.9212424], [86.4379851, 22.9214141], [86.4378, 22.9215451], [86.4373371, 22.92178], [86.4369667, 22.9219202], [86.4364891, 22.9220513], [86.4361968, 22.9223223], [86.4359386, 22.9227513], [86.4357682, 22.9230764], [86.4355978, 22.9237628], [86.4354761, 22.9240337], [86.4353057, 22.9244763], [86.435268, 22.9248343], [86.435262, 22.9248917], [86.4353401, 22.9251852], [86.4359302, 22.925948], [86.4363787, 22.9262322], [86.4369931, 22.9264623], [86.4379243, 22.9268276], [86.438904, 22.9270484], [86.4396597, 22.9272604], [86.4403373, 22.9274272], [86.4408297, 22.927603], [86.4408584, 22.9276018], [86.441166, 22.9275894], [86.4411689, 22.9275907], [86.4420095, 22.9279683], [86.4424874, 22.9283518], [86.4431848, 22.9290785], [86.4433751, 22.9296202], [86.4433071, 22.9298731], [86.4431463, 22.9301305], [86.442854, 22.930415], [86.4430052, 22.9306724], [86.4434148, 22.9308211], [86.4434409, 22.930819], [86.4435074, 22.9308137], [86.4436975, 22.9307985], [86.4446486, 22.9305982], [86.4451158, 22.9304998], [86.4451372, 22.9305022], [86.4460079, 22.9305988], [86.4468025, 22.9307113], [86.4480701, 22.9311307], [86.4486552, 22.93146], [86.4488717, 22.9316], [86.4502253, 22.9324751], [86.4509324, 22.9330482], [86.4513079, 22.9332467], [86.4513367, 22.9332449], [86.4518344, 22.9332149], [86.452117, 22.9331154], [86.4525513, 22.9329279], [86.4526092, 22.9329029], [86.4537642, 22.9322387], [86.4541783, 22.9319812], [86.4543635, 22.9319811], [86.4543639, 22.9319812], [86.4545707, 22.9320518], [86.4545878, 22.9320576], [86.4547975, 22.9322292], [86.4557338, 22.9327299], [86.4560215, 22.9329645], [86.4571187, 22.933596], [86.4582451, 22.9341734], [86.4593226, 22.9346875], [86.4599761, 22.9350574], [86.460064, 22.9353553], [86.46003, 22.9355766], [86.4600695, 22.9363622], [86.4602306, 22.9366917], [86.4603309, 22.9367578], [86.4605865, 22.9369263], [86.4610449, 22.9370796], [86.4614643, 22.937278], [86.4615231, 22.9378424], [86.4615477, 22.9383209], [86.461719, 22.9392374], [86.4618512, 22.9402035], [86.4619637, 22.9409529], [86.4621493, 22.9413682], [86.4625346, 22.9417834], [86.4632369, 22.9421623], [86.4636467, 22.9425186], [86.4640856, 22.9429564], [86.4644029, 22.9435252], [86.4646078, 22.9438184], [86.4648327, 22.9446807], [86.4651157, 22.9451591], [86.4653498, 22.9454616], [86.4658132, 22.9456509], [86.4664518, 22.9456686], [86.4667735, 22.9456187], [86.4673194, 22.9454333], [86.4673903, 22.9454029], [86.4675478, 22.9453355], [86.4678896, 22.9451892], [86.4683278, 22.9448886], [86.4683574, 22.9448683], [86.4686789, 22.9445701], [86.4689032, 22.9445114], [86.4691177, 22.9445113], [86.4693031, 22.9446962], [86.4693245, 22.9447378], [86.4695608, 22.9451952], [86.4696017, 22.9452744], [86.4696257, 22.9453308], [86.4698596, 22.9460097], [86.4699734, 22.9463532], [86.4700788, 22.9466714], [86.470248, 22.9471821], [86.4704264, 22.9477206], [86.4706336, 22.9482599], [86.4707732, 22.9486234], [86.4709781, 22.9489258], [86.4713097, 22.9490926], [86.4726409, 22.949453], [86.4743377, 22.9497635], [86.4747082, 22.9498672], [86.4751131, 22.9500339], [86.4755519, 22.9501194], [86.4763612, 22.9502318], [86.4763181, 22.9511754], [86.4767422, 22.9511255], [86.4771807, 22.9507866], [86.4773707, 22.9505608], [86.4774451, 22.9504178], [86.4777894, 22.9497568], [86.4778866, 22.9495446], [86.4779256, 22.949364], [86.4779497, 22.9490614], [86.4779154, 22.9488582], [86.4779201, 22.9486099], [86.4778859, 22.9484022], [86.4778516, 22.9482939], [86.4778514, 22.9482838], [86.4778466, 22.9480636], [86.4778075, 22.9479824], [86.4777148, 22.9478425], [86.4776611, 22.947802], [86.4775587, 22.9477478], [86.4771539, 22.9476126], [86.4770564, 22.9475495], [86.4770174, 22.9474908], [86.4769978, 22.947405], [86.4770026, 22.9473192], [86.4770415, 22.9471747], [86.4771389, 22.9469806], [86.4771534, 22.9468766], [86.4771628, 22.9464884], [86.4771774, 22.9463123], [86.4772114, 22.9462085], [86.4772747, 22.9460865], [86.4773916, 22.9459736], [86.4777181, 22.9457972], [86.4779521, 22.945761], [86.4783519, 22.9457336], [86.4789563, 22.9457513], [86.4790414, 22.9457412], [86.4791464, 22.9457286], [86.4792927, 22.9456201], [86.479278, 22.9455524], [86.479264, 22.9455115], [86.4792194, 22.9453809], [86.4791997, 22.9452364], [86.4791948, 22.9451191], [86.4792337, 22.9450062], [86.4792872, 22.9449474], [86.4793554, 22.9449158], [86.4794286, 22.9449157], [86.4795846, 22.9449337], [86.4797407, 22.9450014], [86.4799553, 22.9451186], [86.4800918, 22.9451275], [86.4801746, 22.9451094], [86.4802477, 22.9450687], [86.4802964, 22.94501], [86.4803061, 22.9449106], [86.4803498, 22.9446352], [86.4804033, 22.9444365], [86.4804666, 22.944283], [86.4805298, 22.9441881], [86.4806029, 22.9441158], [86.4806565, 22.9440887], [86.4807345, 22.9440977], [86.4810807, 22.9443051], [86.481232, 22.9443682], [86.481252, 22.9443834], [86.4813148, 22.9444314], [86.4813977, 22.9444404], [86.481466, 22.9444313], [86.4815489, 22.9443725], [86.4815638, 22.9443475], [86.4817578, 22.9440222], [86.4818264, 22.9439073], [86.4820503, 22.9434602], [86.4821233, 22.9433609], [86.4821769, 22.9433156], [86.4822158, 22.9433111], [86.4822209, 22.9433143], [86.4822647, 22.9433426], [86.4823573, 22.9434284], [86.4825489, 22.9436954], [86.4827136, 22.9439248], [86.4827819, 22.9439699], [86.482814, 22.9439698], [86.4828306, 22.9439698], [86.4828842, 22.9439563], [86.4830061, 22.9438794], [86.4831961, 22.9437213], [86.4832996, 22.9435852], [86.4833129, 22.9435677], [86.4835175, 22.9432741], [86.4836149, 22.9431567], [86.4837122, 22.9429624], [86.483834, 22.942863], [86.4839461, 22.9427772], [86.4841557, 22.9427319], [86.4841768, 22.9427344], [86.4843068, 22.9427498], [86.4846299, 22.9427971], [86.4848285, 22.9428262], [86.4848534, 22.9428252], [86.4851795, 22.9428124], [86.4852964, 22.9427717], [86.4854279, 22.9426046], [86.4854912, 22.9424736], [86.485651, 22.9422092], [86.4857395, 22.9420626], [86.4858759, 22.9419135], [86.4861194, 22.9416741], [86.4865433, 22.9413802], [86.4867333, 22.941195], [86.4868307, 22.9410775], [86.4869134, 22.9409556], [86.4870547, 22.9407252], [86.4874783, 22.9402192], [86.487678, 22.9399211], [86.4876925, 22.9398218], [86.4877798, 22.9392935], [86.4877991, 22.9390316], [86.4878379, 22.9387471], [86.4879401, 22.9385168], [86.4880618, 22.938291], [86.4882408, 22.938116], [86.4883345, 22.9380244], [86.4885732, 22.9378211], [86.4886804, 22.937699], [86.4888555, 22.9373377], [86.4889335, 22.9372609], [86.4891334, 22.9372428], [86.4891377, 22.9372454], [86.4892503, 22.9373149], [86.4893545, 22.9375373], [86.489392, 22.9376173], [86.4894555, 22.9378339], [86.4894801, 22.937983], [86.4895484, 22.9380867], [86.4897045, 22.9381905], [86.4898557, 22.93824], [86.4898875, 22.93824], [86.4898879, 22.9382401], [86.4900292, 22.93824], [86.4903338, 22.9382108], [86.490665, 22.9383749], [86.4909682, 22.9386972], [86.4925581, 22.9403872], [86.4926022, 22.940631], [86.4924812, 22.9416469], [86.4933256, 22.9428472], [86.4941543, 22.9428828], [86.4945447, 22.9432573], [86.4945847, 22.9444311], [86.4947171, 22.9452979], [86.4949323, 22.946142], [86.49524, 22.9468461], [86.4956839, 22.9471573], [86.4963417, 22.9473202], [86.4964836, 22.9473554], [86.4974734, 22.9474539], [86.4974736, 22.9474509], [86.4975325, 22.9465874], [86.4975744, 22.945973], [86.4976719, 22.9459639], [86.4987286, 22.9459022], [86.5001142, 22.9458214], [86.5001325, 22.9458223], [86.5006651, 22.9458489], [86.5007771, 22.9459393], [86.5008548, 22.9463231], [86.5008543, 22.9467862], [86.5008537, 22.9474112], [86.5008878, 22.9475738], [86.5010388, 22.9476642], [86.5018772, 22.9477597], [86.5019406, 22.9478184], [86.5020276, 22.9486176], [86.5021639, 22.9487803], [86.5029047, 22.948966], [86.5030012, 22.9501716], [86.5021626, 22.9502296], [86.5024154, 22.9509929], [86.5025803, 22.9518734], [86.5026103, 22.9518614], [86.5040045, 22.9513056], [86.5040809, 22.9512932], [86.5041572, 22.9512808], [86.5047797, 22.9511797], [86.5061158, 22.9508919], [86.5073612, 22.9508141], [86.5074029, 22.9508115], [86.5074126, 22.950813], [86.5078416, 22.9508796], [86.5078502, 22.950876], [86.5084806, 22.9506137], [86.5096562, 22.9497477], [86.5105124, 22.9489365], [86.5110467, 22.9484303], [86.5116089, 22.9481244], [86.5119833, 22.9479208], [86.5126951, 22.9477588], [86.5127162, 22.9477614], [86.5138212, 22.9478995], [86.5158198, 22.9480048], [86.5163, 22.9480228], [86.5170484, 22.9480508], [86.5185596, 22.9481467], [86.5192079, 22.9482419], [86.519746, 22.9486383], [86.5198949, 22.948748], [86.5209717, 22.9495027], [86.5213078, 22.9499681], [86.5214101, 22.9500584], [86.5214391, 22.9500557], [86.521649, 22.9500359], [86.523, 22.9493099], [86.5240139, 22.9484396], [86.5242245, 22.9482588], [86.5244289, 22.9481713], [86.5254046, 22.9477539], [86.5257932, 22.9476535], [86.52598, 22.9476053], [86.5259879, 22.9476116], [86.5264769, 22.9480074], [86.5275099, 22.9488027], [86.5285235, 22.9495122], [86.528971, 22.9499334], [86.5291763, 22.9501266], [86.5293057, 22.9503837], [86.5294489, 22.9506686], [86.5298334, 22.9515402], [86.5300377, 22.9521543], [86.530125, 22.9528045], [86.5302849, 22.9541681], [86.5304597, 22.9552022], [86.5307605, 22.9573334], [86.5308521, 22.9586699], [86.5311144, 22.9602819], [86.5313133, 22.961623], [86.5314733, 22.9629324], [86.5314969, 22.9639979], [86.5315459, 22.9645542], [86.5316034, 22.965208], [86.5322762, 22.9652716], [86.5337973, 22.9653854], [86.5349332, 22.9656118], [86.5372342, 22.966173], [86.5379606, 22.9662592], [86.5398667, 22.9667072], [86.5398953, 22.9667064], [86.5401886, 22.9666984], [86.5401902, 22.9666993], [86.5403689, 22.9668023], [86.540401, 22.9668023], [86.5405006, 22.9668023], [86.5405153, 22.966685], [86.5405788, 22.9665631], [86.5407153, 22.9664819], [86.5409055, 22.9664775], [86.5409107, 22.9664782], [86.5410712, 22.9665002], [86.5411491, 22.9665995], [86.5412076, 22.966726], [86.5412856, 22.9667712], [86.5413127, 22.9667683], [86.5413685, 22.9667622], [86.5416416, 22.9665953], [86.5421685, 22.9662163], [86.5422339, 22.9661732], [86.5423674, 22.9660852], [86.542627, 22.965914], [86.5428184, 22.9658208], [86.5430806, 22.9656931], [86.5436023, 22.9656482], [86.5438392, 22.9656483], [86.5441532, 22.9656485], [86.5441543, 22.9656486], [86.5447773, 22.9656939], [86.5449869, 22.9658927], [86.5449477, 22.9661681], [86.5441718, 22.9671745], [86.5441229, 22.9673822], [86.543947, 22.9680729], [86.5439904, 22.9689263], [86.5440825, 22.96973], [86.5446967, 22.9701095], [86.5453304, 22.9702814], [86.5461071, 22.9709707], [86.5461297, 22.9709907], [86.5467777, 22.9718444], [86.5473387, 22.9725001], [86.5474501, 22.9726303], [86.5476983, 22.9733122], [86.547723, 22.9738124], [86.5477466, 22.9742919], [86.5478731, 22.9747435], [86.5483213, 22.9754481], [86.5486574, 22.9760171], [86.549819, 22.9771633], [86.5500171, 22.9773587], [86.5505629, 22.9779911], [86.5495602, 22.9788929], [86.5494993, 22.9789477], [86.5486989, 22.9800806], [86.5474981, 22.9823239], [86.5477796, 22.9846538], [86.5479056, 22.9859857], [86.5478921, 22.9865042], [86.5478807, 22.9869384], [86.5476657, 22.9876335], [86.5473777, 22.9881527], [86.5465286, 22.9891004], [86.5464285, 22.9892282], [86.5456062, 22.9902783], [86.5454477, 22.9903246], [86.5454209, 22.9903324], [86.5453279, 22.9901981], [86.5449579, 22.989664], [86.5445098, 22.9889322], [86.5441978, 22.9886929], [86.5436764, 22.9880334], [86.5428772, 22.9871886], [86.5421413, 22.9864839], [86.5413907, 22.9857928], [86.5407085, 22.9851196], [86.539909, 22.9845774], [86.5391242, 22.9841481], [86.5376131, 22.9833481], [86.5368773, 22.9829681], [86.5361164, 22.9825752], [86.5347808, 22.9819062], [86.5333644, 22.9815023], [86.5320993, 22.9811416], [86.5312022, 22.9809108], [86.530276, 22.9806529], [86.5299151, 22.9806104], [86.5298908, 22.9806075], [86.5294274, 22.9807697], [86.529042, 22.9809682], [86.5287523, 22.980968], [86.5287201, 22.980968], [86.5281401, 22.980638], [86.5278575, 22.980376], [86.5269365, 22.9796033], [86.5260106, 22.9786998], [86.52488, 22.9778683], [86.5238175, 22.9771272], [86.5242274, 22.976694], [86.5248861, 22.9761752], [86.5251887, 22.9758277], [86.5254866, 22.9755922], [86.5255253, 22.9755616], [86.5258764, 22.9755618], [86.5258781, 22.9755618], [86.5263348, 22.9755846], [86.5266712, 22.975621], [86.5266751, 22.975618], [86.526837, 22.9754947], [86.5269348, 22.9751471], [86.5269536, 22.9749705], [86.5269987, 22.9745466], [86.5268139, 22.9737473], [86.5265754, 22.9732054], [86.5261907, 22.9726137], [86.5256011, 22.9720038], [86.5247287, 22.9715383], [86.5240072, 22.9712624], [86.5225496, 22.9709273], [86.5212035, 22.9707112], [86.5211942, 22.9707097], [86.5193607, 22.9708214], [86.5184634, 22.9709968], [86.5175905, 22.9711227], [86.5161179, 22.9712029], [86.5148061, 22.9713871], [86.5138844, 22.9716167], [86.5130536, 22.9716776], [86.5129091, 22.9716882], [86.512475, 22.971873], [86.5123835, 22.9719947], [86.5121626, 22.9722881], [86.5117235, 22.9726219], [86.5114064, 22.9727684], [86.5114015, 22.9727707], [86.5111382, 22.9727479], [86.5102565, 22.9725787], [86.5102412, 22.9725757], [86.5097048, 22.9726656], [86.5089684, 22.9728502], [86.5086223, 22.9730324], [86.5086171, 22.9730351], [86.5086072, 22.9732653], [86.5089919, 22.9738119], [86.5100929, 22.9750318], [86.5104825, 22.9754835], [86.5115794, 22.9758365], [86.5124617, 22.9761713], [86.5128029, 22.9763521], [86.513178, 22.9766729], [86.5134264, 22.9770659], [86.5136114, 22.9773053], [86.5137771, 22.977486], [86.513509, 22.9778111], [86.5134013, 22.9779418], [86.5133593, 22.9779418], [86.5133262, 22.9779418], [86.513294, 22.9779417], [86.5130348, 22.9776971], [86.5130163, 22.9776796], [86.5126675, 22.97812], [86.5114152, 22.9797011], [86.5105025, 22.9806126], [86.5091798, 22.981966], [86.5079356, 22.9829404], [86.5077452, 22.9831072], [86.5070523, 22.983644], [86.5059347, 22.9845264], [86.5057153, 22.9846995], [86.5047929, 22.9854619], [86.5046643, 22.9855925], [86.5041584, 22.9861069], [86.5036066, 22.986856], [86.503599, 22.9868715], [86.5031865, 22.9877135], [86.5031814, 22.9879709], [86.5033224, 22.9883548], [86.5032781, 22.9888559], [86.5030433, 22.9895916], [86.5027014, 22.9902957], [86.5021497, 22.990959], [86.5013688, 22.9916897], [86.5013002, 22.9919922], [86.5012605, 22.992683], [86.5012353, 22.9935046], [86.5011568, 22.9935812], [86.5011475, 22.9935903], [86.5005398, 22.9936251], [86.5005233, 22.9936261], [86.4999008, 22.9935847], [86.4992164, 22.9935392], [86.4990019, 22.9934261], [86.4987584, 22.9930738], [86.4981982, 22.9924277], [86.4978173, 22.9921383], [86.4976865, 22.992039], [86.4973736, 22.9920351], [86.4973423, 22.9920347], [86.4970303, 22.9921252], [86.4959926, 22.9923286], [86.4959429, 22.9923383], [86.4949063, 22.9924101], [86.4948897, 22.9924113], [86.494305, 22.9923641], [86.49428, 22.9923621], [86.493539, 22.9925567], [86.4926612, 22.9926703], [86.4919154, 22.9927232], [86.4918907, 22.992725], [86.4905786, 22.9924054], [86.489886, 22.9922886], [86.4893919, 22.9922673], [86.4893691, 22.9922663], [86.4882475, 22.992371], [86.4877448, 22.9924999], [86.4877356, 22.9925022], [86.4870625, 22.9924305], [86.4850431, 22.9918856], [86.4838432, 22.991593], [86.4833965, 22.9914923], [86.4827847, 22.9913544], [86.4816922, 22.9910887], [86.4811995, 22.9909986], [86.4810776, 22.9909763], [86.4808532, 22.9908093], [86.4807021, 22.9905724], [86.4804187, 22.9901279], [86.4803789, 22.9898517], [86.4803745, 22.9898209], [86.4798872, 22.9903585], [86.4789661, 22.9910137], [86.4788251, 22.9911398], [86.4786882, 22.9912623], [86.4780398, 22.9914658], [86.476889, 22.9916426], [86.4757421, 22.9917459], [86.4757284, 22.9917472], [86.4745434, 22.9916621], [86.4734508, 22.9913829], [86.4730996, 22.9912793], [86.4724167, 22.9910224], [86.4721727, 22.9909141], [86.4720314, 22.9908096], [86.4714897, 22.9904089], [86.4713042, 22.9902419], [86.4709236, 22.9897771], [86.4705099, 22.9888911], [86.4705084, 22.9888879], [86.4698877, 22.9889506], [86.4696551, 22.9889742], [86.4688683, 22.9890144], [86.4688504, 22.9890153], [86.4683239, 22.989133], [86.4682966, 22.9891452], [86.467596, 22.9894572], [86.4675828, 22.9894631], [86.466622, 22.9891611], [86.465339, 22.9885478], [86.4645172, 22.988437], [86.464505, 22.9884354], [86.4642731, 22.9884531], [86.4637931, 22.98849], [86.4632177, 22.988576], [86.4623987, 22.9890505], [86.4622498, 22.9891413], [86.4615091, 22.9895928], [86.4615017, 22.9895973], [86.4604775, 22.9894082], [86.4595654, 22.9891514], [86.4586473, 22.9890849], [86.4584163, 22.9890681], [86.4583902, 22.9890662], [86.4581415, 22.9891386], [86.457537, 22.9894956], [86.4561609, 22.990105], [86.4556826, 22.9903169], [86.4556795, 22.9903182], [86.4546955, 22.9902691], [86.4546944, 22.9902691], [86.4534463, 22.9902669], [86.4526511, 22.9902656], [86.4526218, 22.9902655], [86.4523744, 22.9902604], [86.4515538, 22.9902435], [86.4514071, 22.9895212], [86.4511823, 22.9886634], [86.4508505, 22.9883475], [86.4503666, 22.9883253], [86.4492948, 22.988276], [86.4482123, 22.9882358], [86.447149, 22.9882185], [86.4468925, 22.9882143], [86.4468663, 22.9882139], [86.4464225, 22.9882366], [86.4461398, 22.9885167], [86.4456233, 22.9892709], [86.4451506, 22.9899394], [86.4445853, 22.9906349], [86.4440151, 22.9914433], [86.4435425, 22.9922516], [86.4435396, 22.9922551], [86.4434844, 22.9923211], [86.4432257, 22.9926311], [86.4429497, 22.9928276], [86.4428259, 22.9929157], [86.4422993, 22.9932275], [86.4417289, 22.9934218], [86.4408852, 22.9934402], [86.4398172, 22.9935219], [86.4391021, 22.9936203], [86.4386322, 22.993685], [86.4382571, 22.9937759], [86.4376814, 22.9939155], [86.4366086, 22.9941507], [86.4359354, 22.9941831], [86.4356625, 22.9941962], [86.4346189, 22.9944539], [86.4334292, 22.9949465], [86.432974, 22.9951458], [86.4322834, 22.9954481], [86.4319122, 22.9955191], [86.4315545, 22.9955876], [86.431196, 22.9956562], [86.4301281, 22.9960403], [86.4299123, 22.9961491], [86.42907, 22.9965735], [86.4271019, 22.9965786], [86.42709, 22.9965786], [86.4261129, 22.9965715], [86.4253422, 22.9965659], [86.4253099, 22.9965656], [86.4252955, 22.9971672], [86.4252858, 22.997568], [86.424491, 22.9976359], [86.4240716, 22.9977579], [86.4237597, 22.9979105], [86.4232866, 22.9981419], [86.4223113, 22.9987111], [86.4214638, 22.9991884], [86.4207072, 22.9996145], [86.4202488, 22.9998449], [86.4201038, 22.9999282], [86.4198245, 23.0000888], [86.4195972, 23.0001748], [86.4193975, 23.0002503], [86.4193466, 23.0002696], [86.4192877, 23.0002726], [86.4192589, 23.0002741], [86.4192003, 23.000247], [86.4191662, 23.0001613], [86.419093, 22.9999581], [86.4189559, 22.9997118], [86.4189222, 22.9996512], [86.4188002, 22.9995563], [86.4186978, 22.9995022], [86.4184539, 22.9994391], [86.4183319, 22.9993849], [86.4182539, 22.9993082], [86.4182538, 22.9992088], [86.4183475, 22.99899], [86.4183562, 22.9989695], [86.4187706, 22.9984412], [86.4192483, 22.9978541], [86.4196091, 22.9973303], [86.4197163, 22.9971451], [86.4197602, 22.9969736], [86.4197504, 22.9968832], [86.4197211, 22.9967839], [86.4196333, 22.9966891], [86.4195308, 22.9966214], [86.4193942, 22.9965989], [86.4192608, 22.9965914], [86.4192334, 22.9965899], [86.4190334, 22.9966487], [86.4181899, 22.9972087], [86.4180192, 22.9972765], [86.4178436, 22.9972946], [86.4176319, 22.9972947], [86.4175998, 22.9972947], [86.4174973, 22.997227], [86.4174095, 22.9971547], [86.4173314, 22.9970509], [86.4172876, 22.9968884], [86.4172875, 22.9967123], [86.4173556, 22.9961435], [86.4175358, 22.9953397], [86.417565, 22.9950011], [86.4175601, 22.9948657], [86.4175063, 22.9946851], [86.4173355, 22.9942381], [86.4173452, 22.9940801], [86.4173304, 22.9936286], [86.4172377, 22.9933171], [86.4171645, 22.9932043], [86.4170426, 22.9931049], [86.4168475, 22.9930237], [86.4166036, 22.9929515], [86.4163012, 22.992893], [86.4158526, 22.9927802], [86.4155257, 22.9926628], [86.4153209, 22.9925591], [86.4151892, 22.9924553], [86.4150623, 22.9922837], [86.4149745, 22.9920174], [86.4148233, 22.9916562], [86.4147257, 22.9915208], [86.4144964, 22.9913583], [86.4142477, 22.9912275], [86.4138965, 22.9911011], [86.4135649, 22.9909612], [86.4132868, 22.9908078], [86.4130674, 22.9907717], [86.4124914, 22.9906598], [86.412487, 22.990659], [86.4123163, 22.9906635], [86.4121896, 22.9907132], [86.4119994, 22.9907629], [86.4117263, 22.9908984], [86.4113217, 22.9911468], [86.4107509, 22.991241], [86.4107462, 22.9912418], [86.4103317, 22.9912283], [86.4102293, 22.9912103], [86.4100635, 22.9911335], [86.4099171, 22.9909936], [86.4098293, 22.9908176], [86.4098048, 22.9906595], [86.4097267, 22.9902893], [86.4096682, 22.9901043], [86.4096048, 22.990014], [86.409117, 22.9895806], [86.4087316, 22.9892195], [86.4084049, 22.989057], [86.4083065, 22.98905], [86.4082781, 22.989048], [86.4081952, 22.9890887], [86.4080294, 22.9892151], [86.4075223, 22.9896803], [86.4073176, 22.9897751], [86.4071859, 22.9898022], [86.4070862, 22.9898023], [86.4070542, 22.9898023], [86.4068933, 22.989721], [86.406786, 22.9896082], [86.4065567, 22.9891432], [86.4064444, 22.9887142], [86.4063566, 22.9885156], [86.40622, 22.988317], [86.4059175, 22.9880236], [86.4058078, 22.9879535], [86.4057762, 22.9879333], [86.4056006, 22.9878836], [86.4054543, 22.9878521], [86.4052836, 22.9878431], [86.4051422, 22.9878251], [86.4049861, 22.9877529], [86.4048837, 22.9876762], [86.4047861, 22.9875], [86.4045958, 22.9868454], [86.4044982, 22.9863308], [86.4044592, 22.9861908], [86.4043615, 22.9859696], [86.4041421, 22.9856626], [86.4039176, 22.985315], [86.403864, 22.985175], [86.4037664, 22.9847552], [86.4036786, 22.9845158], [86.4034493, 22.9841954], [86.4030981, 22.9838206], [86.4029274, 22.9836085], [86.4025713, 22.9828681], [86.4022786, 22.9826379], [86.4021031, 22.9824618], [86.4017811, 22.9819968], [86.4013226, 22.9812836], [86.4011909, 22.9810308], [86.4010836, 22.9808592], [86.4006398, 22.9805657], [86.4003472, 22.9803401], [86.4000108, 22.9801685], [86.3996401, 22.9800377], [86.3994012, 22.9799971], [86.3985576, 22.9798945], [86.3985478, 22.9798933], [86.3981674, 22.9799115], [86.3977529, 22.9800334], [86.397115, 22.9801499], [86.3971093, 22.9801509], [86.3966997, 22.9801329], [86.3963143, 22.9801065], [86.3963047, 22.9801058], [86.3961145, 22.9801104], [86.3957992, 22.9801868], [86.3957976, 22.9801872], [86.3955459, 22.9801831], [86.3955197, 22.9801827], [86.3950967, 22.9802039], [86.394798, 22.9802189], [86.3944517, 22.9804356], [86.3942567, 22.9804944], [86.3937643, 22.9809278], [86.3936139, 22.9810466], [86.3928379, 22.9816594], [86.3917279, 22.9823987], [86.3908804, 22.9829631], [86.3902682, 22.9833708], [86.3894734, 22.9839397], [86.388908, 22.9843275], [86.3885518, 22.9845719], [86.3877131, 22.9853124], [86.3871036, 22.9860529], [86.3861674, 22.9876558], [86.3854068, 22.9894483], [86.3851971, 22.9904144], [86.3850997, 22.9912], [86.3850218, 22.9938774], [86.3850323, 22.9943456], [86.3850511, 22.9951868], [86.3850356, 22.9952218], [86.385017, 22.9952635], [86.3849224, 22.9952636], [86.3848903, 22.9952636], [86.3844805, 22.9949295], [86.3835691, 22.994291], [86.3835588, 22.9942838], [86.3828322, 22.9945186], [86.3819397, 22.9948393], [86.3811351, 22.9951554], [86.3801207, 22.995512], [86.3790478, 22.9958371], [86.3778725, 22.996108], [86.377578, 22.9962007], [86.3766532, 22.9964918], [86.3757148, 22.9970178], [86.3755657, 22.9971014], [86.3754316, 22.9972306], [86.3753383, 22.9973205], [86.3752813, 22.9973754], [86.3752097, 22.9974445], [86.3743904, 22.9977289], [86.373836, 22.9978724], [86.3733858, 22.997989], [86.3727787, 22.9981463], [86.3727518, 22.9981533], [86.3722591, 22.9974941], [86.3720093, 22.9970975], [86.3717875, 22.9967455], [86.3717812, 22.9967356], [86.3696403, 22.9975391], [86.3688941, 22.9979319], [86.3673651, 22.9985519], [86.3673541, 22.9985563], [86.3672798, 22.9985865], [86.3650436, 22.9993103], [86.3646022, 22.9994532], [86.3639012, 22.9995784], [86.3638951, 22.9995795], [86.3600593, 22.9993994], [86.3600423, 22.9993986], [86.3592326, 22.999434], [86.3592181, 22.9994346], [86.3583792, 22.9993983], [86.3578679, 22.9993623], [86.3571195, 22.9993096], [86.3570966, 22.999308], [86.3562431, 22.9994432], [86.3553184, 22.9994432], [86.3552872, 22.9994432], [86.3544338, 22.9993437], [86.3543656, 22.9987342], [86.3544486, 22.9978222], [86.3545268, 22.9968515], [86.3544978, 22.9950906], [86.3544688, 22.9939935], [86.3545908, 22.993384], [86.3545676, 22.9932321], [86.3545302, 22.9929869], [86.3545274, 22.9929686], [86.3536934, 22.9934832], [86.3522741, 22.9944537], [86.3504012, 22.995397], [86.3486259, 22.9961372], [86.3483687, 22.9962614], [86.3476359, 22.9966156], [86.3450085, 22.9966374], [86.3449779, 22.9966376], [86.344622, 22.9965563], [86.3438802, 22.9965055], [86.3436953, 22.9964929], [86.3431785, 22.996258], [86.3426226, 22.9958426], [86.3421253, 22.9951968], [86.3416525, 22.9944652], [86.3409795, 22.993982], [86.3406091, 22.993553], [86.3403459, 22.9930021], [86.3402192, 22.9925506], [86.3398831, 22.9910651], [86.3397565, 22.9902253], [86.3395333, 22.9898141], [86.3381835, 22.9903252], [86.3370292, 22.9907624], [86.3350631, 22.991703], [86.3326381, 22.99266], [86.3312214, 22.9930834], [86.3309081, 22.9931771], [86.3291769, 22.993965], [86.3290259, 22.9939957], [86.32809, 22.9944888], [86.3269439, 22.99466], [86.3265879, 22.9946644], [86.326155, 22.9948216], [86.3259294, 22.9949034], [86.325623, 22.9950763], [86.3250417, 22.9954043], [86.3244139, 22.9957714], [86.3232125, 22.9964738], [86.3227393, 22.9966633], [86.3223539, 22.9968889], [86.3219638, 22.9970964], [86.321588, 22.9974439], [86.321139, 22.9981978], [86.3206071, 22.9990644], [86.3202855, 22.9996829], [86.3201776, 22.9998905], [86.3201434, 23.0000398], [86.3200751, 23.000211], [86.3200248, 23.0002801], [86.320019, 23.000288], [86.319792, 23.0005992], [86.3196349, 23.0006113], [86.3196164, 23.0006128], [86.3188167, 23.0005222], [86.3183242, 23.0003956], [86.3177438, 23.0002914], [86.3171147, 23.0002506], [86.3166027, 23.0001376], [86.3162022, 23.000085], [86.3161437, 23.0000773], [86.3161198, 23.0000741], [86.3158272, 23.0001778], [86.3157778, 23.0002623], [86.3157001, 23.0003952], [86.3156662, 23.0004532], [86.3157392, 23.0006979], [86.3154464, 23.0010951], [86.3144073, 23.0016591], [86.3139732, 23.0017627], [86.3122709, 23.002191], [86.3115219, 23.0023731], [86.3103979, 23.0026462], [86.3088953, 23.0034176], [86.3087195, 23.0038735], [86.3092698, 23.0057701], [86.3094108, 23.0064112], [86.3090935, 23.0070523], [86.3085763, 23.0073455], [86.3076722, 23.0077159], [86.3076692, 23.0077143], [86.3076662, 23.0077184], [86.3062375, 23.0083038], [86.3055713, 23.0085767], [86.3041092, 23.0092279], [86.3023069, 23.0100305], [86.3022393, 23.0100606], [86.3029985, 23.0110631], [86.3035357, 23.0117724], [86.3039938, 23.0126847], [86.3038521, 23.0129239], [86.3035546, 23.0131064], [86.3033301, 23.0132441], [86.3038223, 23.0139397], [86.3038576, 23.0139942], [86.3044266, 23.0148745], [86.3046899, 23.0153036], [86.3043404, 23.0156293], [86.3040896, 23.0158631], [86.3037592, 23.0159904], [86.3037384, 23.0159984], [86.3036116, 23.0159081], [86.3021789, 23.0134784], [86.3010827, 23.0114236], [86.3006827, 23.0113421], [86.3003609, 23.0111795], [86.2996981, 23.0100865], [86.2993814, 23.0097884], [86.2986888, 23.009603], [86.2977378, 23.0095753], [86.2968303, 23.0095232], [86.2968139, 23.0095223], [86.2967867, 23.0095207], [86.2962063, 23.0096829], [86.2958891, 23.0098408], [86.2953719, 23.0102424], [86.294791, 23.0110457], [86.2942735, 23.0118717], [86.2936099, 23.012219], [86.2934778, 23.0122848], [86.2928585, 23.0125933], [86.2924878, 23.0128054], [86.2921379, 23.012967], [86.2921169, 23.0129767], [86.2921152, 23.0129752], [86.2918927, 23.0127825], [86.2914539, 23.0124255], [86.2913272, 23.012299], [86.2912444, 23.0121545], [86.2910786, 23.0120325], [86.2908836, 23.0119241], [86.2906885, 23.0118382], [86.2905082, 23.0117342], [86.2901181, 23.011576], [86.2897037, 23.0113049], [86.2892746, 23.0109886], [86.2890407, 23.0107266], [86.2888897, 23.0104601], [86.2888703, 23.0102795], [86.2888411, 23.0101712], [86.28869, 23.0100311], [86.2884413, 23.0099497], [86.2880804, 23.0098773], [86.2878025, 23.0098048], [86.2874905, 23.0096286], [86.2872808, 23.0094659], [86.287159, 23.0093259], [86.2871153, 23.0091318], [86.2870958, 23.0089105], [86.2869839, 23.0085854], [86.2868913, 23.0084137], [86.2867597, 23.0082963], [86.2866037, 23.0082284], [86.2863062, 23.0081742], [86.2860039, 23.0081378], [86.2857843, 23.0080971], [86.28537, 23.0078981], [86.285058, 23.0076903], [86.284785, 23.0074599], [86.2845803, 23.0072069], [86.2844323, 23.007061], [86.2844292, 23.0070579], [86.2841815, 23.0069209], [86.2841757, 23.0069177], [86.2841367, 23.0069223], [86.2840196, 23.0069944], [86.2838878, 23.0071117], [86.2837619, 23.0072389], [86.2836779, 23.0073238], [86.2833754, 23.0075404], [86.2831705, 23.0075989], [86.2827226, 23.0076246], [86.2827023, 23.0076257], [86.2824145, 23.0075939], [86.2821763, 23.0075533], [86.2821755, 23.0075532], [86.2820195, 23.0075531], [86.281917, 23.0075982], [86.2814535, 23.0078688], [86.2812632, 23.0079093], [86.2810164, 23.0079443], [86.2810096, 23.0079452], [86.2806926, 23.0079315], [86.280244, 23.0077868], [86.2800183, 23.0077466], [86.2800148, 23.007746], [86.2797465, 23.0077504], [86.2791125, 23.0078222], [86.2785789, 23.007835], [86.2785613, 23.0078354], [86.2782102, 23.0078217], [86.2778834, 23.007704], [86.2775762, 23.0075729], [86.2771717, 23.0073786], [86.2767816, 23.0071119], [86.276455, 23.0069086], [86.2758556, 23.006249], [86.2757143, 23.0059915], [86.2755877, 23.005838], [86.275417, 23.0057565], [86.2752073, 23.0057293], [86.2751646, 23.0057099], [86.2749977, 23.0056344], [86.2748368, 23.0054899], [86.2745494, 23.0050156], [86.2743398, 23.0048484], [86.274218, 23.0047806], [86.2740195, 23.0047763], [86.2740033, 23.004776], [86.273689, 23.0047798], [86.2736619, 23.0047802], [86.2729743, 23.0047166], [86.2727305, 23.0046577], [86.2726785, 23.0046348], [86.2725453, 23.0045763], [86.2723648, 23.004513], [86.2723356, 23.0044362], [86.2722382, 23.0042916], [86.2722042, 23.0041697], [86.2720484, 23.0037633], [86.2720387, 23.0037001], [86.2719754, 23.003533], [86.2718, 23.0033161], [86.2715612, 23.0030812], [86.2712297, 23.0028598], [86.2701231, 23.0023172], [86.269504, 23.0019737], [86.2689725, 23.0017566], [86.2685288, 23.001535], [86.2681047, 23.0013046], [86.2678659, 23.0011554], [86.2678856, 23.0009297], [86.2681003, 23.0006535], [86.2682624, 23.000015], [86.2682375, 22.9998364], [86.2677402, 22.9997638], [86.2670921, 22.9991268], [86.2665949, 22.9988104], [86.2661024, 22.9986701], [86.2660218, 22.9985859], [86.2657954, 22.9983493], [86.2658494, 22.9979836], [86.2652064, 22.9979703], [86.2651764, 22.9979697], [86.2644105, 22.9981316], [86.2637227, 22.9983659], [86.2629814, 22.998424], [86.2626399, 22.9985412], [86.2623908, 22.9985491], [86.2623619, 22.9985501], [86.2618743, 22.9983917], [86.2614351, 22.9983045], [86.261372, 22.998292], [86.2610476, 22.9982836], [86.2610161, 22.9982827], [86.2608679, 22.998411], [86.2607086, 22.9985489], [86.2605757, 22.9985884], [86.2605574, 22.9985939], [86.2600699, 22.9983994], [86.2595188, 22.9983584], [86.2584802, 22.9981002], [86.257978, 22.9980457], [86.2571783, 22.9978735], [86.2564469, 22.9976833], [86.2554425, 22.9974433], [86.254638, 22.9972756], [86.2540967, 22.9972526], [86.2534627, 22.9971121], [86.2528399, 22.9966046], [86.2526197, 22.9964252], [86.2519324, 22.9959777], [86.2516984, 22.9959007], [86.2512164, 22.9958834], [86.2511864, 22.9958823], [86.2505473, 22.9961482], [86.2505264, 22.9961611], [86.2501382, 22.9964002], [86.2501228, 22.9964097], [86.2500001, 22.9963396], [86.2487097, 22.9957004], [86.2487353, 22.9952421], [86.2487385, 22.9951856], [86.2485027, 22.9949143], [86.2484992, 22.9949103], [86.248076, 22.9949671], [86.2473481, 22.9950647], [86.2471825, 22.9953313], [86.2471489, 22.9959049], [86.247047, 22.9964785], [86.2468959, 22.9966321], [86.2464082, 22.9967048], [86.2456034, 22.9968454], [86.2455061, 22.9970532], [86.2453512, 22.9981992], [86.245351, 22.9982005], [86.243063, 22.9980983], [86.242032, 22.9961527], [86.2417406, 22.9960957], [86.24172, 22.9960917], [86.24171, 22.9960897], [86.2399102, 22.9962355], [86.2392654, 22.9963133], [86.2389688, 22.9963491], [86.2385375, 22.9963606], [86.2365396, 22.9964141], [86.2401437, 22.9894888], [86.243478, 22.9870137], [86.2467956, 22.9807575], [86.244049, 22.9758978], [86.23949, 22.9718274], [86.217184, 22.9726184], [86.2158107, 22.9677188], [86.1977381, 22.9657017], [86.1966704, 22.959974], [86.1912631, 22.9534143], [86.1873588, 22.945953], [86.1943417, 22.9417468], [86.1912631, 22.9342865], [86.1881732, 22.9250378], [86.1889457, 22.9106497], [86.1923789, 22.9059851], [86.194213, 22.8955986], [86.1945754, 22.8950985], [86.1963701, 22.8926228], [86.1967127, 22.8925625], [86.2137517, 22.8895645], [86.2175273, 22.8885507], [86.2158536, 22.8817898], [86.2115621, 22.8732097], [86.2053394, 22.8696114], [86.2053394, 22.8628101], [86.2043925, 22.8618618], [86.1989122, 22.8563736], [86.1985159, 22.8513023], [86.2002969, 22.8497204], [86.2002754, 22.8458645], [86.1972928, 22.843274], [86.1976576, 22.8395761], [86.1987519, 22.8366493], [86.1972284, 22.8310527], [86.1944818, 22.8275522], [86.1942458, 22.8212827], [86.1971855, 22.8204718], [86.1972753, 22.8183313], [86.1916923, 22.8204916], [86.1872721, 22.8221134], [86.1835813, 22.8241109], [86.1800408, 22.8281059], [86.1767578, 22.8313889], [86.1737752, 22.8331885], [86.1643338, 22.8358978], [86.1598921, 22.8368668], [86.1590895, 22.8362178], [86.1583282, 22.8356021], [86.1594844, 22.8238736], [86.1578965, 22.8208871], [86.1544847, 22.8186918], [86.151451, 22.8170606], [86.1478758, 22.8141031], [86.1460948, 22.811334], [86.1457648, 22.807672], [86.1457729, 22.8016814], [86.1466741, 22.7997033], [86.1475135, 22.7991694], [86.1506223, 22.7983977], [86.1523384, 22.7991876], [86.1545706, 22.8006725], [86.156888, 22.802077], [86.1587548, 22.8021957], [86.1622739, 22.7982197], [86.1654015, 22.7959071], [86.1681533, 22.7945205], [86.1714363, 22.7934721], [86.1737323, 22.7916126], [86.1747193, 22.7886254], [86.1748051, 22.7866867], [86.1737302, 22.7808346], [86.1731958, 22.7756869], [86.1721229, 22.7682873], [86.1714148, 22.7640135], [86.1702776, 22.7628066], [86.1677027, 22.7605311], [86.1643593, 22.7595751], [86.1608791, 22.7582952], [86.1610078, 22.7537045], [86.1579389, 22.7515238], [86.1593341, 22.7445227], [86.1588621, 22.7342716], [86.1628532, 22.7266322], [86.1609649, 22.7155088], [86.1595916, 22.7097291], [86.1621666, 22.706364], [86.1608791, 22.69999], [86.1615228, 22.6814601], [86.1626708, 22.6760551], [86.1637544, 22.6725903], [86.1636313, 22.6674272], [86.1612868, 22.6618981], [86.1594629, 22.6544527], [86.1546528, 22.6487231], [86.1547422, 22.6444325], [86.1536908, 22.6395211], [86.1523186, 22.6351742], [86.1481547, 22.6327875], [86.1459231, 22.6284699], [86.1407088, 22.6212208], [86.1283922, 22.6125451], [86.1218154, 22.6072067], [86.1205387, 22.6063747], [86.1195409, 22.6060974], [86.1177707, 22.6058696], [86.1162149, 22.6045424], [86.1158717, 22.6036708], [86.1159468, 22.602611], [86.1156356, 22.6009172], [86.115185, 22.5999663], [86.113522, 22.5966779], [86.1115801, 22.595093], [86.1092949, 22.5925275], [86.1065805, 22.5895955], [86.1047566, 22.587119], [86.1034369, 22.5833844], [86.101495, 22.5816508], [86.0994351, 22.5805413], [86.0974913, 22.5792662], [86.0921502, 22.5757565], [86.0891998, 22.5742903], [86.0819578, 22.5713281], [86.0802734, 22.5703275], [86.077162, 22.5676228], [86.0742374, 22.5646861], [86.0681176, 22.5578242], [86.0648053, 22.5555258]]], &quot;type&quot;: &quot;Polygon&quot;}, &quot;id&quot;: &quot;0&quot;, &quot;properties&quot;: {&quot;addresstype&quot;: &quot;state_district&quot;, &quot;bbox_east&quot;: 86.8893297, &quot;bbox_north&quot;: 23.0159984, &quot;bbox_south&quot;: 22.211435, &quot;bbox_west&quot;: 86.0648053, &quot;class&quot;: &quot;boundary&quot;, &quot;display_name&quot;: &quot;East Singhbhum, Jharkhand, India&quot;, &quot;importance&quot;: 0.46470584067091886, &quot;lat&quot;: 22.613184, &quot;lon&quot;: 86.3819399, &quot;name&quot;: &quot;East Singhbhum&quot;, &quot;osm_id&quot;: 1972030, &quot;osm_type&quot;: &quot;relation&quot;, &quot;place_id&quot;: 231612074, &quot;place_rank&quot;: 10, &quot;type&quot;: &quot;administrative&quot;}, &quot;type&quot;: &quot;Feature&quot;}], &quot;type&quot;: &quot;FeatureCollection&quot;});\n",
              "\n",
              "        \n",
              "    \n",
              "            geo_json_92170c359a56a315359947de61a75bad.addTo(map_95fd95da4b44fad6786efc467f527229);\n",
              "        \n",
              "    \n",
              "            var layer_control_d194236073716eb1631c8c8db5535455_layers = {\n",
              "                base_layers : {\n",
              "                    &quot;openstreetmap&quot; : tile_layer_f445205b4d71db817dd5615b6dd9dd8b,\n",
              "                },\n",
              "                overlays :  {\n",
              "                    &quot;NDVI&quot; : tile_layer_92c906022585fb444b24e88e99bdd0f8,\n",
              "                    &quot;LST&quot; : tile_layer_91bc33424863a3abc3c1e2550add796c,\n",
              "                    &quot;Jamshedpur Boundary&quot; : geo_json_92170c359a56a315359947de61a75bad,\n",
              "                },\n",
              "            };\n",
              "            let layer_control_d194236073716eb1631c8c8db5535455 = L.control.layers(\n",
              "                layer_control_d194236073716eb1631c8c8db5535455_layers.base_layers,\n",
              "                layer_control_d194236073716eb1631c8c8db5535455_layers.overlays,\n",
              "                {\n",
              "  &quot;position&quot;: &quot;topright&quot;,\n",
              "  &quot;collapsed&quot;: true,\n",
              "  &quot;autoZIndex&quot;: true,\n",
              "}\n",
              "            ).addTo(map_95fd95da4b44fad6786efc467f527229);\n",
              "\n",
              "        \n",
              "&lt;/script&gt;\n",
              "&lt;/html&gt;\" style=\"position:absolute;width:100%;height:100%;left:0;top:0;border:none !important;\" allowfullscreen webkitallowfullscreen mozallowfullscreen></iframe></div></div>"
            ]
          },
          "metadata": {},
          "execution_count": 52
        }
      ]
    },
    {
      "cell_type": "markdown",
      "source": [
        "## Centering the map on my AOI i.e. Jamshedpur"
      ],
      "metadata": {
        "id": "MIFsXFdC83AH"
      }
    },
    {
      "cell_type": "code",
      "source": [
        "#Ensuring the city boundary is in the standard WGS84 (lat/lon) format, which Folium requires.\n",
        "city_boundary = city_boundary.to_crs(epsg=4326)\n",
        "#the geographic center (centroid) of Jamshedpur to position the map view.\n",
        "map_center = [city_boundary.centroid.y.iloc[0], city_boundary.centroid.x.iloc[0]]\n",
        "\n",
        "m = folium.Map(location=map_center, zoom_start=10)"
      ],
      "metadata": {
        "colab": {
          "base_uri": "https://localhost:8080/",
          "height": 91
        },
        "id": "fy1NPGeq8_Kw",
        "outputId": "49f62516-2d1c-4864-c019-377b6a8ddb2a"
      },
      "execution_count": 66,
      "outputs": [
        {
          "output_type": "display_data",
          "data": {
            "text/plain": [
              "<IPython.core.display.HTML object>"
            ],
            "text/html": [
              "\n",
              "            <style>\n",
              "                .geemap-dark {\n",
              "                    --jp-widgets-color: white;\n",
              "                    --jp-widgets-label-color: white;\n",
              "                    --jp-ui-font-color1: white;\n",
              "                    --jp-layout-color2: #454545;\n",
              "                    background-color: #383838;\n",
              "                }\n",
              "\n",
              "                .geemap-dark .jupyter-button {\n",
              "                    --jp-layout-color3: #383838;\n",
              "                }\n",
              "\n",
              "                .geemap-colab {\n",
              "                    background-color: var(--colab-primary-surface-color, white);\n",
              "                }\n",
              "\n",
              "                .geemap-colab .jupyter-button {\n",
              "                    --jp-layout-color3: var(--colab-primary-surface-color, white);\n",
              "                }\n",
              "            </style>\n",
              "            "
            ]
          },
          "metadata": {}
        },
        {
          "output_type": "stream",
          "name": "stderr",
          "text": [
            "/tmp/ipython-input-3382394874.py:4: UserWarning: Geometry is in a geographic CRS. Results from 'centroid' are likely incorrect. Use 'GeoSeries.to_crs()' to re-project geometries to a projected CRS before this operation.\n",
            "\n",
            "  map_center = [city_boundary.centroid.y.iloc[0], city_boundary.centroid.x.iloc[0]]\n"
          ]
        }
      ]
    },
    {
      "cell_type": "markdown",
      "source": [
        "## Converting NDVI and LST to map layers"
      ],
      "metadata": {
        "id": "p1YD801Y9Ki6"
      }
    },
    {
      "cell_type": "code",
      "source": [
        "ndvi_map_id = ee.Image(final_ndvi).getMapId(ndvi_vis)\n",
        "lst_map_id = ee.Image(final_lst).getMapId(lst_vis)\n",
        "\n",
        "folium.TileLayer(\n",
        "    tiles=ndvi_map_id['tile_fetcher'].url_format,\n",
        "    attr='Google Earth Engine',\n",
        "    overlay=True,\n",
        "    name='NDVI'\n",
        ").add_to(m)\n",
        "\n",
        "folium.TileLayer(\n",
        "    tiles=lst_map_id['tile_fetcher'].url_format,\n",
        "    attr='Google Earth Engine',\n",
        "    overlay=True,\n",
        "    name='LST'\n",
        ").add_to(m)"
      ],
      "metadata": {
        "colab": {
          "base_uri": "https://localhost:8080/",
          "height": 35
        },
        "id": "jyklnqXk9Pkg",
        "outputId": "ff1a56ea-81f8-43bf-aa2a-23078a0ffa23"
      },
      "execution_count": 67,
      "outputs": [
        {
          "output_type": "display_data",
          "data": {
            "text/plain": [
              "<IPython.core.display.HTML object>"
            ],
            "text/html": [
              "\n",
              "            <style>\n",
              "                .geemap-dark {\n",
              "                    --jp-widgets-color: white;\n",
              "                    --jp-widgets-label-color: white;\n",
              "                    --jp-ui-font-color1: white;\n",
              "                    --jp-layout-color2: #454545;\n",
              "                    background-color: #383838;\n",
              "                }\n",
              "\n",
              "                .geemap-dark .jupyter-button {\n",
              "                    --jp-layout-color3: #383838;\n",
              "                }\n",
              "\n",
              "                .geemap-colab {\n",
              "                    background-color: var(--colab-primary-surface-color, white);\n",
              "                }\n",
              "\n",
              "                .geemap-colab .jupyter-button {\n",
              "                    --jp-layout-color3: var(--colab-primary-surface-color, white);\n",
              "                }\n",
              "            </style>\n",
              "            "
            ]
          },
          "metadata": {}
        },
        {
          "output_type": "execute_result",
          "data": {
            "text/plain": [
              "<folium.raster_layers.TileLayer at 0x7e9b870788f0>"
            ]
          },
          "metadata": {},
          "execution_count": 67
        }
      ]
    },
    {
      "cell_type": "markdown",
      "source": [
        "## Adding boundary layer"
      ],
      "metadata": {
        "id": "KeoLJbtY9ZXn"
      }
    },
    {
      "cell_type": "code",
      "source": [
        "folium.GeoJson(\n",
        "    city_boundary.to_json(),\n",
        "    name=\"Jamshedpur Boundary\",\n",
        "    style_function=lambda x: {\"color\": \"black\", \"weight\": 2, \"fill\": False},\n",
        ").add_to(m)\n",
        "\n",
        "folium.LayerControl().add_to(m)\n",
        "\n",
        "m"
      ],
      "metadata": {
        "id": "jMY6_l4b9bm0"
      },
      "execution_count": null,
      "outputs": []
    },
    {
      "cell_type": "markdown",
      "source": [
        "### NIT Jamshedpur"
      ],
      "metadata": {
        "id": "2TsA0da79jLR"
      }
    },
    {
      "cell_type": "code",
      "source": [
        "import osmnx as ox\n",
        "\n",
        "# Try to get NIT Jamshedpur\n",
        "nit_gdf = ox.geocode_to_gdf(\"NIT Jamshedpur, Jharkhand, India\")\n",
        "nit_gdf.to_file(\"nit_jsr.geojson\", driver=\"GeoJSON\")\n",
        "# Load again with geopandas\n",
        "campus_boundary = gpd.read_file(\"nit_jsr.geojson\")\n",
        "\n",
        "print(campus_boundary.crs)\n",
        "campus_boundary.plot()"
      ],
      "metadata": {
        "colab": {
          "base_uri": "https://localhost:8080/",
          "height": 466
        },
        "id": "VYCA0QAGbQCm",
        "outputId": "c2c4b3a8-0f65-4d5a-e3a1-6e591d367f36"
      },
      "execution_count": 53,
      "outputs": [
        {
          "output_type": "display_data",
          "data": {
            "text/plain": [
              "<IPython.core.display.HTML object>"
            ],
            "text/html": [
              "\n",
              "            <style>\n",
              "                .geemap-dark {\n",
              "                    --jp-widgets-color: white;\n",
              "                    --jp-widgets-label-color: white;\n",
              "                    --jp-ui-font-color1: white;\n",
              "                    --jp-layout-color2: #454545;\n",
              "                    background-color: #383838;\n",
              "                }\n",
              "\n",
              "                .geemap-dark .jupyter-button {\n",
              "                    --jp-layout-color3: #383838;\n",
              "                }\n",
              "\n",
              "                .geemap-colab {\n",
              "                    background-color: var(--colab-primary-surface-color, white);\n",
              "                }\n",
              "\n",
              "                .geemap-colab .jupyter-button {\n",
              "                    --jp-layout-color3: var(--colab-primary-surface-color, white);\n",
              "                }\n",
              "            </style>\n",
              "            "
            ]
          },
          "metadata": {}
        },
        {
          "output_type": "stream",
          "name": "stdout",
          "text": [
            "EPSG:4326\n"
          ]
        },
        {
          "output_type": "execute_result",
          "data": {
            "text/plain": [
              "<Axes: >"
            ]
          },
          "metadata": {},
          "execution_count": 53
        },
        {
          "output_type": "display_data",
          "data": {
            "text/plain": [
              "<Figure size 640x480 with 1 Axes>"
            ],
            "image/png": "[encoded data removed]"
          },
          "metadata": {}
        }
      ]
    },
    {
      "cell_type": "markdown",
      "source": [
        "## Download NDVI and LST layers for Jamshedpur"
      ],
      "metadata": {
        "id": "0DA30uiI9teD"
      }
    },
    {
      "cell_type": "code",
      "source": [
        "task_lst = ee.batch.Export.image.toDrive(image=final_lst,\n",
        "                                         description='LST_Jamshedpur',\n",
        "                                         folder='GEE_Exports',\n",
        "                                         scale=30, # Resolution in meters\n",
        "                                         region=aoi)\n",
        "task_lst.start()\n",
        "\n",
        "task_ndvi = ee.batch.Export.image.toDrive(image=final_ndvi,\n",
        "                                          description='NDVI_Jamshedpur',\n",
        "                                          folder='GEE_Exports',\n",
        "                                          scale=30,\n",
        "                                          region=aoi)\n",
        "task_ndvi.start()\n",
        "\n",
        "print(\"Export tasks started. Check your Google Drive in a few minutes.\")"
      ],
      "metadata": {
        "id": "VFIV5YDDbwhN",
        "colab": {
          "base_uri": "https://localhost:8080/",
          "height": 35
        },
        "outputId": "9a0c6e2e-c2a7-4e9b-ece9-4dd9c9f6e3ac"
      },
      "execution_count": 54,
      "outputs": [
        {
          "output_type": "display_data",
          "data": {
            "text/plain": [
              "<IPython.core.display.HTML object>"
            ],
            "text/html": [
              "\n",
              "            <style>\n",
              "                .geemap-dark {\n",
              "                    --jp-widgets-color: white;\n",
              "                    --jp-widgets-label-color: white;\n",
              "                    --jp-ui-font-color1: white;\n",
              "                    --jp-layout-color2: #454545;\n",
              "                    background-color: #383838;\n",
              "                }\n",
              "\n",
              "                .geemap-dark .jupyter-button {\n",
              "                    --jp-layout-color3: #383838;\n",
              "                }\n",
              "\n",
              "                .geemap-colab {\n",
              "                    background-color: var(--colab-primary-surface-color, white);\n",
              "                }\n",
              "\n",
              "                .geemap-colab .jupyter-button {\n",
              "                    --jp-layout-color3: var(--colab-primary-surface-color, white);\n",
              "                }\n",
              "            </style>\n",
              "            "
            ]
          },
          "metadata": {}
        },
        {
          "output_type": "stream",
          "name": "stdout",
          "text": [
            "Export tasks started. Check your Google Drive in a few minutes.\n"
          ]
        }
      ]
    },
    {
      "cell_type": "code",
      "source": [
        "import ee\n",
        "import geopandas as gpd\n",
        "\n",
        "ee.Authenticate()\n",
        "ee.Initialize(project=\"gee-jsr\")\n",
        "\n",
        "# --- 1. Convert your GeoJSON to GEE geometry ---\n",
        "city_boundary = gpd.read_file('nit_jsr.geojson')\n",
        "aoi_geometry = city_boundary.geometry.iloc[0].__geo_interface__\n",
        "aoi = ee.Geometry.Polygon(aoi_geometry['coordinates'])\n",
        "\n",
        "# --- 2. Filter the Landsat Image Collection ---\n",
        "collection = ee.ImageCollection('LANDSAT/LC09/C02/T1_L2') \\\n",
        "    .filterBounds(aoi) \\\n",
        "    .filterDate('2025-04-01', '2025-06-30') \\\n",
        "    .filter(ee.Filter.lt('CLOUD_COVER', 10))\n",
        "\n",
        "# --- 3. Median composite ---\n",
        "image = collection.median()\n",
        "\n",
        "# --- 4. NDVI ---\n",
        "nir = image.select('SR_B5')\n",
        "red = image.select('SR_B4')\n",
        "ndvi = nir.subtract(red).divide(nir.add(red)).rename('NDVI')\n",
        "\n",
        "# --- 5. Land Surface Temperature (LST) ---\n",
        "thermal_band = image.select('ST_B10')\n",
        "lst = thermal_band.multiply(0.00341802).add(149.0).subtract(273.15).rename('LST')\n",
        "\n",
        "# --- 6. Clip to AOI ---\n",
        "final_ndvi = ndvi.clip(aoi)\n",
        "final_lst = lst.clip(aoi)\n",
        "\n",
        "print(\"GEE processing complete! Ready to export or visualize.\")\n"
      ],
      "metadata": {
        "colab": {
          "base_uri": "https://localhost:8080/",
          "height": 35
        },
        "outputId": "12d361e9-db0d-409a-dd73-7a09fac10284",
        "id": "AkaOKRrybwq5"
      },
      "execution_count": 55,
      "outputs": [
        {
          "output_type": "display_data",
          "data": {
            "text/plain": [
              "<IPython.core.display.HTML object>"
            ],
            "text/html": [
              "\n",
              "            <style>\n",
              "                .geemap-dark {\n",
              "                    --jp-widgets-color: white;\n",
              "                    --jp-widgets-label-color: white;\n",
              "                    --jp-ui-font-color1: white;\n",
              "                    --jp-layout-color2: #454545;\n",
              "                    background-color: #383838;\n",
              "                }\n",
              "\n",
              "                .geemap-dark .jupyter-button {\n",
              "                    --jp-layout-color3: #383838;\n",
              "                }\n",
              "\n",
              "                .geemap-colab {\n",
              "                    background-color: var(--colab-primary-surface-color, white);\n",
              "                }\n",
              "\n",
              "                .geemap-colab .jupyter-button {\n",
              "                    --jp-layout-color3: var(--colab-primary-surface-color, white);\n",
              "                }\n",
              "            </style>\n",
              "            "
            ]
          },
          "metadata": {}
        },
        {
          "output_type": "stream",
          "name": "stdout",
          "text": [
            "GEE processing complete! Ready to export or visualize.\n"
          ]
        }
      ]
    },
    {
      "cell_type": "code",
      "source": [
        "import folium\n",
        "from geemap import foliumap\n",
        "\n",
        "# --- 7. Visualization parameters ---\n",
        "ndvi_vis = {'min': 0, 'max': 1, 'palette': ['white', 'green']}\n",
        "lst_vis = {'min': 20, 'max': 45, 'palette': ['blue', 'yellow', 'red']}\n",
        "\n",
        "# --- 8. Center the map on your AOI ---\n",
        "city_boundary = city_boundary.to_crs(epsg=4326)  # reproject to lat/lon\n",
        "map_center = [city_boundary.centroid.y.iloc[0], city_boundary.centroid.x.iloc[0]]\n",
        "\n",
        "m = folium.Map(location=map_center, zoom_start=10)\n",
        "\n",
        "# --- 9. Convert NDVI and LST to map layers ---\n",
        "ndvi_map_id = ee.Image(final_ndvi).getMapId(ndvi_vis)\n",
        "lst_map_id = ee.Image(final_lst).getMapId(lst_vis)\n",
        "\n",
        "folium.TileLayer(\n",
        "    tiles=ndvi_map_id['tile_fetcher'].url_format,\n",
        "    attr='Google Earth Engine',\n",
        "    overlay=True,\n",
        "    name='NDVI'\n",
        ").add_to(m)\n",
        "\n",
        "folium.TileLayer(\n",
        "    tiles=lst_map_id['tile_fetcher'].url_format,\n",
        "    attr='Google Earth Engine',\n",
        "    overlay=True,\n",
        "    name='LST'\n",
        ").add_to(m)\n",
        "\n",
        "# --- 10. Add boundary layer ---\n",
        "folium.GeoJson(\n",
        "    city_boundary.to_json(),\n",
        "    name=\"NIT Jamshedpur Boundary\",\n",
        "    style_function=lambda x: {\"color\": \"black\", \"weight\": 2, \"fill\": False},\n",
        ").add_to(m)\n",
        "\n",
        "folium.LayerControl().add_to(m)\n",
        "\n",
        "m\n"
      ],
      "metadata": {
        "colab": {
          "base_uri": "https://localhost:8080/",
          "height": 581
        },
        "outputId": "73c3beb8-6cc9-41e9-9111-05bcc87e74aa",
        "id": "LQilvwIyb4m4"
      },
      "execution_count": 56,
      "outputs": [
        {
          "output_type": "display_data",
          "data": {
            "text/plain": [
              "<IPython.core.display.HTML object>"
            ],
            "text/html": [
              "\n",
              "            <style>\n",
              "                .geemap-dark {\n",
              "                    --jp-widgets-color: white;\n",
              "                    --jp-widgets-label-color: white;\n",
              "                    --jp-ui-font-color1: white;\n",
              "                    --jp-layout-color2: #454545;\n",
              "                    background-color: #383838;\n",
              "                }\n",
              "\n",
              "                .geemap-dark .jupyter-button {\n",
              "                    --jp-layout-color3: #383838;\n",
              "                }\n",
              "\n",
              "                .geemap-colab {\n",
              "                    background-color: var(--colab-primary-surface-color, white);\n",
              "                }\n",
              "\n",
              "                .geemap-colab .jupyter-button {\n",
              "                    --jp-layout-color3: var(--colab-primary-surface-color, white);\n",
              "                }\n",
              "            </style>\n",
              "            "
            ]
          },
          "metadata": {}
        },
        {
          "output_type": "stream",
          "name": "stderr",
          "text": [
            "/tmp/ipython-input-1199826939.py:10: UserWarning: Geometry is in a geographic CRS. Results from 'centroid' are likely incorrect. Use 'GeoSeries.to_crs()' to re-project geometries to a projected CRS before this operation.\n",
            "\n",
            "  map_center = [city_boundary.centroid.y.iloc[0], city_boundary.centroid.x.iloc[0]]\n"
          ]
        },
        {
          "output_type": "execute_result",
          "data": {
            "text/plain": [
              "<folium.folium.Map at 0x7e9ba01ea360>"
            ],
            "text/html": [
              "<div style=\"width:100%;\"><div style=\"position:relative;width:100%;height:0;padding-bottom:60%;\"><span style=\"color:#565656\">Make this Notebook Trusted to load map: File -> Trust Notebook</span><iframe srcdoc=\"&lt;!DOCTYPE html&gt;\n",
              "&lt;html&gt;\n",
              "&lt;head&gt;\n",
              "    \n",
              "    &lt;meta http-equiv=&quot;content-type&quot; content=&quot;text/html; charset=UTF-8&quot; /&gt;\n",
              "    &lt;script src=&quot;https://cdn.jsdelivr.net/npm/leaflet@1.9.3/dist/leaflet.js&quot;&gt;&lt;/script&gt;\n",
              "    &lt;script src=&quot;https://code.jquery.com/jquery-3.7.1.min.js&quot;&gt;&lt;/script&gt;\n",
              "    &lt;script src=&quot;https://cdn.jsdelivr.net/npm/bootstrap@5.2.2/dist/js/bootstrap.bundle.min.js&quot;&gt;&lt;/script&gt;\n",
              "    &lt;script src=&quot;https://cdnjs.cloudflare.com/ajax/libs/Leaflet.awesome-markers/2.0.2/leaflet.awesome-markers.js&quot;&gt;&lt;/script&gt;\n",
              "    &lt;link rel=&quot;stylesheet&quot; href=&quot;https://cdn.jsdelivr.net/npm/leaflet@1.9.3/dist/leaflet.css&quot;/&gt;\n",
              "    &lt;link rel=&quot;stylesheet&quot; href=&quot;https://cdn.jsdelivr.net/npm/bootstrap@5.2.2/dist/css/bootstrap.min.css&quot;/&gt;\n",
              "    &lt;link rel=&quot;stylesheet&quot; href=&quot;https://netdna.bootstrapcdn.com/bootstrap/3.0.0/css/bootstrap-glyphicons.css&quot;/&gt;\n",
              "    &lt;link rel=&quot;stylesheet&quot; href=&quot;https://cdn.jsdelivr.net/npm/@fortawesome/fontawesome-free@6.2.0/css/all.min.css&quot;/&gt;\n",
              "    &lt;link rel=&quot;stylesheet&quot; href=&quot;https://cdnjs.cloudflare.com/ajax/libs/Leaflet.awesome-markers/2.0.2/leaflet.awesome-markers.css&quot;/&gt;\n",
              "    &lt;link rel=&quot;stylesheet&quot; href=&quot;https://cdn.jsdelivr.net/gh/python-visualization/folium/folium/templates/leaflet.awesome.rotate.min.css&quot;/&gt;\n",
              "    \n",
              "            &lt;meta name=&quot;viewport&quot; content=&quot;width=device-width,\n",
              "                initial-scale=1.0, maximum-scale=1.0, user-scalable=no&quot; /&gt;\n",
              "            &lt;style&gt;\n",
              "                #map_7b16f9fbc88c8f21ec7fed7c4bf7b7e8 {\n",
              "                    position: relative;\n",
              "                    width: 100.0%;\n",
              "                    height: 100.0%;\n",
              "                    left: 0.0%;\n",
              "                    top: 0.0%;\n",
              "                }\n",
              "                .leaflet-container { font-size: 1rem; }\n",
              "            &lt;/style&gt;\n",
              "\n",
              "            &lt;style&gt;html, body {\n",
              "                width: 100%;\n",
              "                height: 100%;\n",
              "                margin: 0;\n",
              "                padding: 0;\n",
              "            }\n",
              "            &lt;/style&gt;\n",
              "\n",
              "            &lt;style&gt;#map {\n",
              "                position:absolute;\n",
              "                top:0;\n",
              "                bottom:0;\n",
              "                right:0;\n",
              "                left:0;\n",
              "                }\n",
              "            &lt;/style&gt;\n",
              "\n",
              "            &lt;script&gt;\n",
              "                L_NO_TOUCH = false;\n",
              "                L_DISABLE_3D = false;\n",
              "            &lt;/script&gt;\n",
              "\n",
              "        \n",
              "&lt;/head&gt;\n",
              "&lt;body&gt;\n",
              "    \n",
              "    \n",
              "            &lt;div class=&quot;folium-map&quot; id=&quot;map_7b16f9fbc88c8f21ec7fed7c4bf7b7e8&quot; &gt;&lt;/div&gt;\n",
              "        \n",
              "&lt;/body&gt;\n",
              "&lt;script&gt;\n",
              "    \n",
              "    \n",
              "            var map_7b16f9fbc88c8f21ec7fed7c4bf7b7e8 = L.map(\n",
              "                &quot;map_7b16f9fbc88c8f21ec7fed7c4bf7b7e8&quot;,\n",
              "                {\n",
              "                    center: [22.77524616487089, 86.14701013536367],\n",
              "                    crs: L.CRS.EPSG3857,\n",
              "                    ...{\n",
              "  &quot;zoom&quot;: 10,\n",
              "  &quot;zoomControl&quot;: true,\n",
              "  &quot;preferCanvas&quot;: false,\n",
              "}\n",
              "\n",
              "                }\n",
              "            );\n",
              "\n",
              "            \n",
              "\n",
              "        \n",
              "    \n",
              "            var tile_layer_ea487ea99ff0ec929ff1f41663f2a02e = L.tileLayer(\n",
              "                &quot;https://tile.openstreetmap.org/{z}/{x}/{y}.png&quot;,\n",
              "                {\n",
              "  &quot;minZoom&quot;: 0,\n",
              "  &quot;maxZoom&quot;: 19,\n",
              "  &quot;maxNativeZoom&quot;: 19,\n",
              "  &quot;noWrap&quot;: false,\n",
              "  &quot;attribution&quot;: &quot;\\u0026copy; \\u003ca href=\\&quot;https://www.openstreetmap.org/copyright\\&quot;\\u003eOpenStreetMap\\u003c/a\\u003e contributors&quot;,\n",
              "  &quot;subdomains&quot;: &quot;abc&quot;,\n",
              "  &quot;detectRetina&quot;: false,\n",
              "  &quot;tms&quot;: false,\n",
              "  &quot;opacity&quot;: 1,\n",
              "}\n",
              "\n",
              "            );\n",
              "        \n",
              "    \n",
              "            tile_layer_ea487ea99ff0ec929ff1f41663f2a02e.addTo(map_7b16f9fbc88c8f21ec7fed7c4bf7b7e8);\n",
              "        \n",
              "    \n",
              "            var tile_layer_f33b0c8d6e877b4a5f653f68f64fc09d = L.tileLayer(\n",
              "                &quot;https://earthengine.googleapis.com/v1/projects/gee-jsr/maps/62fcf2e41340af2642ee4d26fecf67fd-d0973db532e52b8d6152d70423cdc8bc/tiles/{z}/{x}/{y}&quot;,\n",
              "                {\n",
              "  &quot;minZoom&quot;: 0,\n",
              "  &quot;maxZoom&quot;: 18,\n",
              "  &quot;maxNativeZoom&quot;: 18,\n",
              "  &quot;noWrap&quot;: false,\n",
              "  &quot;attribution&quot;: &quot;Google Earth Engine&quot;,\n",
              "  &quot;subdomains&quot;: &quot;abc&quot;,\n",
              "  &quot;detectRetina&quot;: false,\n",
              "  &quot;tms&quot;: false,\n",
              "  &quot;opacity&quot;: 1,\n",
              "}\n",
              "\n",
              "            );\n",
              "        \n",
              "    \n",
              "            tile_layer_f33b0c8d6e877b4a5f653f68f64fc09d.addTo(map_7b16f9fbc88c8f21ec7fed7c4bf7b7e8);\n",
              "        \n",
              "    \n",
              "            var tile_layer_962c69ad423e0b64485af33520a0edf7 = L.tileLayer(\n",
              "                &quot;https://earthengine.googleapis.com/v1/projects/gee-jsr/maps/15d3f73fdbd4a38e9f67ab9fc86c3193-f66dfa02320d18e836f97922d63cdf84/tiles/{z}/{x}/{y}&quot;,\n",
              "                {\n",
              "  &quot;minZoom&quot;: 0,\n",
              "  &quot;maxZoom&quot;: 18,\n",
              "  &quot;maxNativeZoom&quot;: 18,\n",
              "  &quot;noWrap&quot;: false,\n",
              "  &quot;attribution&quot;: &quot;Google Earth Engine&quot;,\n",
              "  &quot;subdomains&quot;: &quot;abc&quot;,\n",
              "  &quot;detectRetina&quot;: false,\n",
              "  &quot;tms&quot;: false,\n",
              "  &quot;opacity&quot;: 1,\n",
              "}\n",
              "\n",
              "            );\n",
              "        \n",
              "    \n",
              "            tile_layer_962c69ad423e0b64485af33520a0edf7.addTo(map_7b16f9fbc88c8f21ec7fed7c4bf7b7e8);\n",
              "        \n",
              "    \n",
              "        function geo_json_f999025f4768e356bdf25584af619bb9_styler(feature) {\n",
              "            switch(feature.id) {\n",
              "                default:\n",
              "                    return {&quot;color&quot;: &quot;black&quot;, &quot;fill&quot;: false, &quot;weight&quot;: 2};\n",
              "            }\n",
              "        }\n",
              "\n",
              "        function geo_json_f999025f4768e356bdf25584af619bb9_onEachFeature(feature, layer) {\n",
              "\n",
              "            layer.on({\n",
              "            });\n",
              "        };\n",
              "        var geo_json_f999025f4768e356bdf25584af619bb9 = L.geoJson(null, {\n",
              "                onEachFeature: geo_json_f999025f4768e356bdf25584af619bb9_onEachFeature,\n",
              "            \n",
              "                style: geo_json_f999025f4768e356bdf25584af619bb9_styler,\n",
              "            ...{\n",
              "}\n",
              "        });\n",
              "\n",
              "        function geo_json_f999025f4768e356bdf25584af619bb9_add (data) {\n",
              "            geo_json_f999025f4768e356bdf25584af619bb9\n",
              "                .addData(data);\n",
              "        }\n",
              "            geo_json_f999025f4768e356bdf25584af619bb9_add({&quot;features&quot;: [{&quot;geometry&quot;: {&quot;coordinates&quot;: [[[86.1407518, 22.7813081], [86.1409892, 22.7811993], [86.1410978, 22.7811881], [86.1411837, 22.7811263], [86.1413352, 22.7810125], [86.1416987, 22.780675], [86.1417684, 22.7806082], [86.1417751, 22.7804895], [86.1417872, 22.7803115], [86.1418502, 22.7802224], [86.1422002, 22.7799603], [86.1422311, 22.7798515], [86.1422606, 22.7795955], [86.1422458, 22.7794348], [86.1421922, 22.7792493], [86.1420634, 22.7788029], [86.141708, 22.7775924], [86.1415686, 22.7770372], [86.141476, 22.7766823], [86.1414117, 22.7764894], [86.1413567, 22.7763707], [86.1412534, 22.7761531], [86.1411079, 22.7756455], [86.1409999, 22.7752232], [86.140953, 22.7749932], [86.1409369, 22.774809], [86.1409543, 22.7745876], [86.1410791, 22.7740992], [86.1413138, 22.7732756], [86.1415, 22.7725844], [86.1417603, 22.7720737], [86.1423665, 22.771082], [86.1447215, 22.7702213], [86.1460291, 22.7698048], [86.1467573, 22.7707778], [86.1468458, 22.7708371], [86.1469142, 22.7708408], [86.1470376, 22.7707493], [86.1477623, 22.7701796], [86.1477926, 22.7701558], [86.1478744, 22.7701607], [86.1479187, 22.770204], [86.1480005, 22.7703326], [86.1482553, 22.7708853], [86.1483307, 22.7710832], [86.1484551, 22.7713614], [86.1486684, 22.7714628], [86.1487542, 22.7715494], [86.1489996, 22.77161], [86.1493262, 22.7716601], [86.1493953, 22.7716848], [86.1495247, 22.7716369], [86.150845, 22.7713045], [86.151592, 22.7711895], [86.1521888, 22.7710807], [86.1522706, 22.7711351], [86.1526179, 22.7714838], [86.1526863, 22.7716706], [86.1531638, 22.7728725], [86.1533357, 22.773373], [86.153375, 22.7733572], [86.1537196, 22.7742785], [86.1538591, 22.7742766], [86.1543017, 22.7743929], [86.154419, 22.7744231], [86.1545726, 22.7744918], [86.1547496, 22.7745641], [86.1553075, 22.774642], [86.1553518, 22.7746599], [86.1553719, 22.7746915], [86.1554001, 22.7747465], [86.1554175, 22.7748899], [86.1554007, 22.7752516], [86.1554074, 22.7754084], [86.1542857, 22.775471], [86.1545946, 22.7764285], [86.1550824, 22.7767222], [86.1551105, 22.7767391], [86.1551753, 22.7767781], [86.1551009, 22.7768601], [86.1550535, 22.7769213], [86.1552465, 22.7770916], [86.1553042, 22.777167], [86.1553223, 22.777214], [86.1553203, 22.7772616], [86.1552914, 22.7773067], [86.1552673, 22.7773377], [86.1551761, 22.7773253], [86.1547677, 22.7772511], [86.1542373, 22.7771763], [86.1539389, 22.777125], [86.1534682, 22.7770514], [86.1526769, 22.7768869], [86.1521854, 22.777572], [86.1520681, 22.7777216], [86.1518797, 22.7778935], [86.1516161, 22.7781105], [86.151423, 22.7781346], [86.1512232, 22.7781667], [86.1509945, 22.7782075], [86.150625, 22.7783021], [86.1500517, 22.778406], [86.1498318, 22.778432], [86.149575, 22.778445], [86.1491632, 22.7784697], [86.1490211, 22.778461], [86.1487649, 22.7783454], [86.1486563, 22.7782304], [86.1485933, 22.7781661], [86.1482298, 22.7782007], [86.1476773, 22.7782626], [86.1473916, 22.7783046], [86.1468834, 22.7783368], [86.1466514, 22.7783516], [86.1466393, 22.7784975], [86.1466835, 22.7786941], [86.1464676, 22.7787807], [86.1462343, 22.7788586], [86.1458842, 22.7788462], [86.1458172, 22.7788759], [86.1454792, 22.7788635], [86.1453599, 22.7788722], [86.1452968, 22.7788994], [86.1451198, 22.7790329], [86.1449562, 22.7791961], [86.144688, 22.7792889], [86.14492, 22.7796982], [86.1452217, 22.7804413], [86.1454175, 22.7808518], [86.1457649, 22.7811535], [86.1452124, 22.7813415], [86.1445807, 22.7815615], [86.1444077, 22.781616], [86.1443849, 22.7816605], [86.1443339, 22.7816926], [86.1435427, 22.7817619], [86.1422874, 22.7818595], [86.141924, 22.78159], [86.1413097, 22.7814886], [86.1409262, 22.7814663], [86.1407559, 22.7813637], [86.1407518, 22.7813081]]], &quot;type&quot;: &quot;Polygon&quot;}, &quot;id&quot;: &quot;0&quot;, &quot;properties&quot;: {&quot;addresstype&quot;: &quot;amenity&quot;, &quot;bbox_east&quot;: 86.1554175, &quot;bbox_north&quot;: 22.7818595, &quot;bbox_south&quot;: 22.7698048, &quot;bbox_west&quot;: 86.1407518, &quot;class&quot;: &quot;amenity&quot;, &quot;display_name&quot;: &quot;National Institute of Techonology Jamshedpur, National Institute of Technology, Jamshedpur, Adityapur(Gamharia), Seraikela-Kharsawan, Jharkhand, 831013, India&quot;, &quot;importance&quot;: 0.3481383215874794, &quot;lat&quot;: 22.7758993, &quot;lon&quot;: 86.1478023, &quot;name&quot;: &quot;National Institute of Techonology Jamshedpur&quot;, &quot;osm_id&quot;: 1038073929, &quot;osm_type&quot;: &quot;way&quot;, &quot;place_id&quot;: 229745725, &quot;place_rank&quot;: 30, &quot;type&quot;: &quot;college&quot;}, &quot;type&quot;: &quot;Feature&quot;}], &quot;type&quot;: &quot;FeatureCollection&quot;});\n",
              "\n",
              "        \n",
              "    \n",
              "            geo_json_f999025f4768e356bdf25584af619bb9.addTo(map_7b16f9fbc88c8f21ec7fed7c4bf7b7e8);\n",
              "        \n",
              "    \n",
              "            var layer_control_90dba2f70748013b8afd5c16149b58a7_layers = {\n",
              "                base_layers : {\n",
              "                    &quot;openstreetmap&quot; : tile_layer_ea487ea99ff0ec929ff1f41663f2a02e,\n",
              "                },\n",
              "                overlays :  {\n",
              "                    &quot;NDVI&quot; : tile_layer_f33b0c8d6e877b4a5f653f68f64fc09d,\n",
              "                    &quot;LST&quot; : tile_layer_962c69ad423e0b64485af33520a0edf7,\n",
              "                    &quot;NIT Jamshedpur Boundary&quot; : geo_json_f999025f4768e356bdf25584af619bb9,\n",
              "                },\n",
              "            };\n",
              "            let layer_control_90dba2f70748013b8afd5c16149b58a7 = L.control.layers(\n",
              "                layer_control_90dba2f70748013b8afd5c16149b58a7_layers.base_layers,\n",
              "                layer_control_90dba2f70748013b8afd5c16149b58a7_layers.overlays,\n",
              "                {\n",
              "  &quot;position&quot;: &quot;topright&quot;,\n",
              "  &quot;collapsed&quot;: true,\n",
              "  &quot;autoZIndex&quot;: true,\n",
              "}\n",
              "            ).addTo(map_7b16f9fbc88c8f21ec7fed7c4bf7b7e8);\n",
              "\n",
              "        \n",
              "&lt;/script&gt;\n",
              "&lt;/html&gt;\" style=\"position:absolute;width:100%;height:100%;left:0;top:0;border:none !important;\" allowfullscreen webkitallowfullscreen mozallowfullscreen></iframe></div></div>"
            ]
          },
          "metadata": {},
          "execution_count": 56
        }
      ]
    },
    {
      "cell_type": "markdown",
      "source": [
        "## Ward Boundaries of Jamshedpur\n",
        "\n",
        "\n",
        "*   Webscraping of arcgis website to fetch ward data\n",
        "\n",
        "\n"
      ],
      "metadata": {
        "id": "YAclbmZxoSpl"
      }
    },
    {
      "cell_type": "code",
      "source": [
        "import requests\n",
        "import json\n",
        "\n",
        "base_url = \"https://services6.arcgis.com/VuQUip1UjzxgxRB3/arcgis/rest/services/Thana_Ward_Boundary/FeatureServer/1/query\""
      ],
      "metadata": {
        "colab": {
          "base_uri": "https://localhost:8080/",
          "height": 17
        },
        "id": "fbIWFhjfoFAd",
        "outputId": "e2334a4d-c68d-4077-ff75-f6810dd346bf"
      },
      "execution_count": 68,
      "outputs": [
        {
          "output_type": "display_data",
          "data": {
            "text/plain": [
              "<IPython.core.display.HTML object>"
            ],
            "text/html": [
              "\n",
              "            <style>\n",
              "                .geemap-dark {\n",
              "                    --jp-widgets-color: white;\n",
              "                    --jp-widgets-label-color: white;\n",
              "                    --jp-ui-font-color1: white;\n",
              "                    --jp-layout-color2: #454545;\n",
              "                    background-color: #383838;\n",
              "                }\n",
              "\n",
              "                .geemap-dark .jupyter-button {\n",
              "                    --jp-layout-color3: #383838;\n",
              "                }\n",
              "\n",
              "                .geemap-colab {\n",
              "                    background-color: var(--colab-primary-surface-color, white);\n",
              "                }\n",
              "\n",
              "                .geemap-colab .jupyter-button {\n",
              "                    --jp-layout-color3: var(--colab-primary-surface-color, white);\n",
              "                }\n",
              "            </style>\n",
              "            "
            ]
          },
          "metadata": {}
        }
      ]
    },
    {
      "cell_type": "markdown",
      "source": [
        "\n",
        "\n",
        "*   Define the correct parameters\n",
        "\n",
        "\n"
      ],
      "metadata": {
        "id": "lJdd9Tzy_BGJ"
      }
    },
    {
      "cell_type": "code",
      "source": [
        "#We are telling the server to give us everything in the right format.\n",
        "params = {\n",
        "    \"where\": \"1=1\",         #get all features\n",
        "    \"outFields\": \"*\",       #get all data columns (like Ward No.)\n",
        "    \"outSR\": \"4326\",        #The standard lat/lon map projection\n",
        "    \"f\": \"geojson\"          #The format that geopandas needs to process i.e. geojson\n",
        "}"
      ],
      "metadata": {
        "colab": {
          "base_uri": "https://localhost:8080/",
          "height": 17
        },
        "id": "TJjrupej-3BF",
        "outputId": "4c8b59b9-f490-4ecb-80c0-d521ce2c1997"
      },
      "execution_count": 72,
      "outputs": [
        {
          "output_type": "display_data",
          "data": {
            "text/plain": [
              "<IPython.core.display.HTML object>"
            ],
            "text/html": [
              "\n",
              "            <style>\n",
              "                .geemap-dark {\n",
              "                    --jp-widgets-color: white;\n",
              "                    --jp-widgets-label-color: white;\n",
              "                    --jp-ui-font-color1: white;\n",
              "                    --jp-layout-color2: #454545;\n",
              "                    background-color: #383838;\n",
              "                }\n",
              "\n",
              "                .geemap-dark .jupyter-button {\n",
              "                    --jp-layout-color3: #383838;\n",
              "                }\n",
              "\n",
              "                .geemap-colab {\n",
              "                    background-color: var(--colab-primary-surface-color, white);\n",
              "                }\n",
              "\n",
              "                .geemap-colab .jupyter-button {\n",
              "                    --jp-layout-color3: var(--colab-primary-surface-color, white);\n",
              "                }\n",
              "            </style>\n",
              "            "
            ]
          },
          "metadata": {}
        }
      ]
    },
    {
      "cell_type": "markdown",
      "source": [
        "\n",
        "\n",
        "*   Make the request and load the data\n",
        "\n"
      ],
      "metadata": {
        "id": "gd8YqUh3_YhW"
      }
    },
    {
      "cell_type": "code",
      "source": [
        "print(\"Requesting ward boundary data from the server...\")\n",
        "#Make the web request\n",
        "response = requests.get(base_url, params=params)\n",
        "#Load the GeoJSON data from the response text\n",
        "data = response.json()"
      ],
      "metadata": {
        "colab": {
          "base_uri": "https://localhost:8080/",
          "height": 35
        },
        "id": "uBJdBYMQ_XoD",
        "outputId": "38fd7481-4be1-4512-848e-5d952cc65c79"
      },
      "execution_count": 73,
      "outputs": [
        {
          "output_type": "display_data",
          "data": {
            "text/plain": [
              "<IPython.core.display.HTML object>"
            ],
            "text/html": [
              "\n",
              "            <style>\n",
              "                .geemap-dark {\n",
              "                    --jp-widgets-color: white;\n",
              "                    --jp-widgets-label-color: white;\n",
              "                    --jp-ui-font-color1: white;\n",
              "                    --jp-layout-color2: #454545;\n",
              "                    background-color: #383838;\n",
              "                }\n",
              "\n",
              "                .geemap-dark .jupyter-button {\n",
              "                    --jp-layout-color3: #383838;\n",
              "                }\n",
              "\n",
              "                .geemap-colab {\n",
              "                    background-color: var(--colab-primary-surface-color, white);\n",
              "                }\n",
              "\n",
              "                .geemap-colab .jupyter-button {\n",
              "                    --jp-layout-color3: var(--colab-primary-surface-color, white);\n",
              "                }\n",
              "            </style>\n",
              "            "
            ]
          },
          "metadata": {}
        },
        {
          "output_type": "stream",
          "name": "stdout",
          "text": [
            "Requesting ward boundary data from the server...\n"
          ]
        }
      ]
    },
    {
      "cell_type": "markdown",
      "source": [
        "\n",
        "\n",
        "*   Convert the raw GeoJSON into a GeoDataFrame\n"
      ],
      "metadata": {
        "id": "vwHUj9AQAIMH"
      }
    },
    {
      "cell_type": "code",
      "source": [
        "# Convert the raw GeoJSON into a GeoDataFrame\n",
        "wards = gpd.GeoDataFrame.from_features(data[\"features\"])\n",
        "\n",
        "print(f\"Success! Loaded {len(wards)} wards.\")\n",
        "print(\"Here's a preview of the data:\")\n",
        "print(wards.head())"
      ],
      "metadata": {
        "colab": {
          "base_uri": "https://localhost:8080/",
          "height": 410
        },
        "id": "9KiaoqsK_7f4",
        "outputId": "5f90500f-eb4d-4b00-f3d4-4e5123372e88"
      },
      "execution_count": 74,
      "outputs": [
        {
          "output_type": "display_data",
          "data": {
            "text/plain": [
              "<IPython.core.display.HTML object>"
            ],
            "text/html": [
              "\n",
              "            <style>\n",
              "                .geemap-dark {\n",
              "                    --jp-widgets-color: white;\n",
              "                    --jp-widgets-label-color: white;\n",
              "                    --jp-ui-font-color1: white;\n",
              "                    --jp-layout-color2: #454545;\n",
              "                    background-color: #383838;\n",
              "                }\n",
              "\n",
              "                .geemap-dark .jupyter-button {\n",
              "                    --jp-layout-color3: #383838;\n",
              "                }\n",
              "\n",
              "                .geemap-colab {\n",
              "                    background-color: var(--colab-primary-surface-color, white);\n",
              "                }\n",
              "\n",
              "                .geemap-colab .jupyter-button {\n",
              "                    --jp-layout-color3: var(--colab-primary-surface-color, white);\n",
              "                }\n",
              "            </style>\n",
              "            "
            ]
          },
          "metadata": {}
        },
        {
          "output_type": "stream",
          "name": "stdout",
          "text": [
            "Success! Loaded 16 wards.\n",
            "Here's a preview of the data:\n",
            "                                            geometry    Ward_Name Ward_No  \\\n",
            "0  POLYGON ((86.25578 22.75778, 86.25569 22.75779...  Ward No. 18      18   \n",
            "1  POLYGON ((86.18256 22.82504, 86.18237 22.82471...  Ward No. 01      01   \n",
            "2  POLYGON ((86.17385 22.81555, 86.17386 22.81551...  Ward No. 02      02   \n",
            "3  POLYGON ((86.18394 22.81053, 86.18392 22.81037...  Ward No. 03      03   \n",
            "4  POLYGON ((86.18393 22.79875, 86.18401 22.79871...  Ward No. 04      04   \n",
            "\n",
            "  Municipal_Name Remarks Zone_Name Location  Area_Hectare    Area_acre  \\\n",
            "0           None    None      None     None           501  1463.665315   \n",
            "1           None    None      None     None           547  1598.961005   \n",
            "2           None    None      None     None           398  1164.094962   \n",
            "3           None    None      None     None           340   994.885426   \n",
            "4           None    None      None     None           192   570.742431   \n",
            "\n",
            "   No_Of_Sheets Population  OBJECTID   Shape__Area  Shape__Length  \n",
            "0             9      28944         1  5.923243e+06   12052.564453  \n",
            "1            10      52835         2  6.470766e+06   12116.497765  \n",
            "2             8      31763         3  4.710925e+06   10103.395173  \n",
            "3             6      30816         4  4.026158e+06    8718.924575  \n",
            "4             4      18555         5  2.309713e+06    8044.896148  \n"
          ]
        }
      ]
    },
    {
      "cell_type": "markdown",
      "source": [
        "\n",
        "\n",
        "*   Visualisation\n",
        "\n"
      ],
      "metadata": {
        "id": "FxSO60cgAjAA"
      }
    },
    {
      "cell_type": "code",
      "source": [
        "print(\"\\nDisplaying the map of ward boundaries...\")\n",
        "wards.plot(figsize=(10, 10), edgecolor='black')"
      ],
      "metadata": {
        "colab": {
          "base_uri": "https://localhost:8080/",
          "height": 649
        },
        "id": "h7Z2Y5g-AR-r",
        "outputId": "3a3d8426-5bc3-496d-9975-a0ed68ca8a42"
      },
      "execution_count": 75,
      "outputs": [
        {
          "output_type": "display_data",
          "data": {
            "text/plain": [
              "<IPython.core.display.HTML object>"
            ],
            "text/html": [
              "\n",
              "            <style>\n",
              "                .geemap-dark {\n",
              "                    --jp-widgets-color: white;\n",
              "                    --jp-widgets-label-color: white;\n",
              "                    --jp-ui-font-color1: white;\n",
              "                    --jp-layout-color2: #454545;\n",
              "                    background-color: #383838;\n",
              "                }\n",
              "\n",
              "                .geemap-dark .jupyter-button {\n",
              "                    --jp-layout-color3: #383838;\n",
              "                }\n",
              "\n",
              "                .geemap-colab {\n",
              "                    background-color: var(--colab-primary-surface-color, white);\n",
              "                }\n",
              "\n",
              "                .geemap-colab .jupyter-button {\n",
              "                    --jp-layout-color3: var(--colab-primary-surface-color, white);\n",
              "                }\n",
              "            </style>\n",
              "            "
            ]
          },
          "metadata": {}
        },
        {
          "output_type": "stream",
          "name": "stdout",
          "text": [
            "\n",
            "Displaying the map of ward boundaries...\n"
          ]
        },
        {
          "output_type": "execute_result",
          "data": {
            "text/plain": [
              "<Axes: >"
            ]
          },
          "metadata": {},
          "execution_count": 75
        },
        {
          "output_type": "display_data",
          "data": {
            "text/plain": [
              "<Figure size 1000x1000 with 1 Axes>"
            ],
            "image/png": "[encoded data removed]"
          },
          "metadata": {}
        }
      ]
    },
    {
      "cell_type": "markdown",
      "source": [
        "# Zonal Statistics"
      ],
      "metadata": {
        "id": "x8z3JpuwpNGz"
      }
    },
    {
      "cell_type": "code",
      "source": [
        "pip install rasterstats"
      ],
      "metadata": {
        "colab": {
          "base_uri": "https://localhost:8080/",
          "height": 269
        },
        "id": "wJraPBNPpWa3",
        "outputId": "c110cef3-86ee-431d-bd49-6193fc7a6309"
      },
      "execution_count": 80,
      "outputs": [
        {
          "output_type": "display_data",
          "data": {
            "text/plain": [
              "<IPython.core.display.HTML object>"
            ],
            "text/html": [
              "\n",
              "            <style>\n",
              "                .geemap-dark {\n",
              "                    --jp-widgets-color: white;\n",
              "                    --jp-widgets-label-color: white;\n",
              "                    --jp-ui-font-color1: white;\n",
              "                    --jp-layout-color2: #454545;\n",
              "                    background-color: #383838;\n",
              "                }\n",
              "\n",
              "                .geemap-dark .jupyter-button {\n",
              "                    --jp-layout-color3: #383838;\n",
              "                }\n",
              "\n",
              "                .geemap-colab {\n",
              "                    background-color: var(--colab-primary-surface-color, white);\n",
              "                }\n",
              "\n",
              "                .geemap-colab .jupyter-button {\n",
              "                    --jp-layout-color3: var(--colab-primary-surface-color, white);\n",
              "                }\n",
              "            </style>\n",
              "            "
            ]
          },
          "metadata": {}
        },
        {
          "output_type": "stream",
          "name": "stdout",
          "text": [
            "Requirement already satisfied: rasterstats in /usr/local/lib/python3.12/dist-packages (0.20.0)\n",
            "Requirement already satisfied: affine in /usr/local/lib/python3.12/dist-packages (from rasterstats) (2.4.0)\n",
            "Requirement already satisfied: click>7.1 in /usr/local/lib/python3.12/dist-packages (from rasterstats) (8.2.1)\n",
            "Requirement already satisfied: cligj>=0.4 in /usr/local/lib/python3.12/dist-packages (from rasterstats) (0.7.2)\n",
            "Requirement already satisfied: fiona in /usr/local/lib/python3.12/dist-packages (from rasterstats) (1.10.1)\n",
            "Requirement already satisfied: numpy>=1.9 in /usr/local/lib/python3.12/dist-packages (from rasterstats) (2.0.2)\n",
            "Requirement already satisfied: rasterio>=1.0 in /usr/local/lib/python3.12/dist-packages (from rasterstats) (1.4.3)\n",
            "Requirement already satisfied: simplejson in /usr/local/lib/python3.12/dist-packages (from rasterstats) (3.20.1)\n",
            "Requirement already satisfied: shapely in /usr/local/lib/python3.12/dist-packages (from rasterstats) (2.1.1)\n",
            "Requirement already satisfied: attrs in /usr/local/lib/python3.12/dist-packages (from rasterio>=1.0->rasterstats) (25.3.0)\n",
            "Requirement already satisfied: certifi in /usr/local/lib/python3.12/dist-packages (from rasterio>=1.0->rasterstats) (2025.8.3)\n",
            "Requirement already satisfied: click-plugins in /usr/local/lib/python3.12/dist-packages (from rasterio>=1.0->rasterstats) (1.1.1.2)\n",
            "Requirement already satisfied: pyparsing in /usr/local/lib/python3.12/dist-packages (from rasterio>=1.0->rasterstats) (3.2.3)\n"
          ]
        }
      ]
    },
    {
      "cell_type": "code",
      "source": [
        "from rasterstats import zonal_stats\n",
        "import pandas as pd\n",
        "\n",
        "#Calculating average temperature for each ward\n",
        "temp_stats = zonal_stats(wards, 'LST_Jamshedpur.tif', stats=\"mean\")\n",
        "temp_df = pd.DataFrame(temp_stats)\n",
        "wards['avg_temp'] = temp_df['mean']\n",
        "\n",
        "#Calculate average NDVI for each ward\n",
        "ndvi_stats = zonal_stats(wards, 'NDVI_Jamshedpur.tif', stats=\"mean\")\n",
        "ndvi_df = pd.DataFrame(ndvi_stats)\n",
        "wards['avg_ndvi'] = ndvi_df['mean']\n",
        "\n",
        "# Display the result. You now have a GeoDataFrame with analytics!\n",
        "print(wards.head())"
      ],
      "metadata": {
        "colab": {
          "base_uri": "https://localhost:8080/",
          "height": 499
        },
        "id": "AT42z9vOpQX2",
        "outputId": "2737f650-317a-4747-9d6b-29cc5abd5f34"
      },
      "execution_count": 81,
      "outputs": [
        {
          "output_type": "display_data",
          "data": {
            "text/plain": [
              "<IPython.core.display.HTML object>"
            ],
            "text/html": [
              "\n",
              "            <style>\n",
              "                .geemap-dark {\n",
              "                    --jp-widgets-color: white;\n",
              "                    --jp-widgets-label-color: white;\n",
              "                    --jp-ui-font-color1: white;\n",
              "                    --jp-layout-color2: #454545;\n",
              "                    background-color: #383838;\n",
              "                }\n",
              "\n",
              "                .geemap-dark .jupyter-button {\n",
              "                    --jp-layout-color3: #383838;\n",
              "                }\n",
              "\n",
              "                .geemap-colab {\n",
              "                    background-color: var(--colab-primary-surface-color, white);\n",
              "                }\n",
              "\n",
              "                .geemap-colab .jupyter-button {\n",
              "                    --jp-layout-color3: var(--colab-primary-surface-color, white);\n",
              "                }\n",
              "            </style>\n",
              "            "
            ]
          },
          "metadata": {}
        },
        {
          "output_type": "stream",
          "name": "stdout",
          "text": [
            "                                            geometry    Ward_Name Ward_No  \\\n",
            "0  POLYGON ((86.25578 22.75778, 86.25569 22.75779...  Ward No. 18      18   \n",
            "1  POLYGON ((86.18256 22.82504, 86.18237 22.82471...  Ward No. 01      01   \n",
            "2  POLYGON ((86.17385 22.81555, 86.17386 22.81551...  Ward No. 02      02   \n",
            "3  POLYGON ((86.18394 22.81053, 86.18392 22.81037...  Ward No. 03      03   \n",
            "4  POLYGON ((86.18393 22.79875, 86.18401 22.79871...  Ward No. 04      04   \n",
            "\n",
            "  Municipal_Name Remarks Zone_Name Location  Area_Hectare    Area_acre  \\\n",
            "0           None    None      None     None           501  1463.665315   \n",
            "1           None    None      None     None           547  1598.961005   \n",
            "2           None    None      None     None           398  1164.094962   \n",
            "3           None    None      None     None           340   994.885426   \n",
            "4           None    None      None     None           192   570.742431   \n",
            "\n",
            "   No_Of_Sheets  Population  OBJECTID   Shape__Area  Shape__Length  \\\n",
            "0             9       28944         1  5.923243e+06   12052.564453   \n",
            "1            10       52835         2  6.470766e+06   12116.497765   \n",
            "2             8       31763         3  4.710925e+06   10103.395173   \n",
            "3             6       30816         4  4.026158e+06    8718.924575   \n",
            "4             4       18555         5  2.309713e+06    8044.896148   \n",
            "\n",
            "   area_sq_km  pop_density   avg_temp  avg_ndvi  \n",
            "0        5.01      5777.25  37.641598  0.231130  \n",
            "1        5.47      9659.05  39.835267  0.167454  \n",
            "2        3.98      7980.65  40.027944  0.160803  \n",
            "3        3.40      9063.53  39.225651  0.185403  \n",
            "4        1.92      9664.06  40.416340  0.162304  \n"
          ]
        }
      ]
    },
    {
      "cell_type": "markdown",
      "source": [
        "## Data Cleaning on the 'wards' dataframe\n",
        "\n",
        "*   Convert the key columns to a numeric type, just in case they were loaded as text.\n",
        "*   The 'coerce' option will turn any non-numeric values into blanks (NaN).\n",
        "\n"
      ],
      "metadata": {
        "id": "dqhS9fhFA-nP"
      }
    },
    {
      "cell_type": "code",
      "source": [
        "wards['Population'] = pd.to_numeric(wards['Population'], errors='coerce')\n",
        "wards['Area_Hectare'] = pd.to_numeric(wards['Area_Hectare'], errors='coerce')"
      ],
      "metadata": {
        "colab": {
          "base_uri": "https://localhost:8080/",
          "height": 17
        },
        "id": "tDt7gwYYBSZE",
        "outputId": "95aebaad-61b3-4348-f196-dd9cd2816c70"
      },
      "execution_count": 82,
      "outputs": [
        {
          "output_type": "display_data",
          "data": {
            "text/plain": [
              "<IPython.core.display.HTML object>"
            ],
            "text/html": [
              "\n",
              "            <style>\n",
              "                .geemap-dark {\n",
              "                    --jp-widgets-color: white;\n",
              "                    --jp-widgets-label-color: white;\n",
              "                    --jp-ui-font-color1: white;\n",
              "                    --jp-layout-color2: #454545;\n",
              "                    background-color: #383838;\n",
              "                }\n",
              "\n",
              "                .geemap-dark .jupyter-button {\n",
              "                    --jp-layout-color3: #383838;\n",
              "                }\n",
              "\n",
              "                .geemap-colab {\n",
              "                    background-color: var(--colab-primary-surface-color, white);\n",
              "                }\n",
              "\n",
              "                .geemap-colab .jupyter-button {\n",
              "                    --jp-layout-color3: var(--colab-primary-surface-color, white);\n",
              "                }\n",
              "            </style>\n",
              "            "
            ]
          },
          "metadata": {}
        }
      ]
    },
    {
      "cell_type": "markdown",
      "source": [
        "\n",
        "\n",
        "*   Drop any rows that might have become blank during conversion\n",
        "\n"
      ],
      "metadata": {
        "id": "1Y4VHOEnBUjW"
      }
    },
    {
      "cell_type": "code",
      "source": [
        "wards.dropna(subset=['Population', 'Area_Hectare'], inplace=True)\n",
        "print(\"Data types cleaned and verified.\")"
      ],
      "metadata": {
        "colab": {
          "base_uri": "https://localhost:8080/",
          "height": 35
        },
        "id": "DwcrHFpjBYrq",
        "outputId": "aeabdc29-b31e-4200-c212-cd0275867b77"
      },
      "execution_count": 83,
      "outputs": [
        {
          "output_type": "display_data",
          "data": {
            "text/plain": [
              "<IPython.core.display.HTML object>"
            ],
            "text/html": [
              "\n",
              "            <style>\n",
              "                .geemap-dark {\n",
              "                    --jp-widgets-color: white;\n",
              "                    --jp-widgets-label-color: white;\n",
              "                    --jp-ui-font-color1: white;\n",
              "                    --jp-layout-color2: #454545;\n",
              "                    background-color: #383838;\n",
              "                }\n",
              "\n",
              "                .geemap-dark .jupyter-button {\n",
              "                    --jp-layout-color3: #383838;\n",
              "                }\n",
              "\n",
              "                .geemap-colab {\n",
              "                    background-color: var(--colab-primary-surface-color, white);\n",
              "                }\n",
              "\n",
              "                .geemap-colab .jupyter-button {\n",
              "                    --jp-layout-color3: var(--colab-primary-surface-color, white);\n",
              "                }\n",
              "            </style>\n",
              "            "
            ]
          },
          "metadata": {}
        },
        {
          "output_type": "stream",
          "name": "stdout",
          "text": [
            "Data types cleaned and verified.\n"
          ]
        }
      ]
    },
    {
      "cell_type": "markdown",
      "source": [
        "### Calculate Population Density"
      ],
      "metadata": {
        "id": "Yq11LBbwBbtb"
      }
    },
    {
      "cell_type": "code",
      "source": [
        "wards['area_sq_km'] = wards['Area_Hectare'] * 0.01\n",
        "wards['pop_density'] = (wards['Population'] / wards['area_sq_km']).round(2)\n",
        "\n",
        "print(wards[['Ward_No', 'Population', 'area_sq_km', 'pop_density']].head())"
      ],
      "metadata": {
        "colab": {
          "base_uri": "https://localhost:8080/",
          "height": 124
        },
        "id": "1I5iGeIKBfjP",
        "outputId": "b3fcd2e9-d472-420e-afc5-a8c80cdaef11"
      },
      "execution_count": 85,
      "outputs": [
        {
          "output_type": "display_data",
          "data": {
            "text/plain": [
              "<IPython.core.display.HTML object>"
            ],
            "text/html": [
              "\n",
              "            <style>\n",
              "                .geemap-dark {\n",
              "                    --jp-widgets-color: white;\n",
              "                    --jp-widgets-label-color: white;\n",
              "                    --jp-ui-font-color1: white;\n",
              "                    --jp-layout-color2: #454545;\n",
              "                    background-color: #383838;\n",
              "                }\n",
              "\n",
              "                .geemap-dark .jupyter-button {\n",
              "                    --jp-layout-color3: #383838;\n",
              "                }\n",
              "\n",
              "                .geemap-colab {\n",
              "                    background-color: var(--colab-primary-surface-color, white);\n",
              "                }\n",
              "\n",
              "                .geemap-colab .jupyter-button {\n",
              "                    --jp-layout-color3: var(--colab-primary-surface-color, white);\n",
              "                }\n",
              "            </style>\n",
              "            "
            ]
          },
          "metadata": {}
        },
        {
          "output_type": "stream",
          "name": "stdout",
          "text": [
            "  Ward_No  Population  area_sq_km  pop_density\n",
            "0      18       28944        5.01      5777.25\n",
            "1      01       52835        5.47      9659.05\n",
            "2      02       31763        3.98      7980.65\n",
            "3      03       30816        3.40      9063.53\n",
            "4      04       18555        1.92      9664.06\n"
          ]
        }
      ]
    },
    {
      "cell_type": "markdown",
      "source": [
        "### Creating the \"Heat Risk Score\"\n",
        "\n"
      ],
      "metadata": {
        "id": "hteE1zpOBqdr"
      }
    },
    {
      "cell_type": "markdown",
      "source": [
        "All the metrics are on different scales\n",
        "\n",
        "*   Temperature (avg_temp) might range from 35°C to 45°C.\n",
        "*   Vegetation (avg_ndvi) ranges from 0.1 to 0.4.\n",
        "\n",
        "*   Population Density (pop_density) could be from 5,000 to 25,000 people/km².\n",
        "\n",
        "\n",
        "\n",
        "\n"
      ],
      "metadata": {
        "id": "A26fEP0yC0r6"
      }
    },
    {
      "cell_type": "code",
      "source": [
        "from sklearn.preprocessing import MinMaxScaler\n",
        "\n",
        "scaler = MinMaxScaler()\n",
        "\n",
        "#This converts each column to a 0-1 scale.\n",
        "#The coolest ward gets a 'temp_norm' of 0, the hottest gets 1.\n",
        "wards['temp_norm'] = scaler.fit_transform(wards[['avg_temp']])\n",
        "#The least green ward gets an 'ndvi_norm' of 0, the greenest gets 1.\n",
        "wards['ndvi_norm'] = scaler.fit_transform(wards[['avg_ndvi']])\n",
        "#The least dense ward gets a 'pop_density_norm' of 0, the densest gets 1.\n",
        "wards['pop_density_norm'] = scaler.fit_transform(wards[['pop_density']])"
      ],
      "metadata": {
        "colab": {
          "base_uri": "https://localhost:8080/",
          "height": 17
        },
        "id": "DfIEIM9-tGwH",
        "outputId": "8f8f2106-7f30-402e-85ae-d9913c3974dc"
      },
      "execution_count": 89,
      "outputs": [
        {
          "output_type": "display_data",
          "data": {
            "text/plain": [
              "<IPython.core.display.HTML object>"
            ],
            "text/html": [
              "\n",
              "            <style>\n",
              "                .geemap-dark {\n",
              "                    --jp-widgets-color: white;\n",
              "                    --jp-widgets-label-color: white;\n",
              "                    --jp-ui-font-color1: white;\n",
              "                    --jp-layout-color2: #454545;\n",
              "                    background-color: #383838;\n",
              "                }\n",
              "\n",
              "                .geemap-dark .jupyter-button {\n",
              "                    --jp-layout-color3: #383838;\n",
              "                }\n",
              "\n",
              "                .geemap-colab {\n",
              "                    background-color: var(--colab-primary-surface-color, white);\n",
              "                }\n",
              "\n",
              "                .geemap-colab .jupyter-button {\n",
              "                    --jp-layout-color3: var(--colab-primary-surface-color, white);\n",
              "                }\n",
              "            </style>\n",
              "            "
            ]
          },
          "metadata": {}
        }
      ]
    },
    {
      "cell_type": "markdown",
      "source": [
        "\n",
        "\n",
        "*   Weighted score\n",
        "\n"
      ],
      "metadata": {
        "id": "d1K2ItDJDkEi"
      }
    },
    {
      "cell_type": "code",
      "source": [
        "#50% of the risk comes from high temperature ,20% from a LACK of greenery ,30% from high population density\n",
        "wards['heat_risk_score'] = (\n",
        "    0.5 * wards['temp_norm'] +\n",
        "    0.2 * (1 - wards['ndvi_norm']) +\n",
        "    0.3 * wards['pop_density_norm']\n",
        ")\n",
        "\n",
        "print(\"Top 5 most at-risk wards:\")\n",
        "print(wards[['Ward_Name', 'heat_risk_score']].sort_values(by='heat_risk_score', ascending=False).head())"
      ],
      "metadata": {
        "colab": {
          "base_uri": "https://localhost:8080/",
          "height": 142
        },
        "id": "LBtperCnDi7o",
        "outputId": "8665c30b-7f4b-46b1-ac87-4be42dc84b49"
      },
      "execution_count": 90,
      "outputs": [
        {
          "output_type": "display_data",
          "data": {
            "text/plain": [
              "<IPython.core.display.HTML object>"
            ],
            "text/html": [
              "\n",
              "            <style>\n",
              "                .geemap-dark {\n",
              "                    --jp-widgets-color: white;\n",
              "                    --jp-widgets-label-color: white;\n",
              "                    --jp-ui-font-color1: white;\n",
              "                    --jp-layout-color2: #454545;\n",
              "                    background-color: #383838;\n",
              "                }\n",
              "\n",
              "                .geemap-dark .jupyter-button {\n",
              "                    --jp-layout-color3: #383838;\n",
              "                }\n",
              "\n",
              "                .geemap-colab {\n",
              "                    background-color: var(--colab-primary-surface-color, white);\n",
              "                }\n",
              "\n",
              "                .geemap-colab .jupyter-button {\n",
              "                    --jp-layout-color3: var(--colab-primary-surface-color, white);\n",
              "                }\n",
              "            </style>\n",
              "            "
            ]
          },
          "metadata": {}
        },
        {
          "output_type": "stream",
          "name": "stdout",
          "text": [
            "Top 5 most at-risk wards:\n",
            "      Ward_Name  heat_risk_score\n",
            "5   Ward No. 05         0.700000\n",
            "10  Ward No. 13         0.679776\n",
            "4   Ward No. 04         0.521117\n",
            "15  Ward No. 19         0.474190\n",
            "1   Ward No. 01         0.467783\n"
          ]
        }
      ]
    },
    {
      "cell_type": "markdown",
      "source": [
        "## Build the Final Interactive Map"
      ],
      "metadata": {
        "id": "YGXPlAAuCYe_"
      }
    },
    {
      "cell_type": "code",
      "source": [
        "map_center = [wards.dissolve().centroid.y, wards.dissolve().centroid.x]\n",
        "#'CartoDB positron' is a clean, black-and-white base map style that lets data stand out.\n",
        "my_map = folium.Map(location=map_center, zoom_start=12, tiles=\"CartoDB positron\")\n",
        "\n",
        "choropleth = folium.Choropleth(\n",
        "    geo_data=wards.to_json(),\n",
        "    data=wards,\n",
        "    #Specifies which columns to use: 'Ward_No' to identify the ward and 'heat_risk_score' to determine its color.\n",
        "    columns=['Ward_No', 'heat_risk_score'],\n",
        "    key_on='feature.properties.Ward_No',\n",
        "    #Sets the color scheme. 'YlOrRd' is a classic heat map palette from Yellow to Orange to Red.\n",
        "    fill_color='YlOrRd',\n",
        "    fill_opacity=0.8,\n",
        "    line_opacity=0.3,\n",
        "    legend_name='Heat Risk Score (Higher is Worse)'\n",
        ").add_to(my_map)\n",
        "\n",
        "folium.GeoJsonTooltip(\n",
        "    fields=['Ward_Name', 'avg_temp', 'avg_ndvi', 'Population', 'pop_density', 'heat_risk_score'],\n",
        "    #User-friendly labels for each of the fields in the tooltip.\n",
        "    aliases=['Ward:', 'Avg Temp (°C):', 'Avg Vegetation:', 'Population (2011):', 'People/km²:', 'Heat Risk Score:'],\n",
        "    style=(\"background-color: white; color: #333333; font-family: arial; font-size: 12px; padding: 10px;\")\n",
        ").add_to(choropleth.geojson)\n",
        "\n",
        "folium.LayerControl().add_to(my_map)\n",
        "\n",
        "map_filename = \"Jamshedpur_Heat_Risk_Map.html\"\n",
        "my_map.save(map_filename)"
      ],
      "metadata": {
        "colab": {
          "base_uri": "https://localhost:8080/",
          "height": 180
        },
        "id": "-OBxWy1lt2Z2",
        "outputId": "368ffe77-f61a-426d-cfa4-352d3fd1c470"
      },
      "execution_count": 61,
      "outputs": [
        {
          "output_type": "display_data",
          "data": {
            "text/plain": [
              "<IPython.core.display.HTML object>"
            ],
            "text/html": [
              "\n",
              "            <style>\n",
              "                .geemap-dark {\n",
              "                    --jp-widgets-color: white;\n",
              "                    --jp-widgets-label-color: white;\n",
              "                    --jp-ui-font-color1: white;\n",
              "                    --jp-layout-color2: #454545;\n",
              "                    background-color: #383838;\n",
              "                }\n",
              "\n",
              "                .geemap-dark .jupyter-button {\n",
              "                    --jp-layout-color3: #383838;\n",
              "                }\n",
              "\n",
              "                .geemap-colab {\n",
              "                    background-color: var(--colab-primary-surface-color, white);\n",
              "                }\n",
              "\n",
              "                .geemap-colab .jupyter-button {\n",
              "                    --jp-layout-color3: var(--colab-primary-surface-color, white);\n",
              "                }\n",
              "            </style>\n",
              "            "
            ]
          },
          "metadata": {}
        },
        {
          "output_type": "stream",
          "name": "stdout",
          "text": [
            "\n",
            "--- Step 3: Building the final interactive map ---\n"
          ]
        },
        {
          "output_type": "stream",
          "name": "stderr",
          "text": [
            "/usr/local/lib/python3.12/dist-packages/folium/utilities.py:103: FutureWarning: Calling float on a single element Series is deprecated and will raise a TypeError in the future. Use float(ser.iloc[0]) instead\n",
            "  float(coord)\n",
            "/usr/local/lib/python3.12/dist-packages/folium/utilities.py:109: FutureWarning: Calling float on a single element Series is deprecated and will raise a TypeError in the future. Use float(ser.iloc[0]) instead\n",
            "  if math.isnan(float(coord)):\n",
            "/usr/local/lib/python3.12/dist-packages/folium/utilities.py:111: FutureWarning: Calling float on a single element Series is deprecated and will raise a TypeError in the future. Use float(ser.iloc[0]) instead\n",
            "  return [float(x) for x in coords]\n"
          ]
        }
      ]
    }
  ]
}